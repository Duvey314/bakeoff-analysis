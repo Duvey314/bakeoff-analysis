{
 "metadata": {
  "language_info": {
   "codemirror_mode": {
    "name": "ipython",
    "version": 3
   },
   "file_extension": ".py",
   "mimetype": "text/x-python",
   "name": "python",
   "nbconvert_exporter": "python",
   "pygments_lexer": "ipython3",
   "version": "3.7.7-final"
  },
  "orig_nbformat": 2,
  "kernelspec": {
   "name": "pythondata",
   "display_name": "PythonData",
   "language": "python"
  }
 },
 "nbformat": 4,
 "nbformat_minor": 2,
 "cells": [
  {
   "cell_type": "code",
   "execution_count": 21,
   "metadata": {},
   "outputs": [],
   "source": [
    "# import dependencies\n",
    "import requests\n",
    "import json\n",
    "import numpy as np\n",
    "import pandas as pd\n",
    "\n",
    "# import api key from config\n",
    "api_key = 'DEMO_KEY'\n"
   ]
  },
  {
   "cell_type": "code",
   "execution_count": 24,
   "metadata": {
    "tags": []
   },
   "outputs": [],
   "source": [
    "# make a call\n",
    "requested_url = 'https://api.nal.usda.gov/fdc/v1/search?api_key='\n",
    "\n",
    "headers = {'Content-Type': 'application/json'}\n",
    "\n",
    "item = 'milk'\n",
    "\n",
    "# pull item in list\n",
    "data = {\"generalSearchInput\": 'butter'}\n",
    "# convert to json format\n",
    "data_str = json.dumps(data).encode(\"utf-8\")\n",
    "\n",
    "# make call\n",
    "response = requests.get(requested_url + api_key + '&query=' + item)\n",
    "\n",
    "parsed = json.loads(response.content)\n"
   ]
  },
  {
   "cell_type": "code",
   "execution_count": 27,
   "metadata": {},
   "outputs": [
    {
     "output_type": "execute_result",
     "data": {
      "text/plain": [
       "1116276"
      ]
     },
     "metadata": {},
     "execution_count": 27
    }
   ],
   "source": [
    "parsed['foods'][0]['fdcId']"
   ]
  },
  {
   "cell_type": "code",
   "execution_count": null,
   "metadata": {},
   "outputs": [],
   "source": []
  }
 ]
}