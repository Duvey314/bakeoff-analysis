{
 "metadata": {
  "language_info": {
   "codemirror_mode": {
    "name": "ipython",
    "version": 3
   },
   "file_extension": ".py",
   "mimetype": "text/x-python",
   "name": "python",
   "nbconvert_exporter": "python",
   "pygments_lexer": "ipython3",
   "version": "3.7.7-final"
  },
  "orig_nbformat": 2,
  "kernelspec": {
   "name": "python3",
   "display_name": "Python 3",
   "language": "python"
  }
 },
 "nbformat": 4,
 "nbformat_minor": 2,
 "cells": [
  {
   "source": [
    "This notbook is used to split the ingredients into multiple columns for easy analysis."
   ],
   "cell_type": "markdown",
   "metadata": {}
  },
  {
   "cell_type": "code",
   "execution_count": 1,
   "metadata": {},
   "outputs": [],
   "source": [
    "# import dependencies\n",
    "import pandas as pd\n",
    "import numpy as np\n",
    "import re"
   ]
  },
  {
   "cell_type": "code",
   "execution_count": 2,
   "metadata": {},
   "outputs": [
    {
     "output_type": "execute_result",
     "data": {
      "text/plain": [
       "<bound method NDFrame.head of                                              title           judge  \\\n",
       "0           Liam Charles’s Yorkshire Pudding Wraps    Liam Charles   \n",
       "1      Rav Gill’s Churros with Banana Butterscotch    Ravneet Gill   \n",
       "2                 Liam Charles’s Mega-Choccy Stack    Liam Charles   \n",
       "3                        Rav Gill’s Tiger Pretzels    Ravneet Gill   \n",
       "4    Liam Charles’s Chocolate Marshmallow Biscuits    Liam Charles   \n",
       "..                                             ...             ...   \n",
       "121                Mary Berry’s Hazelnut Dacquoise  Paul Hollywood   \n",
       "122                       Mary Berry’s Religieuses  Paul Hollywood   \n",
       "123              Paul Hollywood’s Apricot Couronne  Paul Hollywood   \n",
       "124      Mary Berry’s Tuiles with Chocolate Mousse  Paul Hollywood   \n",
       "125                  Mary Berry’s Charlotte Royale  Paul Hollywood   \n",
       "\n",
       "            makes              difficulty hands_on_time baking_time  \\\n",
       "0               2             Needs skill       25 mins     30 mins   \n",
       "1               6             Needs skill       30 mins     25 mins   \n",
       "2               4             Needs skill       40 mins     14 mins   \n",
       "3               4             Needs skill       45 mins     15 mins   \n",
       "4               4             Needs skill       45 mins     12 mins   \n",
       "..            ...                     ...           ...         ...   \n",
       "121            12  30 mins, plus chilling    25–30 mins     18 mins   \n",
       "122             8  30 mins, plus chilling    25–30 mins     18 mins   \n",
       "123  1 large loaf  30 mins, plus chilling    25–30 mins     18 mins   \n",
       "124             8  30 mins, plus chilling    25–30 mins     18 mins   \n",
       "125         10-12  30 mins, plus chilling    25–30 mins     18 mins   \n",
       "\n",
       "                                           ingredients  \\\n",
       "0    [<p>100g plain flour</p>, <p>2 large eggs</p>,...   \n",
       "1    [<p>20g caster sugar</p>, <p>75g unsalted butt...   \n",
       "2    [<p>120ml olive oil</p>, <p>1 tsp vanilla past...   \n",
       "3    [<p>180ml warm water </p>, <p>4g active dried ...   \n",
       "4    [<p>50g plain flour, plus extra for dusting</p...   \n",
       "..                                                 ...   \n",
       "121  [<p>250g blanched (skinned) whole hazelnuts</p...   \n",
       "122  [<p>60g unsalted butter, cubed</p>, <p>150ml w...   \n",
       "123  [<p>250g strong white bread flour</p>, <p>5g s...   \n",
       "124  [<p>200g unsalted butter, softened</p>, <p>180...   \n",
       "125  [<p>400g strawberries, hulled and chopped</p>,...   \n",
       "\n",
       "                                          recipe_image  \\\n",
       "0    https://thegreatbritishbakeoff.co.uk/wp-conten...   \n",
       "1    https://thegreatbritishbakeoff.co.uk/wp-conten...   \n",
       "2    https://thegreatbritishbakeoff.co.uk/wp-conten...   \n",
       "3    https://thegreatbritishbakeoff.co.uk/wp-conten...   \n",
       "4    https://thegreatbritishbakeoff.co.uk/wp-conten...   \n",
       "..                                                 ...   \n",
       "121  https://thegreatbritishbakeoff.co.uk/wp-conten...   \n",
       "122  https://thegreatbritishbakeoff.co.uk/wp-conten...   \n",
       "123  https://thegreatbritishbakeoff.co.uk/wp-conten...   \n",
       "124  https://thegreatbritishbakeoff.co.uk/wp-conten...   \n",
       "125  https://thegreatbritishbakeoff.co.uk/wp-conten...   \n",
       "\n",
       "                                           judge_image  \n",
       "0    https://thegreatbritishbakeoff.co.uk/wp-conten...  \n",
       "1    https://thegreatbritishbakeoff.co.uk/wp-conten...  \n",
       "2    https://thegreatbritishbakeoff.co.uk/wp-conten...  \n",
       "3    https://thegreatbritishbakeoff.co.uk/wp-conten...  \n",
       "4    https://thegreatbritishbakeoff.co.uk/wp-conten...  \n",
       "..                                                 ...  \n",
       "121  https://thegreatbritishbakeoff.co.uk/wp-conten...  \n",
       "122  https://thegreatbritishbakeoff.co.uk/wp-conten...  \n",
       "123  https://thegreatbritishbakeoff.co.uk/wp-conten...  \n",
       "124  https://thegreatbritishbakeoff.co.uk/wp-conten...  \n",
       "125  https://thegreatbritishbakeoff.co.uk/wp-conten...  \n",
       "\n",
       "[126 rows x 9 columns]>"
      ]
     },
     "metadata": {},
     "execution_count": 2
    }
   ],
   "source": [
    "# import the raw csv\n",
    "recipes_df_raw = pd.read_csv('technical_list.csv')\n",
    "recipes_df = recipes_df_raw.copy()\n",
    "recipes_df_raw.head"
   ]
  },
  {
   "cell_type": "code",
   "execution_count": 3,
   "metadata": {
    "tags": []
   },
   "outputs": [],
   "source": [
    "# # Make a function to remove p tags from the list\n",
    "# def remove_tags(ingredients):\n",
    "#         clean_ingredients = ingredients.replace('<p>','').replace('</p>','')\n",
    "#         return clean_ingredients\n",
    "\n",
    "# # iterate through each ingredient list and remove p tags.\n",
    "# # no longer needed\n",
    "# ingredients = recipes_df_raw['ingredients']\n",
    "# recipes_no_tags = recipes_df_raw.copy()\n",
    "# recipes_no_tags['ingredients_clean'] = ''\n",
    "# for i in range(len(ingredients)):\n",
    "#     ingredient_list = ingredients[i]\n",
    "#     clean_list = remove_tags(ingredient_list)\n",
    "#     recipes_no_tags['ingredients_clean'][i] = clean_list\n",
    "# print(recipes_no_tags['ingredients_clean'])"
   ]
  },
  {
   "cell_type": "code",
   "execution_count": 91,
   "metadata": {},
   "outputs": [],
   "source": [
    "# Formats for ingredients\n",
    "# 1g unsalted butter\n",
    "# 1 tsp vanilla extract\n",
    "# slivered pistachios\n",
    "# 2 large eggs\n",
    "# 2 dill pickles, quartered lengthways\n",
    "# juice of 1/2 lemon\n",
    "\n",
    "def split_ingredient(ingredient):\n",
    "    '''\n",
    "    The split_ingredients funcion takes an ingredient list with each ingredient inside a <p></p> tag. The \n",
    "    '''\n",
    "    comment = 'none'\n",
    "\n",
    "    # if the ingredient contains a comment (need to deal when the comment is before the recipe like in 50)\n",
    "    if ',' in ingredient:\n",
    "        comment = ingredient.split(',')[1]\n",
    "        ingredient = ingredient.split(',')[0]\n",
    "\n",
    "    # if ingredient is eggs\n",
    "    if 'egg' in ingredient:\n",
    "        quantity = re.findall('\\d+', ingredient)\n",
    "        measurement = re.findall('\\d+(.*) ', ingredient)\n",
    "        return 'it has eggs yo'\n",
    "    #if the ingredient contains no numbers\n",
    "\n",
    "\n",
    "    # if measurement is weight or volume\n",
    "    elif re.match('^\\d+[a-zA-Z]',ingredient) is not None:\n",
    "        quantity = re.findall('\\d+', ingredient)[0]\n",
    "        measurement = re.findall('^\\d+([a-zA-Z]+) ', ingredient)[0]\n",
    "        item = re.findall('\\d+[a-zA-Z]+ (.*)', ingredient)[0]\n",
    "        \n",
    "    # if ingredient uses tsp or tbsp\n",
    "    elif 'tbsp' in ingredient: \n",
    "        quantity = ingredient.split(' ',1)[0]\n",
    "        measurement = ingredient.split(' ',1)[1]\n",
    "        item = re.findall('tbsp (.*)', ingredient)[0]\n",
    "\n",
    "    elif 'tsp' in ingredient:\n",
    "        quantity = ingredient.split(' ')[0]\n",
    "        measurement = ingredient.split(' ')[1]\n",
    "        item = re.findall('tsp (.*)', ingredient)[0]\n",
    "\n",
    "\n",
    "    # if if ingredient is juice of\n",
    "    else:\n",
    "        return ingredient\n",
    "    \n",
    "    ingredient_list_split = [quantity, measurement, item, comment]\n",
    "    return ingredient_list_split"
   ]
  },
  {
   "cell_type": "code",
   "execution_count": 5,
   "metadata": {},
   "outputs": [],
   "source": [
    "# still need to deal with line 22 in the csv with the <br>\n",
    "def seperate_ingredients(ingredient_string):\n",
    "    '''\n",
    "    The seperate_ingredients funcion takes an ingredient list with each ingredient inside a <p></p> tag and returns a list containing all the ingredients\n",
    "    '''\n",
    "    ingredient_list = re.findall('<p>(.*?)</p>', ingredient_string)\n",
    "    return ingredient_list"
   ]
  },
  {
   "cell_type": "code",
   "execution_count": 19,
   "metadata": {},
   "outputs": [
    {
     "output_type": "stream",
     "name": "stdout",
     "text": [
      "['200', 'ml', 'whole milk']\n"
     ]
    }
   ],
   "source": [
    "test_ingredient = '200ml whole milk'\n",
    "print(split_ingredient(test_ingredient))"
   ]
  },
  {
   "cell_type": "code",
   "execution_count": 93,
   "metadata": {},
   "outputs": [
    {
     "output_type": "stream",
     "name": "stdout",
     "text": [
      "['150', 'g', 'chilled butter', 'none']\n['450', 'g', 'plain flour', 'none']\n['110', 'g', 'caster sugar', 'none']\n['3', 'tsp', 'baking powder', 'none']\n['3', 'tsp', 'baking soda', 'none']\npinch of salt\n['260', 'ml', 'whole milk', 'none']\n['600', 'g', 'strawberries', 'none']\n['300', 'ml', 'double cream', 'none']\n['30', 'g', 'icing sugar', 'none']\ndash of vanilla essence\nicing sugar\n"
     ]
    }
   ],
   "source": [
    "ingredient_list = seperate_ingredients(recipes_df['ingredients'][104])\n",
    "for i in ingredient_list:\n",
    "    print(split_ingredient(i))"
   ]
  },
  {
   "cell_type": "code",
   "execution_count": 94,
   "metadata": {},
   "outputs": [
    {
     "output_type": "execute_result",
     "data": {
      "text/plain": [
       "'[<p>150g chilled butter</p>, <p>450g plain flour</p>, <p>110g caster sugar</p>, <p>3 tsp baking powder</p>, <p>3 tsp baking soda</p>, <p>pinch of salt</p>, <p>260ml whole milk</p>, <p>600g strawberries</p>, <p>300ml double cream</p>, <p>30g icing sugar</p>, <p>dash of vanilla essence</p>, <p>icing sugar, to dust</p>]'"
      ]
     },
     "metadata": {},
     "execution_count": 94
    }
   ],
   "source": [
    "recipes_df['ingredients'][104]"
   ]
  },
  {
   "cell_type": "code",
   "execution_count": null,
   "metadata": {},
   "outputs": [],
   "source": []
  }
 ]
}