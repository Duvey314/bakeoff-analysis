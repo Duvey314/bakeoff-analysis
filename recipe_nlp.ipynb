{
 "metadata": {
  "language_info": {
   "codemirror_mode": {
    "name": "ipython",
    "version": 3
   },
   "file_extension": ".py",
   "mimetype": "text/x-python",
   "name": "python",
   "nbconvert_exporter": "python",
   "pygments_lexer": "ipython3",
   "version": "3.7.7-final"
  },
  "orig_nbformat": 2,
  "kernelspec": {
   "name": "python3",
   "display_name": "Python 3",
   "language": "python"
  }
 },
 "nbformat": 4,
 "nbformat_minor": 2,
 "cells": [
  {
   "source": [
    "# NLP and Nutition Information\n",
    "This notebook is used to get nutrition information such as Fat, Calories, Sugar, Carbohydrates, and Protein."
   ],
   "cell_type": "markdown",
   "metadata": {}
  },
  {
   "source": [
    "# import dependencies\n",
    "import pandas as pd\n",
    "import numpy as np\n",
    "import re\n",
    "from re import search\n",
    "\n",
    "# import dependencies\n",
    "import requests\n",
    "import json"
   ],
   "cell_type": "code",
   "metadata": {},
   "execution_count": 39,
   "outputs": []
  },
  {
   "cell_type": "code",
   "execution_count": 27,
   "metadata": {},
   "outputs": [
    {
     "output_type": "execute_result",
     "data": {
      "text/plain": [
       "<bound method NDFrame.head of                                                  title           judge  \\\n",
       "0                   Rav Gill’s Macaron Snack-Cessories    Ravneet Gill   \n",
       "1    Liam Charles’s Biscuit Card Tower & Deck of Cards    Liam Charles   \n",
       "2                 Rav Gill’s Cherry & Almond Deco Roll    Ravneet Gill   \n",
       "3               Liam Charles’s Yorkshire Pudding Wraps    Liam Charles   \n",
       "4          Rav Gill’s Churros with Banana Butterscotch    Ravneet Gill   \n",
       "..                                                 ...             ...   \n",
       "124                    Mary Berry’s Hazelnut Dacquoise  Paul Hollywood   \n",
       "125                           Mary Berry’s Religieuses  Paul Hollywood   \n",
       "126                  Paul Hollywood’s Apricot Couronne  Paul Hollywood   \n",
       "127          Mary Berry’s Tuiles with Chocolate Mousse  Paul Hollywood   \n",
       "128                      Mary Berry’s Charlotte Royale  Paul Hollywood   \n",
       "\n",
       "            makes              difficulty hands_on_time baking_time  \\\n",
       "0               8             Needs skill       50 mins     30 mins   \n",
       "1              12             Needs skill       45 mins     15 mins   \n",
       "2               6             Needs skill       50 mins     10 mins   \n",
       "3               2             Needs skill       25 mins     30 mins   \n",
       "4               6             Needs skill       30 mins     25 mins   \n",
       "..            ...                     ...           ...         ...   \n",
       "124            12  30 mins, plus chilling    25–30 mins     18 mins   \n",
       "125             8  30 mins, plus chilling    25–30 mins     18 mins   \n",
       "126  1 large loaf  30 mins, plus chilling    25–30 mins     18 mins   \n",
       "127             8  30 mins, plus chilling    25–30 mins     18 mins   \n",
       "128         10-12  30 mins, plus chilling    25–30 mins     18 mins   \n",
       "\n",
       "                                           ingredients  \\\n",
       "0    [<h5>For the macarons:</h5>, <p>150g ground al...   \n",
       "1    [<h5>For the gingerbread:</h5>, <p>225g plain ...   \n",
       "2    [<h5>For the filling:</h5>, <p>2 tsp powdered ...   \n",
       "3    [<h5>For the batter:</h5>, <p>100g plain flour...   \n",
       "4    [<h5>For the churros:</h5>, <p>20g caster suga...   \n",
       "..                                                 ...   \n",
       "124  [<h5>For the dacquoise:</h5>, <p>250g blanched...   \n",
       "125  [<h5>For the choux pastry:</h5>, <p>60g unsalt...   \n",
       "126  [<h5>For the dough:</h5>, <p>250g strong white...   \n",
       "127  [<h5>For the tuiles:</h5>, <p>200g unsalted bu...   \n",
       "128  [<h5>For the jam:</h5>, <p>400g strawberries, ...   \n",
       "\n",
       "                                          recipe_image  \\\n",
       "0    https://thegreatbritishbakeoff.co.uk/wp-conten...   \n",
       "1    https://thegreatbritishbakeoff.co.uk/wp-conten...   \n",
       "2    https://thegreatbritishbakeoff.co.uk/wp-conten...   \n",
       "3    https://thegreatbritishbakeoff.co.uk/wp-conten...   \n",
       "4    https://thegreatbritishbakeoff.co.uk/wp-conten...   \n",
       "..                                                 ...   \n",
       "124  https://thegreatbritishbakeoff.co.uk/wp-conten...   \n",
       "125  https://thegreatbritishbakeoff.co.uk/wp-conten...   \n",
       "126  https://thegreatbritishbakeoff.co.uk/wp-conten...   \n",
       "127  https://thegreatbritishbakeoff.co.uk/wp-conten...   \n",
       "128  https://thegreatbritishbakeoff.co.uk/wp-conten...   \n",
       "\n",
       "                                           judge_image  \n",
       "0    https://thegreatbritishbakeoff.co.uk/wp-conten...  \n",
       "1    https://thegreatbritishbakeoff.co.uk/wp-conten...  \n",
       "2    https://thegreatbritishbakeoff.co.uk/wp-conten...  \n",
       "3    https://thegreatbritishbakeoff.co.uk/wp-conten...  \n",
       "4    https://thegreatbritishbakeoff.co.uk/wp-conten...  \n",
       "..                                                 ...  \n",
       "124  https://thegreatbritishbakeoff.co.uk/wp-conten...  \n",
       "125  https://thegreatbritishbakeoff.co.uk/wp-conten...  \n",
       "126  https://thegreatbritishbakeoff.co.uk/wp-conten...  \n",
       "127  https://thegreatbritishbakeoff.co.uk/wp-conten...  \n",
       "128  https://thegreatbritishbakeoff.co.uk/wp-conten...  \n",
       "\n",
       "[129 rows x 9 columns]>"
      ]
     },
     "metadata": {},
     "execution_count": 27
    }
   ],
   "source": [
    "# import the raw csv\n",
    "recipes_df_raw = pd.read_csv('technical_list.csv', encoding=\"utf-8\")\n",
    "recipes_df = recipes_df_raw.copy()\n",
    "recipes_df_raw.head"
   ]
  },
  {
   "cell_type": "code",
   "execution_count": 29,
   "metadata": {},
   "outputs": [],
   "source": [
    "# Formats for ingredients\n",
    "# 1g unsalted butter\n",
    "# 1 tsp vanilla extract\n",
    "# slivered pistachios\n",
    "# 2 large eggs\n",
    "# 2 dill pickles, quartered lengthways\n",
    "# juice of 1/2 lemon\n",
    "\n",
    "def split_ingredient(ingredient):\n",
    "    '''\n",
    "    The split_ingredients funcion takes an ingredient in a string format. The function then splits the ingredient into quantity, measurement, and any comments like temperature.\n",
    "    '''\n",
    "    comment = 'na'\n",
    "    quantity = 'na'\n",
    "    measurement = 'na'\n",
    "    item = 'na'\n",
    "\n",
    "    # if the ingredient contains a comment (need to deal when the comment is before the recipe, like in 50)\n",
    "    if ',' in ingredient:\n",
    "        comment = ingredient.split(',')[1]\n",
    "        ingredient = ingredient.split(',')[0]\n",
    "\n",
    "    # if ingredient is eggs\n",
    "    if 'egg' in ingredient:\n",
    "        quantity = re.findall('\\d+', ingredient)\n",
    "        measurement = re.findall('\\d+(.*) ', ingredient)\n",
    "        return 'it has eggs yo'\n",
    "\n",
    "    #if the ingredient contains no numbers\n",
    "\n",
    "\n",
    "    # if measurement is weight or volume\n",
    "    elif re.match('^\\d+[a-zA-Z]',ingredient) is not None:\n",
    "        quantity = re.findall('\\d+', ingredient)[0]\n",
    "        measurement = re.findall('^\\d+([a-zA-Z]+) ', ingredient)[0]\n",
    "        item = re.findall('\\d+[a-zA-Z]+ (.*)', ingredient)[0]\n",
    "\n",
    "    # Juice of (still need zest of)\n",
    "    elif 'juice of' in ingredient:\n",
    "        item = re.findall('juice of [^a-z]+([a-z ]+)', ingredient, re.IGNORECASE)[0]\n",
    "        if 'zest' in ingredient:\n",
    "            comment = 'juice and zest'\n",
    "        else:\n",
    "            comment = 'juice'\n",
    "        if re.findall('[0-9]+', ingredient) is not None:\n",
    "            quantity = re.findall('[0-9]+', ingredient)[0]\n",
    "        else:\n",
    "            quantity = '1'\n",
    "\n",
    "\n",
    "    # if ingredient uses tsp or tbsp\n",
    "    elif 'tbsp' in ingredient: \n",
    "        quantity = ingredient.split(' ',1)[0]\n",
    "        measurement = 'tbsp'\n",
    "        item = re.findall('tbsp (.*)', ingredient)[0]\n",
    "\n",
    "    elif 'tsp' in ingredient:\n",
    "        quantity = ingredient.split(' ')[0]\n",
    "        measurement = 'tsp'\n",
    "        item = re.findall('tsp (.*)', ingredient)[0]\n",
    "    \n",
    "    # if it just a number and ingredient (2 pickles)\n",
    "    elif re.match('^[0-9]+/*[0-9]* ', ingredient) is not None:\n",
    "        quantity = re.findall('^([0-9]+/*[0-9]*)', ingredient)[0]\n",
    "        item = re.findall('^[0-9]+/*[0-9]* (.*)', ingredient)[0]\n",
    "    \n",
    "    # a pinch of something\n",
    "    elif search('pinch', ingredient) is not None:\n",
    "        measurement = re.findall('(.*pinch)', ingredient)[0]\n",
    "        item = re.findall('.*pinch of (.*)', ingredient)[0]\n",
    "        if re.match('^[0-9]', ingredient) is not None:\n",
    "            quantity = re.findall('^([0-9])', ingredient)[0]\n",
    "\n",
    "    # Other\n",
    "    else:\n",
    "        return ingredient\n",
    "    \n",
    "    # format into dict\n",
    "    ingredient_list_split = {'quantity':quantity, 'measurement':measurement, 'ingredient':item, 'comment':comment}\n",
    "    \n",
    "    return ingredient_list_split"
   ]
  },
  {
   "cell_type": "code",
   "execution_count": 30,
   "metadata": {},
   "outputs": [],
   "source": [
    "# still need to deal with line 22 in the csv with the <br>\n",
    "def seperate_ingredients(ingredient_string):\n",
    "    '''\n",
    "    The seperate_ingredients funcion takes an ingredient list with each ingredient inside a <p></p> tag and returns a list containing all the ingredients in a string format.\n",
    "    '''\n",
    "    ingredient_list = re.findall('<p>(.*?)</p>', ingredient_string)\n",
    "    \n",
    "    return ingredient_list"
   ]
  },
  {
   "cell_type": "code",
   "execution_count": 54,
   "metadata": {},
   "outputs": [
    {
     "output_type": "stream",
     "name": "stdout",
     "text": [
      "whole milk\n"
     ]
    }
   ],
   "source": [
    "test_ingredient = '200ml whole milk'\n",
    "test_ingredient_split = (split_ingredient(test_ingredient))\n",
    "test_item = test_ingredient_split['ingredient']\n",
    "print(test_item)"
   ]
  },
  {
   "source": [
    "# Nutrtion API"
   ],
   "cell_type": "markdown",
   "metadata": {}
  },
  {
   "cell_type": "code",
   "execution_count": 59,
   "metadata": {},
   "outputs": [],
   "source": [
    "# set api key\n",
    "api_key = 'DEMO_KEY'\n",
    "\n",
    "def get_fdcid (food_item):\n",
    "    '''\n",
    "    Gets the fdcid for a food. Uses the first foundation item found.\n",
    "    '''\n",
    "    # create base URL\n",
    "    search_request_url = 'https://api.nal.usda.gov/fdc/v1/search?api_key='\n",
    "\n",
    "    # make call\n",
    "    response = requests.get(f'{search_request_url}{api_key}&query={food_item}&dataType=Foundation')\n",
    "\n",
    "    # parse the returned JSON\n",
    "    parsed = json.loads(response.content)\n",
    "\n",
    "    # Select first fdcId\n",
    "    fdcId = parsed['foods'][0]['fdcId']\n",
    "\n",
    "    return(fdcId)\n"
   ]
  },
  {
   "cell_type": "code",
   "execution_count": 58,
   "metadata": {
    "tags": []
   },
   "outputs": [
    {
     "output_type": "stream",
     "name": "stdout",
     "text": [
      "746766\n"
     ]
    }
   ],
   "source": [
    "print(get_fdcid('whole milk'))"
   ]
  },
  {
   "cell_type": "code",
   "execution_count": null,
   "metadata": {},
   "outputs": [],
   "source": [
    "def get_macros(item_fdcid):\n",
    "    # make a call\n",
    "    requested_nutr_url = f'https://api.nal.usda.gov/fdc/v1/food/'\n",
    "\n",
    "    # make call\n",
    "    response = requests.get(f'{requested_nutr_url}{fdcId}?api_key={api_key}')\n",
    "\n",
    "    # parse the returned json\n",
    "    parsed_nutr = json.loads(response.content)\n",
    "\n",
    "    \n",
    "\n"
   ]
  },
  {
   "cell_type": "code",
   "execution_count": 33,
   "metadata": {
    "tags": []
   },
   "outputs": [
    {
     "output_type": "error",
     "ename": "IndexError",
     "evalue": "list index out of range",
     "traceback": [
      "\u001b[1;31m---------------------------------------------------------------------------\u001b[0m",
      "\u001b[1;31mIndexError\u001b[0m                                Traceback (most recent call last)",
      "\u001b[1;32m<ipython-input-33-53f4112fcf6f>\u001b[0m in \u001b[0;36m<module>\u001b[1;34m\u001b[0m\n\u001b[0;32m      4\u001b[0m     \u001b[0mingredients\u001b[0m \u001b[1;33m=\u001b[0m \u001b[1;33m[\u001b[0m\u001b[1;33m]\u001b[0m\u001b[1;33m\u001b[0m\u001b[1;33m\u001b[0m\u001b[0m\n\u001b[0;32m      5\u001b[0m     \u001b[1;32mfor\u001b[0m \u001b[0mingredient\u001b[0m \u001b[1;32min\u001b[0m \u001b[0mingredient_list\u001b[0m\u001b[1;33m:\u001b[0m\u001b[1;33m\u001b[0m\u001b[1;33m\u001b[0m\u001b[0m\n\u001b[1;32m----> 6\u001b[1;33m         \u001b[0mingredients\u001b[0m\u001b[1;33m.\u001b[0m\u001b[0mappend\u001b[0m\u001b[1;33m(\u001b[0m\u001b[0msplit_ingredient\u001b[0m\u001b[1;33m(\u001b[0m\u001b[0mingredient\u001b[0m\u001b[1;33m)\u001b[0m\u001b[1;33m)\u001b[0m\u001b[1;33m\u001b[0m\u001b[1;33m\u001b[0m\u001b[0m\n\u001b[0m\u001b[0;32m      7\u001b[0m \u001b[1;33m\u001b[0m\u001b[0m\n\u001b[0;32m      8\u001b[0m     \u001b[0mrecipes_df\u001b[0m\u001b[1;33m[\u001b[0m\u001b[1;34m'ing_split'\u001b[0m\u001b[1;33m]\u001b[0m\u001b[1;33m[\u001b[0m\u001b[0mi\u001b[0m\u001b[1;33m]\u001b[0m \u001b[1;33m=\u001b[0m \u001b[0mingredients\u001b[0m\u001b[1;33m\u001b[0m\u001b[1;33m\u001b[0m\u001b[0m\n",
      "\u001b[1;32m<ipython-input-29-6c6d4c1aa146>\u001b[0m in \u001b[0;36msplit_ingredient\u001b[1;34m(ingredient)\u001b[0m\n\u001b[0;32m     57\u001b[0m         \u001b[0mquantity\u001b[0m \u001b[1;33m=\u001b[0m \u001b[0mingredient\u001b[0m\u001b[1;33m.\u001b[0m\u001b[0msplit\u001b[0m\u001b[1;33m(\u001b[0m\u001b[1;34m' '\u001b[0m\u001b[1;33m)\u001b[0m\u001b[1;33m[\u001b[0m\u001b[1;36m0\u001b[0m\u001b[1;33m]\u001b[0m\u001b[1;33m\u001b[0m\u001b[1;33m\u001b[0m\u001b[0m\n\u001b[0;32m     58\u001b[0m         \u001b[0mmeasurement\u001b[0m \u001b[1;33m=\u001b[0m \u001b[1;34m'tsp'\u001b[0m\u001b[1;33m\u001b[0m\u001b[1;33m\u001b[0m\u001b[0m\n\u001b[1;32m---> 59\u001b[1;33m         \u001b[0mitem\u001b[0m \u001b[1;33m=\u001b[0m \u001b[0mre\u001b[0m\u001b[1;33m.\u001b[0m\u001b[0mfindall\u001b[0m\u001b[1;33m(\u001b[0m\u001b[1;34m'tsp (.*)'\u001b[0m\u001b[1;33m,\u001b[0m \u001b[0mingredient\u001b[0m\u001b[1;33m)\u001b[0m\u001b[1;33m[\u001b[0m\u001b[1;36m0\u001b[0m\u001b[1;33m]\u001b[0m\u001b[1;33m\u001b[0m\u001b[1;33m\u001b[0m\u001b[0m\n\u001b[0m\u001b[0;32m     60\u001b[0m \u001b[1;33m\u001b[0m\u001b[0m\n\u001b[0;32m     61\u001b[0m     \u001b[1;31m# if it just a number and ingredient (2 pickles)\u001b[0m\u001b[1;33m\u001b[0m\u001b[1;33m\u001b[0m\u001b[1;33m\u001b[0m\u001b[0m\n",
      "\u001b[1;31mIndexError\u001b[0m: list index out of range"
     ]
    }
   ],
   "source": [
    "recipes_df['ing_split'] = \"\"\n",
    "for i in range(recipes_df.size):\n",
    "    ingredient_list = seperate_ingredients(recipes_df['ingredients'][i])\n",
    "    ingredients = []\n",
    "    for ingredient in ingredient_list:\n",
    "        ingredients.append(split_ingredient(ingredient))\n",
    "    \n",
    "    recipes_df['ing_split'][i] = ingredients"
   ]
  },
  {
   "cell_type": "code",
   "execution_count": 38,
   "metadata": {},
   "outputs": [
    {
     "output_type": "stream",
     "name": "stdout",
     "text": [
      "it has eggs yo\n{'quantity': '225', 'measurement': 'g', 'ingredient': 'caster sugar', 'comment': ' plus extra for sprinkling'}\n{'quantity': '225', 'measurement': 'g', 'ingredient': 'self-raising flour', 'comment': 'na'}\n{'quantity': '1', 'measurement': 'tsp', 'ingredient': 'baking powder', 'comment': 'na'}\n{'quantity': '225', 'measurement': 'g', 'ingredient': 'unsalted butter', 'comment': ' softened'}\n"
     ]
    }
   ],
   "source": [
    "ingredient_list = seperate_ingredients(recipes_df['ingredients'][90])\n",
    "for i in ingredient_list:\n",
    "    print(split_ingredient(i))"
   ]
  },
  {
   "cell_type": "code",
   "execution_count": 18,
   "metadata": {},
   "outputs": [
    {
     "output_type": "execute_result",
     "data": {
      "text/plain": [
       "'[<p>375g strong white bread flour </p>, <p>5g fast-action dried yeast</p>, <p>2 tsp caster sugar</p>, <p>1 tsp fine salt</p>, <p>240ml lukewarm water </p>, <p>Red, orange, yellow, green and blue food-colouring paste</p>, <p>1 tsp bicarbonate of soda </p>]'"
      ]
     },
     "metadata": {},
     "execution_count": 18
    }
   ],
   "source": [
    "recipes_df['ingredients'][23]"
   ]
  }
 ]
}