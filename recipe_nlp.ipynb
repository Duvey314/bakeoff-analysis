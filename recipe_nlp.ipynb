{
 "metadata": {
  "language_info": {
   "codemirror_mode": {
    "name": "ipython",
    "version": 3
   },
   "file_extension": ".py",
   "mimetype": "text/x-python",
   "name": "python",
   "nbconvert_exporter": "python",
   "pygments_lexer": "ipython3",
   "version": "3.7.7-final"
  },
  "orig_nbformat": 2,
  "kernelspec": {
   "name": "python3",
   "display_name": "Python 3",
   "language": "python"
  }
 },
 "nbformat": 4,
 "nbformat_minor": 2,
 "cells": [
  {
   "source": [
    "This notbook is used to split the ingredients into multiple columns for easy analysis."
   ],
   "cell_type": "markdown",
   "metadata": {}
  },
  {
   "cell_type": "code",
   "execution_count": 14,
   "metadata": {},
   "outputs": [],
   "source": [
    "# import dependencies\n",
    "import pandas as pd\n",
    "import numpy as np\n",
    "import re"
   ]
  },
  {
   "cell_type": "code",
   "execution_count": 5,
   "metadata": {},
   "outputs": [
    {
     "output_type": "execute_result",
     "data": {
      "text/plain": [
       "<bound method NDFrame.head of                                              title           judge  \\\n",
       "0           Liam Charles’s Yorkshire Pudding Wraps    Liam Charles   \n",
       "1      Rav Gill’s Churros with Banana Butterscotch    Ravneet Gill   \n",
       "2                 Liam Charles’s Mega-Choccy Stack    Liam Charles   \n",
       "3                        Rav Gill’s Tiger Pretzels    Ravneet Gill   \n",
       "4    Liam Charles’s Chocolate Marshmallow Biscuits    Liam Charles   \n",
       "..                                             ...             ...   \n",
       "121                Mary Berry’s Hazelnut Dacquoise  Paul Hollywood   \n",
       "122                       Mary Berry’s Religieuses  Paul Hollywood   \n",
       "123              Paul Hollywood’s Apricot Couronne  Paul Hollywood   \n",
       "124      Mary Berry’s Tuiles with Chocolate Mousse  Paul Hollywood   \n",
       "125                  Mary Berry’s Charlotte Royale  Paul Hollywood   \n",
       "\n",
       "            makes              difficulty hands_on_time baking_time  \\\n",
       "0               2             Needs skill       25 mins     30 mins   \n",
       "1               6             Needs skill       30 mins     25 mins   \n",
       "2               4             Needs skill       40 mins     14 mins   \n",
       "3               4             Needs skill       45 mins     15 mins   \n",
       "4               4             Needs skill       45 mins     12 mins   \n",
       "..            ...                     ...           ...         ...   \n",
       "121            12  30 mins, plus chilling    25–30 mins     18 mins   \n",
       "122             8  30 mins, plus chilling    25–30 mins     18 mins   \n",
       "123  1 large loaf  30 mins, plus chilling    25–30 mins     18 mins   \n",
       "124             8  30 mins, plus chilling    25–30 mins     18 mins   \n",
       "125         10-12  30 mins, plus chilling    25–30 mins     18 mins   \n",
       "\n",
       "                                           ingredients  \\\n",
       "0    [<p>100g plain flour</p>, <p>2 large eggs</p>,...   \n",
       "1    [<p>20g caster sugar</p>, <p>75g unsalted butt...   \n",
       "2    [<p>120ml olive oil</p>, <p>1 tsp vanilla past...   \n",
       "3    [<p>180ml warm water </p>, <p>4g active dried ...   \n",
       "4    [<p>50g plain flour, plus extra for dusting</p...   \n",
       "..                                                 ...   \n",
       "121  [<p>250g blanched (skinned) whole hazelnuts</p...   \n",
       "122  [<p>60g unsalted butter, cubed</p>, <p>150ml w...   \n",
       "123  [<p>250g strong white bread flour</p>, <p>5g s...   \n",
       "124  [<p>200g unsalted butter, softened</p>, <p>180...   \n",
       "125  [<p>400g strawberries, hulled and chopped</p>,...   \n",
       "\n",
       "                                          recipe_image  \\\n",
       "0    https://thegreatbritishbakeoff.co.uk/wp-conten...   \n",
       "1    https://thegreatbritishbakeoff.co.uk/wp-conten...   \n",
       "2    https://thegreatbritishbakeoff.co.uk/wp-conten...   \n",
       "3    https://thegreatbritishbakeoff.co.uk/wp-conten...   \n",
       "4    https://thegreatbritishbakeoff.co.uk/wp-conten...   \n",
       "..                                                 ...   \n",
       "121  https://thegreatbritishbakeoff.co.uk/wp-conten...   \n",
       "122  https://thegreatbritishbakeoff.co.uk/wp-conten...   \n",
       "123  https://thegreatbritishbakeoff.co.uk/wp-conten...   \n",
       "124  https://thegreatbritishbakeoff.co.uk/wp-conten...   \n",
       "125  https://thegreatbritishbakeoff.co.uk/wp-conten...   \n",
       "\n",
       "                                           judge_image  \n",
       "0    https://thegreatbritishbakeoff.co.uk/wp-conten...  \n",
       "1    https://thegreatbritishbakeoff.co.uk/wp-conten...  \n",
       "2    https://thegreatbritishbakeoff.co.uk/wp-conten...  \n",
       "3    https://thegreatbritishbakeoff.co.uk/wp-conten...  \n",
       "4    https://thegreatbritishbakeoff.co.uk/wp-conten...  \n",
       "..                                                 ...  \n",
       "121  https://thegreatbritishbakeoff.co.uk/wp-conten...  \n",
       "122  https://thegreatbritishbakeoff.co.uk/wp-conten...  \n",
       "123  https://thegreatbritishbakeoff.co.uk/wp-conten...  \n",
       "124  https://thegreatbritishbakeoff.co.uk/wp-conten...  \n",
       "125  https://thegreatbritishbakeoff.co.uk/wp-conten...  \n",
       "\n",
       "[126 rows x 9 columns]>"
      ]
     },
     "metadata": {},
     "execution_count": 5
    }
   ],
   "source": [
    "# import the raw csv\n",
    "recipes_df_raw = pd.read_csv('technical_list.csv')\n",
    "recipes_df_raw.head"
   ]
  },
  {
   "cell_type": "code",
   "execution_count": 6,
   "metadata": {},
   "outputs": [],
   "source": [
    "# Make a function to remove p tags from the list\n",
    "def remove_tags(ingredients):\n",
    "        clean_ingredients = ingredients.replace('<p>','').replace('</p>','')\n",
    "        return clean_ingredients"
   ]
  },
  {
   "cell_type": "code",
   "execution_count": 12,
   "metadata": {
    "tags": []
   },
   "outputs": [
    {
     "output_type": "stream",
     "name": "stdout",
     "text": [
      "0      [100g plain flour, 2 large eggs, 200ml whole m...\n1      [20g caster sugar, 75g unsalted butter, cubed ...\n2      [120ml olive oil, 1 tsp vanilla paste, 150g ca...\n3      [180ml warm water , 4g active dried yeast , 10...\n4      [50g plain flour, plus extra for dusting, ½ ts...\n                             ...                        \n121    [250g blanched (skinned) whole hazelnuts, 300g...\n122    [60g unsalted butter, cubed, 150ml water, 75g ...\n123    [250g strong white bread flour, 5g salt, 7g sa...\n124    [200g unsalted butter, softened, 180g icing su...\n125    [400g strawberries, hulled and chopped, 500g j...\nName: ingredients_clean, Length: 126, dtype: object\n"
     ]
    }
   ],
   "source": [
    "ingredients = recipes_df_raw['ingredients']\n",
    "recipes_no_tags = recipes_df_raw.copy()\n",
    "recipes_no_tags['ingredients_clean'] = ''\n",
    "for i in range(len(ingredients)):\n",
    "    ingredient_list = ingredients[i]\n",
    "    clean_list = remove_tags(ingredient_list)\n",
    "    recipes_no_tags['ingredients_clean'][i] = clean_list\n",
    "print(recipes_no_tags['ingredients_clean'])"
   ]
  },
  {
   "cell_type": "code",
   "execution_count": 17,
   "metadata": {},
   "outputs": [],
   "source": [
    "def split_ingredient(ingredient):\n",
    "    quantity = re.findall('\\d+', ingredient)\n",
    "    print(quantity)"
   ]
  },
  {
   "cell_type": "code",
   "execution_count": 18,
   "metadata": {},
   "outputs": [
    {
     "output_type": "stream",
     "name": "stdout",
     "text": [
      "['100']\n"
     ]
    }
   ],
   "source": [
    "test_ingredient = '100g Can Sugar'\n",
    "split_ingredient(test_ingredient)"
   ]
  },
  {
   "cell_type": "code",
   "execution_count": null,
   "metadata": {},
   "outputs": [],
   "source": []
  }
 ]
}