{
 "metadata": {
  "language_info": {
   "codemirror_mode": {
    "name": "ipython",
    "version": 3
   },
   "file_extension": ".py",
   "mimetype": "text/x-python",
   "name": "python",
   "nbconvert_exporter": "python",
   "pygments_lexer": "ipython3",
   "version": "3.7.6-final"
  },
  "orig_nbformat": 2,
  "kernelspec": {
   "name": "python3",
   "display_name": "Python 3",
   "language": "python"
  }
 },
 "nbformat": 4,
 "nbformat_minor": 2,
 "cells": [
  {
   "cell_type": "code",
   "execution_count": 1,
   "metadata": {},
   "outputs": [],
   "source": [
    "import pandas as pd\n",
    "import numpy as np"
   ]
  },
  {
   "cell_type": "code",
   "execution_count": 3,
   "metadata": {},
   "outputs": [
    {
     "output_type": "execute_result",
     "data": {
      "text/plain": [
       "<bound method NDFrame.head of                                              title           judge  \\\n",
       "0           Liam Charles’s Yorkshire Pudding Wraps    Liam Charles   \n",
       "1      Rav Gill’s Churros with Banana Butterscotch    Ravneet Gill   \n",
       "2                 Liam Charles’s Mega-Choccy Stack    Liam Charles   \n",
       "3                        Rav Gill’s Tiger Pretzels    Ravneet Gill   \n",
       "4    Liam Charles’s Chocolate Marshmallow Biscuits    Liam Charles   \n",
       "..                                             ...             ...   \n",
       "121                Mary Berry’s Hazelnut Dacquoise  Paul Hollywood   \n",
       "122                       Mary Berry’s Religieuses  Paul Hollywood   \n",
       "123              Paul Hollywood’s Apricot Couronne  Paul Hollywood   \n",
       "124      Mary Berry’s Tuiles with Chocolate Mousse  Paul Hollywood   \n",
       "125                  Mary Berry’s Charlotte Royale  Paul Hollywood   \n",
       "\n",
       "            makes              difficulty hands_on_time baking_time  \\\n",
       "0               2             Needs skill       25 mins     30 mins   \n",
       "1               6             Needs skill       30 mins     25 mins   \n",
       "2               4             Needs skill       40 mins     14 mins   \n",
       "3               4             Needs skill       45 mins     15 mins   \n",
       "4               4             Needs skill       45 mins     12 mins   \n",
       "..            ...                     ...           ...         ...   \n",
       "121            12  30 mins, plus chilling    25–30 mins     18 mins   \n",
       "122             8  30 mins, plus chilling    25–30 mins     18 mins   \n",
       "123  1 large loaf  30 mins, plus chilling    25–30 mins     18 mins   \n",
       "124             8  30 mins, plus chilling    25–30 mins     18 mins   \n",
       "125         10-12  30 mins, plus chilling    25–30 mins     18 mins   \n",
       "\n",
       "                                           ingredients  \\\n",
       "0    [<p>100g plain flour</p>, <p>2 large eggs</p>,...   \n",
       "1    [<p>20g caster sugar</p>, <p>75g unsalted butt...   \n",
       "2    [<p>120ml olive oil</p>, <p>1 tsp vanilla past...   \n",
       "3    [<p>180ml warm water </p>, <p>4g active dried ...   \n",
       "4    [<p>50g plain flour, plus extra for dusting</p...   \n",
       "..                                                 ...   \n",
       "121  [<p>250g blanched (skinned) whole hazelnuts</p...   \n",
       "122  [<p>60g unsalted butter, cubed</p>, <p>150ml w...   \n",
       "123  [<p>250g strong white bread flour</p>, <p>5g s...   \n",
       "124  [<p>200g unsalted butter, softened</p>, <p>180...   \n",
       "125  [<p>400g strawberries, hulled and chopped</p>,...   \n",
       "\n",
       "                                          recipe_image  \\\n",
       "0    https://thegreatbritishbakeoff.co.uk/wp-conten...   \n",
       "1    https://thegreatbritishbakeoff.co.uk/wp-conten...   \n",
       "2    https://thegreatbritishbakeoff.co.uk/wp-conten...   \n",
       "3    https://thegreatbritishbakeoff.co.uk/wp-conten...   \n",
       "4    https://thegreatbritishbakeoff.co.uk/wp-conten...   \n",
       "..                                                 ...   \n",
       "121  https://thegreatbritishbakeoff.co.uk/wp-conten...   \n",
       "122  https://thegreatbritishbakeoff.co.uk/wp-conten...   \n",
       "123  https://thegreatbritishbakeoff.co.uk/wp-conten...   \n",
       "124  https://thegreatbritishbakeoff.co.uk/wp-conten...   \n",
       "125  https://thegreatbritishbakeoff.co.uk/wp-conten...   \n",
       "\n",
       "                                           judge_image  \n",
       "0    https://thegreatbritishbakeoff.co.uk/wp-conten...  \n",
       "1    https://thegreatbritishbakeoff.co.uk/wp-conten...  \n",
       "2    https://thegreatbritishbakeoff.co.uk/wp-conten...  \n",
       "3    https://thegreatbritishbakeoff.co.uk/wp-conten...  \n",
       "4    https://thegreatbritishbakeoff.co.uk/wp-conten...  \n",
       "..                                                 ...  \n",
       "121  https://thegreatbritishbakeoff.co.uk/wp-conten...  \n",
       "122  https://thegreatbritishbakeoff.co.uk/wp-conten...  \n",
       "123  https://thegreatbritishbakeoff.co.uk/wp-conten...  \n",
       "124  https://thegreatbritishbakeoff.co.uk/wp-conten...  \n",
       "125  https://thegreatbritishbakeoff.co.uk/wp-conten...  \n",
       "\n",
       "[126 rows x 9 columns]>"
      ]
     },
     "metadata": {},
     "execution_count": 3
    }
   ],
   "source": [
    "recipes_df_raw = pd.read_csv('technical_list.csv')\n",
    "recipes_df_raw.head"
   ]
  },
  {
   "cell_type": "code",
   "execution_count": 5,
   "metadata": {},
   "outputs": [],
   "source": [
    "def remove_tags(ingredients):\n",
    "        clean_ingredients = ingredients.replace('<p>','').replace('</p>','')\n",
    "        return clean_ingredients"
   ]
  },
  {
   "cell_type": "code",
   "execution_count": 27,
   "metadata": {},
   "outputs": [
    {
     "output_type": "error",
     "ename": "AttributeError",
     "evalue": "'str' object has no attribute 'print'",
     "traceback": [
      "\u001b[1;31m---------------------------------------------------------------------------\u001b[0m",
      "\u001b[1;31mAttributeError\u001b[0m                            Traceback (most recent call last)",
      "\u001b[1;32m<ipython-input-27-7ef2ef1a02a2>\u001b[0m in \u001b[0;36m<module>\u001b[1;34m\u001b[0m\n\u001b[0;32m      1\u001b[0m \u001b[0mrec_list\u001b[0m \u001b[1;33m=\u001b[0m \u001b[0mrecipes_df_raw\u001b[0m\u001b[1;33m[\u001b[0m\u001b[1;34m'ingredients'\u001b[0m\u001b[1;33m]\u001b[0m\u001b[1;33m[\u001b[0m\u001b[1;36m0\u001b[0m\u001b[1;33m]\u001b[0m\u001b[1;33m\u001b[0m\u001b[1;33m\u001b[0m\u001b[0m\n\u001b[1;32m----> 2\u001b[1;33m \u001b[0mrec_list\u001b[0m\u001b[1;33m.\u001b[0m\u001b[0mprint\u001b[0m\u001b[1;33m(\u001b[0m\u001b[1;33m)\u001b[0m\u001b[1;33m\u001b[0m\u001b[1;33m\u001b[0m\u001b[0m\n\u001b[0m",
      "\u001b[1;31mAttributeError\u001b[0m: 'str' object has no attribute 'print'"
     ]
    }
   ],
   "source": [
    "rec_list = recipes_df_raw['ingredients'][0]\n",
    "rec_list.print"
   ]
  },
  {
   "cell_type": "code",
   "execution_count": 25,
   "metadata": {},
   "outputs": [],
   "source": [
    "ingredients = recipes_df_raw['ingredients']\n",
    "recipes_no_tags = recipes_df_raw.copy()\n",
    "recipes_no_tags['ingredients_clean'] = ''\n",
    "for i in range(len(ingredients)):\n",
    "    ingredient_list = ingredients[i]\n",
    "    clean_list = []\n",
    "    for j in range(len(ingredient_list)):\n",
    "        cleaned_ingredient = remove_tags(ingredient_list[j])\n",
    "        clean_list.append(cleaned_ingredient)\n",
    "    recipes_no_tags['ingredients_clean'][i] = clean_list\n"
   ]
  },
  {
   "cell_type": "code",
   "execution_count": 29,
   "metadata": {
    "tags": []
   },
   "outputs": [],
   "source": [
    "ingredients = recipes_df_raw['ingredients']\n",
    "recipes_no_tags = recipes_df_raw.copy()\n",
    "recipes_no_tags['ingredients_clean'] = ''\n",
    "for i in range(len(ingredients)):\n",
    "    ingredient_list = ingredients[i]\n",
    "    clean_list = remove_tags(ingredient_list)\n",
    "    recipes_no_tags['ingredients_clean'][i] = clean_list"
   ]
  },
  {
   "cell_type": "code",
   "execution_count": null,
   "metadata": {},
   "outputs": [],
   "source": []
  }
 ]
}