{
 "metadata": {
  "language_info": {
   "codemirror_mode": {
    "name": "ipython",
    "version": 3
   },
   "file_extension": ".py",
   "mimetype": "text/x-python",
   "name": "python",
   "nbconvert_exporter": "python",
   "pygments_lexer": "ipython3",
   "version": "3.8.3-final"
  },
  "orig_nbformat": 2,
  "kernelspec": {
   "name": "python3",
   "display_name": "Python 3",
   "language": "python"
  }
 },
 "nbformat": 4,
 "nbformat_minor": 2,
 "cells": [
  {
   "cell_type": "code",
   "execution_count": 1,
   "metadata": {},
   "outputs": [],
   "source": [
    "import pandas as pd\n",
    "import numpy as np\n",
    "import re"
   ]
  },
  {
   "cell_type": "code",
   "execution_count": 2,
   "metadata": {},
   "outputs": [
    {
     "output_type": "execute_result",
     "data": {
      "text/plain": [
       "     Season  Week Number      Baker Week Name  Bake  \\\n",
       "0  Series 1            1    Annetha      Cake  Cake   \n",
       "1  Series 1            1      David      Cake  Cake   \n",
       "2  Series 1            1        Edd      Cake  Cake   \n",
       "3  Series 1            1  Jasminder      Cake  Cake   \n",
       "4  Series 1            1   Jonathan      Cake  Cake   \n",
       "\n",
       "                                      Signature Bake  \\\n",
       "0  Light Jamaican Black Cake with Strawberries an...   \n",
       "1                              Chocolate Orange Cake   \n",
       "2                   Caramel Cinnamon and Banana Cake   \n",
       "3     Fresh Mango and Passion Fruit Hummingbird Cake   \n",
       "4       Carrot Cake with Lime and Cream Cheese Icing   \n",
       "\n",
       "  Signature Time Allotment (hours) Signature Sweet (1) or Savory (0)  \\\n",
       "0                                3                                 1   \n",
       "1                                3                                 1   \n",
       "2                                3                                 1   \n",
       "3                                3                                 1   \n",
       "4                                3                                 1   \n",
       "\n",
       "  Signature Quantity  Signature Handshake  ...  \\\n",
       "0                  1                    0  ...   \n",
       "1                  1                    0  ...   \n",
       "2                  1                    0  ...   \n",
       "3                  1                    0  ...   \n",
       "4                  1                    0  ...   \n",
       "\n",
       "  Showstopper Sweet (1) or Savory (0) Showstopper Quantity  \\\n",
       "0                                   1                    1   \n",
       "1                                   1                    1   \n",
       "2                                   1                    1   \n",
       "3                                   1                    1   \n",
       "4                                   1                    1   \n",
       "\n",
       "  Showstopper Handshake  Favorite Least Favorite  Star Baker Eliminated  \\\n",
       "0                     0       1.0              0           0          0   \n",
       "1                     0       0.0              1           0          0   \n",
       "2                     0       0.0              0           0          0   \n",
       "3                     0       0.0              0           0          0   \n",
       "4                     0       0.0              0           0          0   \n",
       "\n",
       "  Competed Winner UK viewers (millions)  \n",
       "0        1      0                   NaN  \n",
       "1        1      0                   NaN  \n",
       "2        1      1                   NaN  \n",
       "3        1      0                   NaN  \n",
       "4        1      0                   NaN  \n",
       "\n",
       "[5 rows x 29 columns]"
      ],
      "text/html": "<div>\n<style scoped>\n    .dataframe tbody tr th:only-of-type {\n        vertical-align: middle;\n    }\n\n    .dataframe tbody tr th {\n        vertical-align: top;\n    }\n\n    .dataframe thead th {\n        text-align: right;\n    }\n</style>\n<table border=\"1\" class=\"dataframe\">\n  <thead>\n    <tr style=\"text-align: right;\">\n      <th></th>\n      <th>Season</th>\n      <th>Week Number</th>\n      <th>Baker</th>\n      <th>Week Name</th>\n      <th>Bake</th>\n      <th>Signature Bake</th>\n      <th>Signature Time Allotment (hours)</th>\n      <th>Signature Sweet (1) or Savory (0)</th>\n      <th>Signature Quantity</th>\n      <th>Signature Handshake</th>\n      <th>...</th>\n      <th>Showstopper Sweet (1) or Savory (0)</th>\n      <th>Showstopper Quantity</th>\n      <th>Showstopper Handshake</th>\n      <th>Favorite</th>\n      <th>Least Favorite</th>\n      <th>Star Baker</th>\n      <th>Eliminated</th>\n      <th>Competed</th>\n      <th>Winner</th>\n      <th>UK viewers (millions)</th>\n    </tr>\n  </thead>\n  <tbody>\n    <tr>\n      <th>0</th>\n      <td>Series 1</td>\n      <td>1</td>\n      <td>Annetha</td>\n      <td>Cake</td>\n      <td>Cake</td>\n      <td>Light Jamaican Black Cake with Strawberries an...</td>\n      <td>3</td>\n      <td>1</td>\n      <td>1</td>\n      <td>0</td>\n      <td>...</td>\n      <td>1</td>\n      <td>1</td>\n      <td>0</td>\n      <td>1.0</td>\n      <td>0</td>\n      <td>0</td>\n      <td>0</td>\n      <td>1</td>\n      <td>0</td>\n      <td>NaN</td>\n    </tr>\n    <tr>\n      <th>1</th>\n      <td>Series 1</td>\n      <td>1</td>\n      <td>David</td>\n      <td>Cake</td>\n      <td>Cake</td>\n      <td>Chocolate Orange Cake</td>\n      <td>3</td>\n      <td>1</td>\n      <td>1</td>\n      <td>0</td>\n      <td>...</td>\n      <td>1</td>\n      <td>1</td>\n      <td>0</td>\n      <td>0.0</td>\n      <td>1</td>\n      <td>0</td>\n      <td>0</td>\n      <td>1</td>\n      <td>0</td>\n      <td>NaN</td>\n    </tr>\n    <tr>\n      <th>2</th>\n      <td>Series 1</td>\n      <td>1</td>\n      <td>Edd</td>\n      <td>Cake</td>\n      <td>Cake</td>\n      <td>Caramel Cinnamon and Banana Cake</td>\n      <td>3</td>\n      <td>1</td>\n      <td>1</td>\n      <td>0</td>\n      <td>...</td>\n      <td>1</td>\n      <td>1</td>\n      <td>0</td>\n      <td>0.0</td>\n      <td>0</td>\n      <td>0</td>\n      <td>0</td>\n      <td>1</td>\n      <td>1</td>\n      <td>NaN</td>\n    </tr>\n    <tr>\n      <th>3</th>\n      <td>Series 1</td>\n      <td>1</td>\n      <td>Jasminder</td>\n      <td>Cake</td>\n      <td>Cake</td>\n      <td>Fresh Mango and Passion Fruit Hummingbird Cake</td>\n      <td>3</td>\n      <td>1</td>\n      <td>1</td>\n      <td>0</td>\n      <td>...</td>\n      <td>1</td>\n      <td>1</td>\n      <td>0</td>\n      <td>0.0</td>\n      <td>0</td>\n      <td>0</td>\n      <td>0</td>\n      <td>1</td>\n      <td>0</td>\n      <td>NaN</td>\n    </tr>\n    <tr>\n      <th>4</th>\n      <td>Series 1</td>\n      <td>1</td>\n      <td>Jonathan</td>\n      <td>Cake</td>\n      <td>Cake</td>\n      <td>Carrot Cake with Lime and Cream Cheese Icing</td>\n      <td>3</td>\n      <td>1</td>\n      <td>1</td>\n      <td>0</td>\n      <td>...</td>\n      <td>1</td>\n      <td>1</td>\n      <td>0</td>\n      <td>0.0</td>\n      <td>0</td>\n      <td>0</td>\n      <td>0</td>\n      <td>1</td>\n      <td>0</td>\n      <td>NaN</td>\n    </tr>\n  </tbody>\n</table>\n<p>5 rows × 29 columns</p>\n</div>"
     },
     "metadata": {},
     "execution_count": 2
    }
   ],
   "source": [
    "raw_data = pd.read_csv('GBBO Data Set - Bakes.csv')\n",
    "raw_data.head()"
   ]
  },
  {
   "cell_type": "code",
   "execution_count": 3,
   "metadata": {},
   "outputs": [
    {
     "output_type": "execute_result",
     "data": {
      "text/plain": [
       "Season                                  object\n",
       "Week Number                              int64\n",
       "Baker                                   object\n",
       "Week Name                               object\n",
       "Bake                                    object\n",
       "Signature Bake                          object\n",
       "Signature Time Allotment (hours)        object\n",
       "Signature Sweet (1) or Savory (0)       object\n",
       "Signature Quantity                      object\n",
       "Signature Handshake                      int64\n",
       "Technical Bake                          object\n",
       "Technical Recipe Writer                 object\n",
       "Technical Time Allotment (hours)        object\n",
       "Technical Sweet (1) or Savory (0)      float64\n",
       "Technical Quantity                      object\n",
       "Technical Rank                         float64\n",
       "Showstopper                             object\n",
       "Showstopper Bake                        object\n",
       "Showstopper Time Allotment (hours)      object\n",
       "Showstopper Sweet (1) or Savory (0)     object\n",
       "Showstopper Quantity                    object\n",
       "Showstopper Handshake                    int64\n",
       "Favorite                               float64\n",
       "Least Favorite                           int64\n",
       "Star Baker                               int64\n",
       "Eliminated                               int64\n",
       "Competed                                 int64\n",
       "Winner                                   int64\n",
       "UK viewers (millions)                  float64\n",
       "dtype: object"
      ]
     },
     "metadata": {},
     "execution_count": 3
    }
   ],
   "source": [
    "raw_data.dtypes"
   ]
  },
  {
   "cell_type": "code",
   "execution_count": 4,
   "metadata": {},
   "outputs": [
    {
     "output_type": "stream",
     "name": "stdout",
     "text": [
      "Total entries: 823\n"
     ]
    },
    {
     "output_type": "execute_result",
     "data": {
      "text/plain": [
       "     Season  Week Number      Baker  Bake  \\\n",
       "0  Series 1            1    Annetha  Cake   \n",
       "1  Series 1            1      David  Cake   \n",
       "2  Series 1            1        Edd  Cake   \n",
       "3  Series 1            1  Jasminder  Cake   \n",
       "4  Series 1            1   Jonathan  Cake   \n",
       "\n",
       "                                      Signature Bake  Sweet  Handshake  \\\n",
       "0  Light Jamaican Black Cake with Strawberries an...   True      False   \n",
       "1                              Chocolate Orange Cake   True      False   \n",
       "2                   Caramel Cinnamon and Banana Cake   True      False   \n",
       "3     Fresh Mango and Passion Fruit Hummingbird Cake   True      False   \n",
       "4       Carrot Cake with Lime and Cream Cheese Icing   True      False   \n",
       "\n",
       "   Favorite  Least Favorite  Star Baker  Eliminated  Winner  \n",
       "0      True           False       False       False   False  \n",
       "1     False            True       False       False   False  \n",
       "2     False           False       False       False    True  \n",
       "3     False           False       False       False   False  \n",
       "4     False           False       False       False   False  "
      ],
      "text/html": "<div>\n<style scoped>\n    .dataframe tbody tr th:only-of-type {\n        vertical-align: middle;\n    }\n\n    .dataframe tbody tr th {\n        vertical-align: top;\n    }\n\n    .dataframe thead th {\n        text-align: right;\n    }\n</style>\n<table border=\"1\" class=\"dataframe\">\n  <thead>\n    <tr style=\"text-align: right;\">\n      <th></th>\n      <th>Season</th>\n      <th>Week Number</th>\n      <th>Baker</th>\n      <th>Bake</th>\n      <th>Signature Bake</th>\n      <th>Sweet</th>\n      <th>Handshake</th>\n      <th>Favorite</th>\n      <th>Least Favorite</th>\n      <th>Star Baker</th>\n      <th>Eliminated</th>\n      <th>Winner</th>\n    </tr>\n  </thead>\n  <tbody>\n    <tr>\n      <th>0</th>\n      <td>Series 1</td>\n      <td>1</td>\n      <td>Annetha</td>\n      <td>Cake</td>\n      <td>Light Jamaican Black Cake with Strawberries an...</td>\n      <td>True</td>\n      <td>False</td>\n      <td>True</td>\n      <td>False</td>\n      <td>False</td>\n      <td>False</td>\n      <td>False</td>\n    </tr>\n    <tr>\n      <th>1</th>\n      <td>Series 1</td>\n      <td>1</td>\n      <td>David</td>\n      <td>Cake</td>\n      <td>Chocolate Orange Cake</td>\n      <td>True</td>\n      <td>False</td>\n      <td>False</td>\n      <td>True</td>\n      <td>False</td>\n      <td>False</td>\n      <td>False</td>\n    </tr>\n    <tr>\n      <th>2</th>\n      <td>Series 1</td>\n      <td>1</td>\n      <td>Edd</td>\n      <td>Cake</td>\n      <td>Caramel Cinnamon and Banana Cake</td>\n      <td>True</td>\n      <td>False</td>\n      <td>False</td>\n      <td>False</td>\n      <td>False</td>\n      <td>False</td>\n      <td>True</td>\n    </tr>\n    <tr>\n      <th>3</th>\n      <td>Series 1</td>\n      <td>1</td>\n      <td>Jasminder</td>\n      <td>Cake</td>\n      <td>Fresh Mango and Passion Fruit Hummingbird Cake</td>\n      <td>True</td>\n      <td>False</td>\n      <td>False</td>\n      <td>False</td>\n      <td>False</td>\n      <td>False</td>\n      <td>False</td>\n    </tr>\n    <tr>\n      <th>4</th>\n      <td>Series 1</td>\n      <td>1</td>\n      <td>Jonathan</td>\n      <td>Cake</td>\n      <td>Carrot Cake with Lime and Cream Cheese Icing</td>\n      <td>True</td>\n      <td>False</td>\n      <td>False</td>\n      <td>False</td>\n      <td>False</td>\n      <td>False</td>\n      <td>False</td>\n    </tr>\n  </tbody>\n</table>\n</div>"
     },
     "metadata": {},
     "execution_count": 4
    }
   ],
   "source": [
    "clean_data = raw_data[[\"Season\",\"Week Number\",\"Baker\",\"Bake\",\"Signature Bake\"]]\n",
    "clean_data[\"Sweet\"] = raw_data[\"Signature Sweet (1) or Savory (0)\"].astype(\"bool\")\n",
    "clean_data[\"Handshake\"] = raw_data[\"Signature Handshake\"].astype(\"bool\")\n",
    "clean_data = pd.concat([clean_data,raw_data[[\"Favorite\",\"Least Favorite\",\"Star Baker\",\"Eliminated\",\"Winner\"]].astype(\"bool\")], axis=1)\n",
    "print(\"Total entries: \" + str(len(clean_data.index)))\n",
    "clean_data.head()"
   ]
  },
  {
   "cell_type": "code",
   "execution_count": 5,
   "metadata": {
    "tags": []
   },
   "outputs": [
    {
     "output_type": "stream",
     "name": "stdout",
     "text": [
      "Number of unique words: 1003\n{'', 'Monsieur', 'Rice', 'Cygnets', 'Flower', \"Victoria's\", 'Curd', 'Wild', 'Aubergine', 'Swiss', 'Blue', 'Onion', 'Molten', 'English', 'Opposites', 'Goats', 'Kozunak', 'Bumblebee', 'Mango', 'Yeast', 'Chip', 'Bread', 'Lardy', 'Gluten', 'Pistachio', 'Pontefract', 'Lemonade', 'Cupcake', 'Shallot,', 'flavored', 'Panettone', 'Spinach', 'Layered', 'Berry', 'Icing', 'Shallot', 'Macadamia', 'Peppers', 'Me', 'Clefs', 'Pork', 'Quarantine', 'Carom', 'Pies', 'Cheesecake', 'Geared', 'Poppy', 'Granola', 'Wellington', 'cream', 'Plaits', 'Ginger', 'Oatcakes', 'Financiers', 'Grey', 'Gingernuts', 'Chiffon', 'City', 'Honeycomb', 'Nikuman', 'Raspberries', 'Timperley', 'Stem', 'Lime,', \"Goat's\", 'Frosted', 'Fondants', 'Gravy', 'Swirly', 'Apricot,', 'Night', 'Curry', '-', 'Creme', 'Baba', 'Shortcrust', 'Poached', 'Redcurrant', 'Kick', 'Bundt', 'freshly', 'Date', 'away', 'Ghost', 'Sundried', 'Cob', 'Wood', 'Peach', 'Cambozola', 'Salmon,', 'Sun', 'Banana', 'Aloo', 'Panda', 'Vinci', 'Caerphilly', 'Father', 'Witch', 'Pecan', 'Chelsea', \"Show'\", 'Semlor', 'Cassis', 'Profiteroles', 'Queen', 'Barberry', 'Mexican', 'Roasted', 'Feuille', 'Brith)', 'Lavender', 'Asparagus', 'Rose', 'Japanese', 'Stromboli', 'Thyme', 'Cupcakes', 'Apricots', \"Treats'\", 'Honeyed', 'Burfi', 'Lemongrass', 'Martini', 'Fingers', \"Kick'\", 'Halwa', 'Amarene', 'Biscuit', 'Brownie', 'Ginger,', 'Dulce', 'Fig,', 'Coco', 'Mojito', 'Trucking', 'Celeriac', 'Brûlée', 'Lentil', 'De', 'Ruby', 'Turkish', 'Almonds', 'Gobi', 'Tropical', 'Liqueur', 'Fennel', 'Post', 'Down', 'Grapefruit,', \"S'mores'\", 'Pudding', \"Granny's\", 'Matchsticks', 'Fruitti', 'Yuzu', 'Loaf', 'Feathered', 'Cod', 'Mozzarella,', 'Banoffee', 'Pina', 'Saucy', 'Devonshire', 'Quiche', 'Brie', 'Squishy', 'Cornish', 'Tear', 'Tomato,', 'Rarebit', 'Less', 'Answer', 'Cauliflower,', 'Hmmmm', 'Mille', 'Pithivier', 'Seeded', 'Cardamom,', 'Olive', 'Tiffin', 'Home', 'Moroccan', 'Battenberg', '\\t', 'Nougat', 'Melts', 'Leafy', 'Blanc', 'Pea', 'Carroty', 'Lait', 'Glaze', 'Choc', 'Langues', 'Oat', 'Twist', 'Nicely', 'Raspberry,', 'Festival', 'Farthing', 'Samosa', \"'Tapas'\", 'Raisins,', 'Roadkill', 'Sohan', 'Truffle', 'Slice', 'Meringue', 'Game', 'Kawaii', 'Summery', '&', 'Tomatoes', 'Gingerbread', 'Chilli', 'Best', \"Peg's\", 'Water', 'Gujarela', 'Choi', 'Smoky', 'Margarita', 'Clementine', 'Tangy', 'Tomato', 'Melting', 'Sunflower', 'My', 'Hummus', 'Martini\\xa0Madeleines', 'Mega', 'Early', '/', 'Scandinavian', 'Mocha', 'Cobbled', 'St.', 'Sage', 'Bunskis', 'Dick', 'Wedding', 'Dried', 'Cup', 'Rum', 'Leek', 'Ears', 'Amber', 'Kirsch', 'Eton', 'Crusty', 'Pie', 'Have', 'Surprise', 'Swirl', 'Rainbow', 'Lake', 'India', 'Shaped', 'Cherrylicious', 'Barfi', 'Sugar', 'Colada', \"Summer's\", 'Masala', 'Jamaican', 'Chestnut', 'Two,', 'Treats', \"Noir'\", 'Fancy', 'Carrots', 'Gras', 'Syrup', 'Eastern', 'Waistcoat', 'Stout', 'Jalapeño,', 'Breadsticks', 'Lovely', 'Herby', 'Basket', 'Breads', 'Cardamom', 'Barmbrack', 'Babka', 'Tattie', 'Red', 'Bombay', 'After', 'Spotted', 'New', 'The', 'Hole', 'Tudor', 'Burger', 'Paneer', 'Panang', 'Nana', 'Doughnuts', 'Pâtissière', 'Crackers', 'Window', 'Spanish', \"Mamgu's\", 'Cardiff', 'Guinness', 'Stilton,', 'Jelly', 'Choux', \"Grandma's\", 'Tiered', \"Family's\", 'Apricot', 'Sour', 'Garlic', 'Free', 'Flats', 'Venison', 'Virgin', 'Polenta', 'Praline', 'Roti', 'Explosion', 'Tarts', 'Cheesy', 'Florida', 'Caraway', 'Pumpkin', 'Easter', 'Rhum', 'Smørrebrød', 'Chutney', 'Ring', 'Chaussons', 'Spice', 'Turmeric', 'Mixed', 'Tree', 'Plait,', 'Watercress', 'Amaretto', 'Fish', 'Upside', 'Trifle', 'Chocolatey', 'Chocolat', 'Créme', 'Lamb', 'Mallow', 'Cinnamon', 'Garlic,', 'Coconut', 'Swedish', 'Bara', 'a', 'Traybake', 'Smørrebrød\\r', 'Traditional', 'Brith', 'Samosas', 'Kardemummabullar', 'Fresh', 'Soda', 'Multi', \"Arundel's\", 'Prawn', 'y', 'Sultana', \"Za'atar\", 'Magic', 'Caramel', 'Spelt', 'Adventure', 'Hazelnut,', 'de', 'Spiced', 'Nutmeg', 'Savarin', 'Florentine', 'Chantenay', 'Crystals', 'Spices', 'Focaccia', 'Roulade', 'Compromise', 'Duck', 'Dukkah', 'Drinks', 'Courgette,', 'Towering', 'Sauce', 'Zupfe', '(Cheese', 'Génoise', 'Flatbreads', 'Mascarpone', 'Pineapple', 'Cheeky', 'Abricot', 'Tagine', 'Pears', 'Tarte', 'Marley', 'Salsa', 'Zaatar', 'Coulibiac', 'Shanghai', 'Breakfast', 'Marzipan', 'Tomato\\xa0Quiches\\xa0and\\xa0Mascarpone\\xa0Squirrel', 'Frappelatteccino', 'Peanut', 'Pastries', 'Mushroom,', 'Sweet', 'Rong', 'Mardi', 'Lady', 'Leek,', 'Elephant', 'Sourdough,', 'Café', 'Treble', 'Chaat', 'Scones', 'Custards', 'Pain', 'Crunch', 'Chorizo', 'Coconut,', 'Asian', 'Tipple', 'Nigella', 'Caramel,', 'Ghugni', 'Italy', 'Wreath', 'Smoked', 'Eat', 'Drizzle', 'Flavours', 'Pepper', 'Mango,', 'Eggs', 'Blueberry', \"Millionaires'\", 'Walnut', 'Vegetable', 'Figgy', 'Mangoes', 'Posto', 'White', 'Ripple', 'Cranachan', 'Tarragon', 'Kale', 'Flowers', 'Carrot', 'Baa', 'Roquefort', 'Miniature', 'Marula', 'Mini', \"Ploughman's\", 'Pinwheels', 'Manchester', 'Quiches', 'Citrus', 'Favourite', 'Gin', 'Dates,', 'Noson', 'Cheese', 'Day', 'Sponges', 'Velvet', 'Brown', 'Au', 'Accompaniment', 'Tart', 'Wellingtons', 'Crunchy', 'Wine', 'Three', 'to', 'Aromatic', '1920s', 'Bouquet', 'Fruits', 'Yorkshire', 'Pink', 'District', 'Seeds', 'Madeleines\\r', 'Bannock', 'Savoury', 'Bunting', 'Prosciutto,', 'Everything', 'Black', 'Twisty', 'Rhubarb,', 'Haggis', 'Pickle', 'Pig', 'Boaring', 'Layers', 'Pots', 'Mess', 'Oxford', 'Creams', 'Tartlets', 'Union', 'Croissants', \"Citrus'\", 'Rhubarb', 'Opera', \"S'mores\", 'Middle', 'Warm', 'Blossom', 'Devon', 'Chicken', 'Cauliflower', 'Tatin', 'Bonanzas;', 'Tea', 'Chunk', 'Aperitif', 'Caramelised', 'Simnel', 'Street', 'Hot', 'Blackberry', 'Gâteau', 'Family', 'Broccoli', 'Dumplings', 'Salt', 'Chickpea,', 'Tiramisu', 'Macchiato', 'Tortillas', 'Toffee', \"'Cheesy\", 'Two', 'York', 'Orange,', 'Bacon,', 'Malt', 'Frasier', 'Citron', 'Tofu', 'Nut', 'Brunch', 'Bacon', 'Caws', \"Summer'\", 'East', 'of', 'Chilli,', 'Brownies', 'Cheshire', 'Danish', 'Frosting', 'Ways', 'Holiday', 'Gruyère', 'Night)', 'Lebkuchen', 'Pecan,', 'Pot', 'Torte', 'Taboon', 'Rosewater', 'Potato,', 'Parma', 'West', 'Cyflym', 'Apples', 'Cakes', 'Morning', 'Iced', 'Hummingbird', 'Pitcaithly', 'Frangipane', 'Mushroom', 'Saffron', 'Cheddar', 'Yoghurt', 'for', 'Suet', 'Oatmeal', 'Ambulance', 'Egg', 'Pistachio,', 'Picante', 'Cheeseburger', 'Full', 'Crème', 'Mocha,', 'Couronne', 'Novel', 'in', 'Jam', 'Chorizo,', 'Marmalade', 'Onions', 'Fruit', 'Stained', 'French', \"It'\", 'Katsu', \"'Creams'\", 'Plum', 'Plum,', 'Honey', 'Crumble', 'Barbecue', 'Italiano', 'Perkins', 'Mediterranean', 'Zingy', 'Maple', 'Guglhupf', 'Gimmie', 'Empanadas', 'Pak', 'Somewhere', 'Treat', 'Tangzhong', 'Festive', 'Cross', 'Caribbean', 'Macarons', 'Cheesecakes', 'Blood', 'Beehive', 'Veg', 'Butternut', 'Balsamic', 'Classic', 'Palmiers', 'Pear,', 'Parsnip,', 'Kugelhopf', 'Horns', 'Cake', 'Punch', \"Dhal'\", 'Butterscotch', 'Sausage', 'Strawberry,', 'Pizza', 'Pineapple,', 'Mint,', 'Walnut,', 'Lemon', 'Piña', 'Gorgonzola', 'Ham,', 'Dinner', 'Passionfruit', 'Falafel', 'Bonus', 'Quick', 'Sesame', 'Style', 'Crab,', 'ét', \"Latte'\", 'Summer', 'Brûlées', \"Greens'\", 'Chicken,', 'Domed', 'Royal', 'Spring', 'Belly', 'au', 'G&T', 'Gym', 'Picnic', 'Pigeon', 'Chopped', 'Ni', \"Dreams'\", 'Potato', 'Whip', 'Pandan', 'Jack', 'Good', 'Romantic', 'Friands', 'Plait', 'Braid', 'Shrewsburys', 'Crowd', 'Rosemary', 'Pasties', 'Welsh', 'Raspberry', 'Bat', 'Brittle', 'Mousse', 'Boy', 'Coffee,', 'Bunny', \"Millionaire's\", 'Boozy', 'Little', 'Fusion', '\"Wheelie', 'Grapefruit', 'Red,', 'Celebration', 'Sky', 'Manchego', 'Raised', 'Tutti', 'Liquorice', 'Babas', 'Kumquat', 'Rolls', 'Seabass', 'Great', 'Salmon', 'Puffs', 'Earl', 'Fours', \"Past'\", 'Filled', 'Apple', \"Flute'\", 'Own', 'Mont', 'Not', 'Moments', 'chip', 'Double', 'Treacle', 'Flour', 'Cranberry', 'Singara', \"'With\", 'Spinach,', 'Fudge', 'Stilton', 'Broads\"', 'Pleaser', 'Hazelnut', 'Turron', 'Biscuits\"', 'Armagnac', 'Buns', 'Peak', 'A', 'Lassi', 'Poly', 'Raisin', 'Strawberries', 'Triple', 'Madeleine', 'Candied', 'Strawberry', 'Baklava', 'Fig', 'Thai', 'Finnish', 'Onion,', 'Chocolate,', 'Mojito\\xa0Madeleines', 'Kedgeree', 'Chutney,', 'Roly', 'Pomegranate', 'Peach,', 'Pitas', 'Halloween', \"America'\", 'Bait', 'Savarins', 'Minted', 'Pine', 'Cider', 'Dose', 'Da', 'an', 'Hearts', 'Jalapeño', 'Wasabi', 'Kiwi', 'Spirals', 'Foldovers', 'Chocolate', 'Lime', 'Shiny', 'Jackfruit,', 'Tequila,', 'Thins', 'Florentines', 'Toad', '(Our', 'Wheat', 'Comforts', 'Biscuits', 'Parsnip', 'Crab', 'Lemon,', 'Calvados', 'Lincolnshire', 'Bonfire', 'Tonic', 'Sticky', 'Cookies', 'Malt,', 'Beef', 'Green', 'Clements', 'Kachori', 'Cone', 'Smokey', 'Orangey', 'Naan', 'Fenugreek', 'Kites', 'Sunday', 'Pastry', \"Mum's\", 'Squashy', 'Perfect', 'Seed', 'Apple,', 'Cayenne,', 'Almond,', 'the', 'Nuts', 'Childhood', 'Peacock', 'Jubilee', 'Tasty', 'Streaky', 'Misti', 'Peppermint', 'Island', 'Mum', 'Teulu', 'Inspired', 'Petal', 'Coriander', 'Pancetta', 'Rotis', 'Hemp', 'Purée', 'Diplomat', 'Raisins', 'Goosnargh', 'Empire', 'Oregano', 'Indian', 'Ice', 'Decadent', 'Shortbread', 'For', 'Bars', 'Zest', 'Blackberry,', 'Muscat', 'Cupcakes,', 'Piggy', 'Keralan', 'Cinnamon,', 'Spicy', 'Rye', 'Giant', 'Roll', 'Madeira', 'Sunshine', 'Beer', 'Tahini', 'Cherry', 'Crazy', 'Glass', 'Swirls', 'Desert', 'Minced', 'Millionaire', ' ', 'Petits', 'Chapatis', 'Elderflower', 'Sticks', 'Biscotti', 'Vanilla,', 'Crispy', 'Knots', 'In', 'Italian', 'Fruity', 'Leche', 'Summertime', 'Cream', 'Bazaar', 'made', 'Ham', 'Sandwich', 'Rustic', 'Attract', 'Winter', 'Share', 'Palm', 'Lemons', 'Gruyere', 'nutty', 'Bittersweet', 'Christmas', 'Leaf,', 'Triangles', 'Baked', 'Granny', 'Crusted', 'Topped', 'with', 'Pumpkin,', \"Dad's\", 'Wicked', 'German', 'Marshmallow', 'Salted', 'Chat', 'Beetroot', 'and', 'Indulgence', 'Proper', 'Printanière', 'Country', 'Mint', 'Aberffraw', 'Homely', 'on', 'Light', 'Bakewell', 'Haddock', 'Five', 'Nutty', 'Naked', 'Mandarin', 'Caramelly', 'Butter', 'Pick', 'manchet', 'Chai', 'Roast', 'Brioche', \"Rogers'\", 'Croque', 'Drip', 'Tartlets\\r', 'Four', 'Bramble', 'vs', 'Forest', 'Peppercorn', 'Espresso', 'Paprika', 'Pesto', 'Prune', 'Passion', 'Parmesan', 'Anchovy,', 'Cumin', '\"A', 'Salad', 'Bay', 'Star', 'Vanilla', 'Your', '\\n', 'Crown', 'Limoncello', 'Clove', 'Egyptian', 'Grissini', 'Custard', 'Steamed', 'Bun', 'Zesty', 'Meat', 'Puddings', 'Dark', 'Yorkshires', 'Coffee', 'Ode', 'Cookie', 'Almond', 'Clootie', 'Cheese,', 'Pear', \"Christmas'\", 'Orange', '\"Beer\"', 'Basil', 'Madeleines'}\n0\n"
     ]
    }
   ],
   "source": [
    "titles = clean_data[\"Signature Bake\"]\n",
    "words = []\n",
    "words_in_titles = []\n",
    "numErrors = 0\n",
    "for title in titles:\n",
    "    try:\n",
    "        if(type(title) is str):\n",
    "            words_in_titles.append(re.split('( |/|\\t|\\n|-)', title))\n",
    "            words.extend(words_in_titles[-1])\n",
    "    except Exception as e:\n",
    "        numErrors = numErrors + 1\n",
    "        print(e)\n",
    "        print(title)\n",
    "        break\n",
    "\n",
    "unique_words = set(words)\n",
    "print(\"Number of unique words: \" + str(len(unique_words)))\n",
    "print(unique_words)\n",
    "print(numErrors)"
   ]
  },
  {
   "cell_type": "code",
   "execution_count": 6,
   "metadata": {},
   "outputs": [
    {
     "output_type": "stream",
     "name": "stdout",
     "text": [
      "[['Light', ' ', 'Jamaican', ' ', 'Black', ' ', 'Cake', ' ', 'with', ' ', 'Strawberries', ' ', 'and', ' ', 'Cream'], ['Chocolate', ' ', 'Orange', ' ', 'Cake'], ['Caramel', ' ', 'Cinnamon', ' ', 'and', ' ', 'Banana', ' ', 'Cake'], ['Fresh', ' ', 'Mango', ' ', 'and', ' ', 'Passion', ' ', 'Fruit', ' ', 'Hummingbird', ' ', 'Cake']]\n"
     ]
    }
   ],
   "source": [
    "print(words_in_titles[0:4])"
   ]
  },
  {
   "cell_type": "code",
   "execution_count": 7,
   "metadata": {},
   "outputs": [
    {
     "output_type": "execute_result",
     "data": {
      "text/plain": [
       "          Word  Total Count\n",
       "0                      1080\n",
       "1     Monsieur            1\n",
       "2         Rice            1\n",
       "3      Cygnets            1\n",
       "4       Flower            3\n",
       "5   Victoria's            1\n",
       "6         Curd            6\n",
       "7         Wild            2\n",
       "8    Aubergine            1\n",
       "9        Swiss           11\n",
       "10        Blue            1\n",
       "11       Onion           13\n",
       "12      Molten            1\n",
       "13     English            2\n",
       "14   Opposites            1\n",
       "15       Goats            1\n",
       "16     Kozunak            1\n",
       "17   Bumblebee            1\n",
       "18       Mango           14\n",
       "19       Yeast            1"
      ],
      "text/html": "<div>\n<style scoped>\n    .dataframe tbody tr th:only-of-type {\n        vertical-align: middle;\n    }\n\n    .dataframe tbody tr th {\n        vertical-align: top;\n    }\n\n    .dataframe thead th {\n        text-align: right;\n    }\n</style>\n<table border=\"1\" class=\"dataframe\">\n  <thead>\n    <tr style=\"text-align: right;\">\n      <th></th>\n      <th>Word</th>\n      <th>Total Count</th>\n    </tr>\n  </thead>\n  <tbody>\n    <tr>\n      <th>0</th>\n      <td></td>\n      <td>1080</td>\n    </tr>\n    <tr>\n      <th>1</th>\n      <td>Monsieur</td>\n      <td>1</td>\n    </tr>\n    <tr>\n      <th>2</th>\n      <td>Rice</td>\n      <td>1</td>\n    </tr>\n    <tr>\n      <th>3</th>\n      <td>Cygnets</td>\n      <td>1</td>\n    </tr>\n    <tr>\n      <th>4</th>\n      <td>Flower</td>\n      <td>3</td>\n    </tr>\n    <tr>\n      <th>5</th>\n      <td>Victoria's</td>\n      <td>1</td>\n    </tr>\n    <tr>\n      <th>6</th>\n      <td>Curd</td>\n      <td>6</td>\n    </tr>\n    <tr>\n      <th>7</th>\n      <td>Wild</td>\n      <td>2</td>\n    </tr>\n    <tr>\n      <th>8</th>\n      <td>Aubergine</td>\n      <td>1</td>\n    </tr>\n    <tr>\n      <th>9</th>\n      <td>Swiss</td>\n      <td>11</td>\n    </tr>\n    <tr>\n      <th>10</th>\n      <td>Blue</td>\n      <td>1</td>\n    </tr>\n    <tr>\n      <th>11</th>\n      <td>Onion</td>\n      <td>13</td>\n    </tr>\n    <tr>\n      <th>12</th>\n      <td>Molten</td>\n      <td>1</td>\n    </tr>\n    <tr>\n      <th>13</th>\n      <td>English</td>\n      <td>2</td>\n    </tr>\n    <tr>\n      <th>14</th>\n      <td>Opposites</td>\n      <td>1</td>\n    </tr>\n    <tr>\n      <th>15</th>\n      <td>Goats</td>\n      <td>1</td>\n    </tr>\n    <tr>\n      <th>16</th>\n      <td>Kozunak</td>\n      <td>1</td>\n    </tr>\n    <tr>\n      <th>17</th>\n      <td>Bumblebee</td>\n      <td>1</td>\n    </tr>\n    <tr>\n      <th>18</th>\n      <td>Mango</td>\n      <td>14</td>\n    </tr>\n    <tr>\n      <th>19</th>\n      <td>Yeast</td>\n      <td>1</td>\n    </tr>\n  </tbody>\n</table>\n</div>"
     },
     "metadata": {},
     "execution_count": 7
    }
   ],
   "source": [
    "word_counts = {}\n",
    "for word in unique_words:\n",
    "    word_counts[word] = 0\n",
    "for word in words:\n",
    "    word_counts[word] = word_counts[word] + 1\n",
    "\n",
    "word_data = pd.DataFrame()\n",
    "word_data[\"Word\"] = word_counts.keys()\n",
    "word_data[\"Total Count\"] = word_counts.values()\n",
    "word_data.head(20)"
   ]
  },
  {
   "cell_type": "code",
   "execution_count": 8,
   "metadata": {},
   "outputs": [],
   "source": [
    "def drop_rows(mask, data):\n",
    "    match_inds = data.index[mask]\n",
    "\n",
    "    print(\"Dropping:\\n\" + str(data.loc[mask]))\n",
    "    return data.drop(match_inds)"
   ]
  },
  {
   "cell_type": "code",
   "execution_count": 9,
   "metadata": {
    "tags": []
   },
   "outputs": [
    {
     "output_type": "stream",
     "name": "stdout",
     "text": [
      "Dropping:\n    Word  Total Count\n72     -           17\n183   \\t           18\n211    &           73\n232    /           49\n887              3809\n977   \\n           26\n"
     ]
    }
   ],
   "source": [
    "#match and drop any rows that are purely non-word characters\n",
    "matches = word_data['Word'].apply(lambda string : re.search(r'^\\W$',string))\n",
    "match_mask = matches.apply(lambda match : match is not None)\n",
    "word_data = drop_rows(match_mask, word_data)\n",
    "word_data.reset_index(drop=True, inplace=True)"
   ]
  },
  {
   "cell_type": "code",
   "execution_count": 10,
   "metadata": {},
   "outputs": [
    {
     "output_type": "stream",
     "name": "stdout",
     "text": [
      "Dropping:\n         Word  Total Count\n0                     1080\n29   flavored            1\n49      cream            1\n79    freshly            1\n81       away            1\n350         a            5\n362         y            1\n370        de            1\n480        to            2\n482     1920s            1\n555        of           11\n586       for            2\n599        in            2\n665        ét            1\n675        au            5\n734      chip            1\n783        an            1\n831       the            2\n898      made            1\n908     nutty            1\n917      with           55\n926       and          345\n934        on            1\n945   manchet            1\n955        vs            1\n"
     ]
    }
   ],
   "source": [
    "#match and keep only words that start with a capital letter\n",
    "matches = word_data['Word'].apply(lambda string : re.match(r'\\W?[A-Z]', string))\n",
    "match_mask = matches.apply(lambda match : match is None)\n",
    "word_data = drop_rows(match_mask, word_data)\n",
    "word_data.reset_index(drop=True, inplace=True)"
   ]
  },
  {
   "cell_type": "code",
   "execution_count": 11,
   "metadata": {},
   "outputs": [
    {
     "output_type": "stream",
     "name": "stdout",
     "text": [
      "Total words after cleaning: 972\n"
     ]
    },
    {
     "output_type": "execute_result",
     "data": {
      "text/plain": [
       "          Word  Total Count\n",
       "630       Cake          118\n",
       "773  Chocolate           65\n",
       "968     Orange           45\n",
       "48      Ginger           40\n",
       "640      Lemon           38\n",
       "241        Pie           36\n",
       "734       Buns           30\n",
       "713      Apple           28\n",
       "20       Bread           28\n",
       "784   Biscuits           24\n",
       "963     Almond           22\n",
       "591      Fruit           22\n",
       "149       Loaf           22\n",
       "682  Raspberry           22\n",
       "434     Walnut           20\n",
       "460     Cheese           19\n",
       "957   Puddings           19\n",
       "467       Tart           18\n",
       "878      Cream           18\n",
       "439      White           17"
      ],
      "text/html": "<div>\n<style scoped>\n    .dataframe tbody tr th:only-of-type {\n        vertical-align: middle;\n    }\n\n    .dataframe tbody tr th {\n        vertical-align: top;\n    }\n\n    .dataframe thead th {\n        text-align: right;\n    }\n</style>\n<table border=\"1\" class=\"dataframe\">\n  <thead>\n    <tr style=\"text-align: right;\">\n      <th></th>\n      <th>Word</th>\n      <th>Total Count</th>\n    </tr>\n  </thead>\n  <tbody>\n    <tr>\n      <th>630</th>\n      <td>Cake</td>\n      <td>118</td>\n    </tr>\n    <tr>\n      <th>773</th>\n      <td>Chocolate</td>\n      <td>65</td>\n    </tr>\n    <tr>\n      <th>968</th>\n      <td>Orange</td>\n      <td>45</td>\n    </tr>\n    <tr>\n      <th>48</th>\n      <td>Ginger</td>\n      <td>40</td>\n    </tr>\n    <tr>\n      <th>640</th>\n      <td>Lemon</td>\n      <td>38</td>\n    </tr>\n    <tr>\n      <th>241</th>\n      <td>Pie</td>\n      <td>36</td>\n    </tr>\n    <tr>\n      <th>734</th>\n      <td>Buns</td>\n      <td>30</td>\n    </tr>\n    <tr>\n      <th>713</th>\n      <td>Apple</td>\n      <td>28</td>\n    </tr>\n    <tr>\n      <th>20</th>\n      <td>Bread</td>\n      <td>28</td>\n    </tr>\n    <tr>\n      <th>784</th>\n      <td>Biscuits</td>\n      <td>24</td>\n    </tr>\n    <tr>\n      <th>963</th>\n      <td>Almond</td>\n      <td>22</td>\n    </tr>\n    <tr>\n      <th>591</th>\n      <td>Fruit</td>\n      <td>22</td>\n    </tr>\n    <tr>\n      <th>149</th>\n      <td>Loaf</td>\n      <td>22</td>\n    </tr>\n    <tr>\n      <th>682</th>\n      <td>Raspberry</td>\n      <td>22</td>\n    </tr>\n    <tr>\n      <th>434</th>\n      <td>Walnut</td>\n      <td>20</td>\n    </tr>\n    <tr>\n      <th>460</th>\n      <td>Cheese</td>\n      <td>19</td>\n    </tr>\n    <tr>\n      <th>957</th>\n      <td>Puddings</td>\n      <td>19</td>\n    </tr>\n    <tr>\n      <th>467</th>\n      <td>Tart</td>\n      <td>18</td>\n    </tr>\n    <tr>\n      <th>878</th>\n      <td>Cream</td>\n      <td>18</td>\n    </tr>\n    <tr>\n      <th>439</th>\n      <td>White</td>\n      <td>17</td>\n    </tr>\n  </tbody>\n</table>\n</div>"
     },
     "metadata": {},
     "execution_count": 11
    }
   ],
   "source": [
    "word_data.sort_values(\"Total Count\", ascending=False, inplace=True)\n",
    "print(\"Total words after cleaning: \" + str(len(word_data.index)))\n",
    "word_data.head(20)"
   ]
  },
  {
   "cell_type": "code",
   "execution_count": 187,
   "metadata": {},
   "outputs": [
    {
     "output_type": "stream",
     "name": "stdout",
     "text": [
      "The dataframe has 997 entries.\nThere are 70 entries with counts greater than 10.\n"
     ]
    }
   ],
   "source": [
    "print(\"The dataframe has \" + str(len(word_data['Total Count'])) + \" entries.\")\n",
    "print(\"There are \" + str(len(word_data[word_data['Total Count'] > 10])) + \" entries with counts greater than 10.\")"
   ]
  }
 ]
}