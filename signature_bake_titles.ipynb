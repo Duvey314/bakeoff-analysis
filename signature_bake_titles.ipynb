{
 "metadata": {
  "language_info": {
   "codemirror_mode": {
    "name": "ipython",
    "version": 3
   },
   "file_extension": ".py",
   "mimetype": "text/x-python",
   "name": "python",
   "nbconvert_exporter": "python",
   "pygments_lexer": "ipython3",
   "version": "3.8.3-final"
  },
  "orig_nbformat": 2,
  "kernelspec": {
   "name": "python3",
   "display_name": "Python 3",
   "language": "python"
  }
 },
 "nbformat": 4,
 "nbformat_minor": 2,
 "cells": [
  {
   "cell_type": "code",
   "execution_count": 38,
   "metadata": {},
   "outputs": [],
   "source": [
    "import pandas as pd\n",
    "import numpy as np\n",
    "import re"
   ]
  },
  {
   "cell_type": "code",
   "execution_count": 3,
   "metadata": {},
   "outputs": [
    {
     "output_type": "execute_result",
     "data": {
      "text/plain": [
       "     Season  Week Number      Baker Week Name  Bake  \\\n",
       "0  Series 1            1    Annetha      Cake  Cake   \n",
       "1  Series 1            1      David      Cake  Cake   \n",
       "2  Series 1            1        Edd      Cake  Cake   \n",
       "3  Series 1            1  Jasminder      Cake  Cake   \n",
       "4  Series 1            1   Jonathan      Cake  Cake   \n",
       "\n",
       "                                      Signature Bake  \\\n",
       "0  Light Jamaican Black Cake with Strawberries an...   \n",
       "1                              Chocolate Orange Cake   \n",
       "2                   Caramel Cinnamon and Banana Cake   \n",
       "3     Fresh Mango and Passion Fruit Hummingbird Cake   \n",
       "4       Carrot Cake with Lime and Cream Cheese Icing   \n",
       "\n",
       "  Signature Time Allotment (hours) Signature Sweet (1) or Savory (0)  \\\n",
       "0                                3                                 1   \n",
       "1                                3                                 1   \n",
       "2                                3                                 1   \n",
       "3                                3                                 1   \n",
       "4                                3                                 1   \n",
       "\n",
       "  Signature Quantity  Signature Handshake  ...  \\\n",
       "0                  1                    0  ...   \n",
       "1                  1                    0  ...   \n",
       "2                  1                    0  ...   \n",
       "3                  1                    0  ...   \n",
       "4                  1                    0  ...   \n",
       "\n",
       "  Showstopper Sweet (1) or Savory (0) Showstopper Quantity  \\\n",
       "0                                   1                    1   \n",
       "1                                   1                    1   \n",
       "2                                   1                    1   \n",
       "3                                   1                    1   \n",
       "4                                   1                    1   \n",
       "\n",
       "  Showstopper Handshake  Favorite Least Favorite  Star Baker Eliminated  \\\n",
       "0                     0       1.0              0           0          0   \n",
       "1                     0       0.0              1           0          0   \n",
       "2                     0       0.0              0           0          0   \n",
       "3                     0       0.0              0           0          0   \n",
       "4                     0       0.0              0           0          0   \n",
       "\n",
       "  Competed Winner UK viewers (millions)  \n",
       "0        1      0                   NaN  \n",
       "1        1      0                   NaN  \n",
       "2        1      1                   NaN  \n",
       "3        1      0                   NaN  \n",
       "4        1      0                   NaN  \n",
       "\n",
       "[5 rows x 29 columns]"
      ],
      "text/html": "<div>\n<style scoped>\n    .dataframe tbody tr th:only-of-type {\n        vertical-align: middle;\n    }\n\n    .dataframe tbody tr th {\n        vertical-align: top;\n    }\n\n    .dataframe thead th {\n        text-align: right;\n    }\n</style>\n<table border=\"1\" class=\"dataframe\">\n  <thead>\n    <tr style=\"text-align: right;\">\n      <th></th>\n      <th>Season</th>\n      <th>Week Number</th>\n      <th>Baker</th>\n      <th>Week Name</th>\n      <th>Bake</th>\n      <th>Signature Bake</th>\n      <th>Signature Time Allotment (hours)</th>\n      <th>Signature Sweet (1) or Savory (0)</th>\n      <th>Signature Quantity</th>\n      <th>Signature Handshake</th>\n      <th>...</th>\n      <th>Showstopper Sweet (1) or Savory (0)</th>\n      <th>Showstopper Quantity</th>\n      <th>Showstopper Handshake</th>\n      <th>Favorite</th>\n      <th>Least Favorite</th>\n      <th>Star Baker</th>\n      <th>Eliminated</th>\n      <th>Competed</th>\n      <th>Winner</th>\n      <th>UK viewers (millions)</th>\n    </tr>\n  </thead>\n  <tbody>\n    <tr>\n      <th>0</th>\n      <td>Series 1</td>\n      <td>1</td>\n      <td>Annetha</td>\n      <td>Cake</td>\n      <td>Cake</td>\n      <td>Light Jamaican Black Cake with Strawberries an...</td>\n      <td>3</td>\n      <td>1</td>\n      <td>1</td>\n      <td>0</td>\n      <td>...</td>\n      <td>1</td>\n      <td>1</td>\n      <td>0</td>\n      <td>1.0</td>\n      <td>0</td>\n      <td>0</td>\n      <td>0</td>\n      <td>1</td>\n      <td>0</td>\n      <td>NaN</td>\n    </tr>\n    <tr>\n      <th>1</th>\n      <td>Series 1</td>\n      <td>1</td>\n      <td>David</td>\n      <td>Cake</td>\n      <td>Cake</td>\n      <td>Chocolate Orange Cake</td>\n      <td>3</td>\n      <td>1</td>\n      <td>1</td>\n      <td>0</td>\n      <td>...</td>\n      <td>1</td>\n      <td>1</td>\n      <td>0</td>\n      <td>0.0</td>\n      <td>1</td>\n      <td>0</td>\n      <td>0</td>\n      <td>1</td>\n      <td>0</td>\n      <td>NaN</td>\n    </tr>\n    <tr>\n      <th>2</th>\n      <td>Series 1</td>\n      <td>1</td>\n      <td>Edd</td>\n      <td>Cake</td>\n      <td>Cake</td>\n      <td>Caramel Cinnamon and Banana Cake</td>\n      <td>3</td>\n      <td>1</td>\n      <td>1</td>\n      <td>0</td>\n      <td>...</td>\n      <td>1</td>\n      <td>1</td>\n      <td>0</td>\n      <td>0.0</td>\n      <td>0</td>\n      <td>0</td>\n      <td>0</td>\n      <td>1</td>\n      <td>1</td>\n      <td>NaN</td>\n    </tr>\n    <tr>\n      <th>3</th>\n      <td>Series 1</td>\n      <td>1</td>\n      <td>Jasminder</td>\n      <td>Cake</td>\n      <td>Cake</td>\n      <td>Fresh Mango and Passion Fruit Hummingbird Cake</td>\n      <td>3</td>\n      <td>1</td>\n      <td>1</td>\n      <td>0</td>\n      <td>...</td>\n      <td>1</td>\n      <td>1</td>\n      <td>0</td>\n      <td>0.0</td>\n      <td>0</td>\n      <td>0</td>\n      <td>0</td>\n      <td>1</td>\n      <td>0</td>\n      <td>NaN</td>\n    </tr>\n    <tr>\n      <th>4</th>\n      <td>Series 1</td>\n      <td>1</td>\n      <td>Jonathan</td>\n      <td>Cake</td>\n      <td>Cake</td>\n      <td>Carrot Cake with Lime and Cream Cheese Icing</td>\n      <td>3</td>\n      <td>1</td>\n      <td>1</td>\n      <td>0</td>\n      <td>...</td>\n      <td>1</td>\n      <td>1</td>\n      <td>0</td>\n      <td>0.0</td>\n      <td>0</td>\n      <td>0</td>\n      <td>0</td>\n      <td>1</td>\n      <td>0</td>\n      <td>NaN</td>\n    </tr>\n  </tbody>\n</table>\n<p>5 rows × 29 columns</p>\n</div>"
     },
     "metadata": {},
     "execution_count": 3
    }
   ],
   "source": [
    "raw_data = pd.read_csv('GBBO Data Set - Bakes.csv')\n",
    "raw_data.head()"
   ]
  },
  {
   "cell_type": "code",
   "execution_count": 4,
   "metadata": {},
   "outputs": [
    {
     "output_type": "execute_result",
     "data": {
      "text/plain": [
       "Season                                  object\n",
       "Week Number                              int64\n",
       "Baker                                   object\n",
       "Week Name                               object\n",
       "Bake                                    object\n",
       "Signature Bake                          object\n",
       "Signature Time Allotment (hours)        object\n",
       "Signature Sweet (1) or Savory (0)       object\n",
       "Signature Quantity                      object\n",
       "Signature Handshake                      int64\n",
       "Technical Bake                          object\n",
       "Technical Recipe Writer                 object\n",
       "Technical Time Allotment (hours)        object\n",
       "Technical Sweet (1) or Savory (0)      float64\n",
       "Technical Quantity                      object\n",
       "Technical Rank                         float64\n",
       "Showstopper                             object\n",
       "Showstopper Bake                        object\n",
       "Showstopper Time Allotment (hours)      object\n",
       "Showstopper Sweet (1) or Savory (0)     object\n",
       "Showstopper Quantity                    object\n",
       "Showstopper Handshake                    int64\n",
       "Favorite                               float64\n",
       "Least Favorite                           int64\n",
       "Star Baker                               int64\n",
       "Eliminated                               int64\n",
       "Competed                                 int64\n",
       "Winner                                   int64\n",
       "UK viewers (millions)                  float64\n",
       "dtype: object"
      ]
     },
     "metadata": {},
     "execution_count": 4
    }
   ],
   "source": [
    "raw_data.dtypes"
   ]
  },
  {
   "cell_type": "code",
   "execution_count": 5,
   "metadata": {},
   "outputs": [
    {
     "output_type": "execute_result",
     "data": {
      "text/plain": [
       "     Season  Week Number      Baker  Bake  \\\n",
       "0  Series 1            1    Annetha  Cake   \n",
       "1  Series 1            1      David  Cake   \n",
       "2  Series 1            1        Edd  Cake   \n",
       "3  Series 1            1  Jasminder  Cake   \n",
       "4  Series 1            1   Jonathan  Cake   \n",
       "\n",
       "                                      Signature Bake  Sweet  Handshake  \\\n",
       "0  Light Jamaican Black Cake with Strawberries an...   True      False   \n",
       "1                              Chocolate Orange Cake   True      False   \n",
       "2                   Caramel Cinnamon and Banana Cake   True      False   \n",
       "3     Fresh Mango and Passion Fruit Hummingbird Cake   True      False   \n",
       "4       Carrot Cake with Lime and Cream Cheese Icing   True      False   \n",
       "\n",
       "   Favorite  Least Favorite  Star Baker  Eliminated  Winner  \n",
       "0      True           False       False       False   False  \n",
       "1     False            True       False       False   False  \n",
       "2     False           False       False       False    True  \n",
       "3     False           False       False       False   False  \n",
       "4     False           False       False       False   False  "
      ],
      "text/html": "<div>\n<style scoped>\n    .dataframe tbody tr th:only-of-type {\n        vertical-align: middle;\n    }\n\n    .dataframe tbody tr th {\n        vertical-align: top;\n    }\n\n    .dataframe thead th {\n        text-align: right;\n    }\n</style>\n<table border=\"1\" class=\"dataframe\">\n  <thead>\n    <tr style=\"text-align: right;\">\n      <th></th>\n      <th>Season</th>\n      <th>Week Number</th>\n      <th>Baker</th>\n      <th>Bake</th>\n      <th>Signature Bake</th>\n      <th>Sweet</th>\n      <th>Handshake</th>\n      <th>Favorite</th>\n      <th>Least Favorite</th>\n      <th>Star Baker</th>\n      <th>Eliminated</th>\n      <th>Winner</th>\n    </tr>\n  </thead>\n  <tbody>\n    <tr>\n      <th>0</th>\n      <td>Series 1</td>\n      <td>1</td>\n      <td>Annetha</td>\n      <td>Cake</td>\n      <td>Light Jamaican Black Cake with Strawberries an...</td>\n      <td>True</td>\n      <td>False</td>\n      <td>True</td>\n      <td>False</td>\n      <td>False</td>\n      <td>False</td>\n      <td>False</td>\n    </tr>\n    <tr>\n      <th>1</th>\n      <td>Series 1</td>\n      <td>1</td>\n      <td>David</td>\n      <td>Cake</td>\n      <td>Chocolate Orange Cake</td>\n      <td>True</td>\n      <td>False</td>\n      <td>False</td>\n      <td>True</td>\n      <td>False</td>\n      <td>False</td>\n      <td>False</td>\n    </tr>\n    <tr>\n      <th>2</th>\n      <td>Series 1</td>\n      <td>1</td>\n      <td>Edd</td>\n      <td>Cake</td>\n      <td>Caramel Cinnamon and Banana Cake</td>\n      <td>True</td>\n      <td>False</td>\n      <td>False</td>\n      <td>False</td>\n      <td>False</td>\n      <td>False</td>\n      <td>True</td>\n    </tr>\n    <tr>\n      <th>3</th>\n      <td>Series 1</td>\n      <td>1</td>\n      <td>Jasminder</td>\n      <td>Cake</td>\n      <td>Fresh Mango and Passion Fruit Hummingbird Cake</td>\n      <td>True</td>\n      <td>False</td>\n      <td>False</td>\n      <td>False</td>\n      <td>False</td>\n      <td>False</td>\n      <td>False</td>\n    </tr>\n    <tr>\n      <th>4</th>\n      <td>Series 1</td>\n      <td>1</td>\n      <td>Jonathan</td>\n      <td>Cake</td>\n      <td>Carrot Cake with Lime and Cream Cheese Icing</td>\n      <td>True</td>\n      <td>False</td>\n      <td>False</td>\n      <td>False</td>\n      <td>False</td>\n      <td>False</td>\n      <td>False</td>\n    </tr>\n  </tbody>\n</table>\n</div>"
     },
     "metadata": {},
     "execution_count": 5
    }
   ],
   "source": [
    "clean_data = raw_data[[\"Season\",\"Week Number\",\"Baker\",\"Bake\",\"Signature Bake\"]]\n",
    "clean_data[\"Sweet\"] = raw_data[\"Signature Sweet (1) or Savory (0)\"].astype(\"bool\")\n",
    "clean_data[\"Handshake\"] = raw_data[\"Signature Handshake\"].astype(\"bool\")\n",
    "clean_data = pd.concat([clean_data,raw_data[[\"Favorite\",\"Least Favorite\",\"Star Baker\",\"Eliminated\",\"Winner\"]].astype(\"bool\")], axis=1)\n",
    "clean_data.head()"
   ]
  },
  {
   "cell_type": "code",
   "execution_count": 63,
   "metadata": {
    "tags": []
   },
   "outputs": [
    {
     "output_type": "stream",
     "name": "stdout",
     "text": [
      "{'', 'Four', 'Nutty', 'Great', 'Panda', 'Raisins', 'Melting', 'Kumquat', 'Chunk', 'Melts', 'Treble', 'Broccoli', 'Liquorice', 'Hazelnut,', 'Seeded', 'Steamed', 'Halwa', 'A', 'Seeds', 'Tiramisu', 'Chilli', 'Pie', 'Gingerbread', 'Lime', 'Game', 'Savoury', 'Frosting', 'Morning', 'Cup', 'Apple,', 'Strawberry,', 'Cyflym', 'Date', 'Redcurrant', 'Meat', 'Almonds', 'Stout', 'Danish', 'Mandarin', 'Mess', 'Turkish', 'Curd', 'Orange,', 'Baba', \"Dreams'\", 'Crumble', 'Perkins', 'away', 'Have', 'Curry', 'Lemon', 'Puddings', 'Profiteroles', 'Pancetta', 'Tear', 'Orangey', 'Jackfruit,', 'Sourdough,', 'Crystals', 'Kardemummabullar', 'Coulibiac', 'Poached', 'Middle', 'Frosted', 'to', 'Coco', 'Fruits', 'Tomato,', 'Empanadas', 'Chaussons', 'Spice', 'Babas', 'Everything', 'Sunday', 'Cookie', 'Sultana', 'Coriander', 'Barfi', 'Inspired', 'Devonshire', 'Molten', 'Plait,', 'Hole', 'Pear', 'Me', 'Roll', 'Pitcaithly', 'Baked', 'Pick', 'Zingy', 'De', 'Chicken,', 'Crab,', 'Three', 'Apple', 'Lavender', 'Ginger,', 'Chutney', 'Pleaser', 'Venison', 'Shallot', 'Brie', 'Marula', 'Sky', 'Gruyère', 'Nicely', 'Braid', 'Chicken', 'Florentine', 'Palmiers', 'Pumpkin', 'Green', 'au', 'Tree', 'India', 'Rainbow', 'Paneer', 'for', 'Lemonade', 'Petal', \"Millionaires'\", 'Drinks', 'Plait', 'Pizza', 'Whip', 'Nigella', 'Duck', 'Pina', 'Tangzhong', 'Diplomat', 'Limoncello', 'Multi', 'Honeyed', 'Drip', 'Garlic', 'Puffs', 'Aperitif', 'Rosemary', 'Asian', 'Bunting', 'Bannock', 'Egyptian', 'Star', 'Aberffraw', 'Flour', 'Two,', 'Tart', 'Tiffin', 'City', 'Yuzu', 'Apricot', \"'Creams'\", 'Blossom', \"America'\", 'Festival', 'Farthing', 'Bonus', 'Chutney,', 'Pastries', 'of', \"Millionaire's\", 'Semlor', 'Gujarela', 'Spices', 'Tomatoes', \"Latte'\", 'Pâtissière', 'and', 'Mozzarella,', 'Baa', 'Citrus', 'Doughnuts', 'Spicy', 'Towering', 'Fennel', 'Battenberg', 'Potato,', 'Free', 'Sandwich', 'Cream', 'Apples', 'Bramble', '\\n', 'Pandan', 'Fingers', 'Raisin', 'Prawn', 'Barbecue', 'Traybake', 'Pineapple,', 'Chocolat', 'Lemon,', 'Balsamic', 'Brownies', 'Parsnip', 'Mascarpone', 'Noson', 'Pumpkin,', 'Carom', 'New', 'Triple', 'Tatin', 'Mediterranean', 'Cauliflower,', 'Ham', 'Nut', 'Baklava', 'Chiffon', 'Espresso', 'Eton', 'Printanière', 'Cheddar', 'Dates,', 'Lemons', 'Romantic', 'Mojito', 'Topped', 'Seed', 'Street', 'Mardi', 'Oxford', 'Hemp', 'Cheese,', 'Pies', 'Gravy', 'Kiwi', 'Swedish', 'Madeleines', 'Coconut,', 'Ice', 'Fudge', 'Amaretto', 'Focaccia', 'Tropical', 'Purée', 'Saucy', 'Burfi', 'Walnut,', 'Prune', 'Traditional', 'Cheshire', 'The', 'Finnish', 'Flats', 'Brownie', 'Shanghai', 'Chai', 'Jubilee', 'Dried', 'Creme', 'Compromise', 'Paprika', 'Down', 'Tarts', 'Bait', 'Cumin', 'Grapefruit', 'Maple', 'Roly', 'cream', 'Forest', 'Soda', 'Watercress', 'Grey', 'Lait', 'Foldovers', 'Da', 'Zupfe', 'Boaring', 'Tangy', 'vs', 'Pigeon', 'chip', 'Langues', 'Roasted', 'Bonfire', 'Quarantine', 'Thins', 'Cranberry', 'Mushroom', 'Nutmeg', 'Caraway', 'Bundt', 'Cakes', 'Wheat', 'Picante', 'Horns', 'Wood', \"Summer's\", 'Bittersweet', 'Tagine', 'Guglhupf', \"Ploughman's\", 'Taboon', 'Clove', 'Cross', 'Keralan', 'Brûlée', 'Madeira', 'Feuille', 'Pecan,', 'Buns', 'Cardiff', 'Margarita', 'Moments', 'Samosas', 'Strawberry', 'Plum', 'Smoky', 'Manchester', 'Domed', 'Mango,', 'Kale', 'Almond', 'Light', 'Bacon', 'Peach,', 'Barmbrack', 'Easter', 'Your', '1920s', 'Piggy', 'Seabass', 'Pink', 'Caerphilly', 'Wasabi', 'Gin', 'Vanilla', 'Stromboli', 'Style', 'Waistcoat', 'Pinwheels', 'Marley', 'Coffee', 'Cheeseburger', 'Manchego', 'Hmmmm', 'Boy', 'Chantenay', 'Chorizo', 'Armagnac', 'Dose', 'Roulade', 'Dulce', 'Poppy', 'the', 'Parmesan', 'Homely', \"Christmas'\", 'Tequila,', 'Giant', 'Gingernuts', 'Caramel', 'Swirly', 'Tipple', 'Pontefract', 'Crusty', 'Bara', 'Cheese', 'Ham,', 'Beetroot', 'Empire', 'Gras', 'Cardamom,', 'Crusted', 'Savarins', 'Zesty', 'Beehive', 'Peanut', 'Sunflower', 'Cauliflower', 'Squashy', 'Vinci', 'Wreath', 'Carrots', 'freshly', 'Polenta', \"Dad's\", 'Blood', 'Malt,', 'Coconut', 'Shrewsburys', 'Picnic', 'Father', 'Breadsticks', 'Yeast', 'Chickpea,', '-', 'Kirsch', 'Cake', \"S'mores'\", 'Rhubarb', 'Walnut', 'Pickle', 'Tomato\\xa0Quiches\\xa0and\\xa0Mascarpone\\xa0Squirrel', 'de', 'Ambulance', 'Candied', 'Poly', 'Magic', 'Caws', 'Rustic', 'Choi', 'Breakfast', 'Minced', 'Little', 'Slice', 'Oatcakes', 'Leche', 'Pork', 'Shaped', 'Cranachan', 'Bunskis', 'Sohan', 'Aloo', 'Chestnut', 'Creams', 'Savarin', 'Brown', 'Sunshine', 'Desert', 'Beef', 'Ripple', 'Wedding', 'Two', 'Cheesy', 'Brith)', 'Mum', \"'With\", 'Potato', 'Vanilla,', 'Piña', 'Ginger', 'Miniature', 'Marzipan', 'Haddock', 'Cinnamon', 'Café', 'Cardamom', 'Frasier', 'Pot', 'Meringue', 'Kugelhopf', 'Feathered', \"Grandma's\", 'Roast', 'Surprise', 'Cookies', 'Swirls', 'Comforts', 'Fish', 'Window', 'Apricot,', 'Italy', 'Less', 'Cheesecake', 'Hearts', 'Witch', 'Hot', 'Gâteau', 'Dick', 'Carroty', 'Panettone', 'Bombay', 'Rose', 'Posto', 'Mushroom,', 'Fusion', 'Ode', '(Our', 'Honeycomb', 'Zest', 'Cider', 'Friands', 'Fruity', 'Haggis', 'Butter', 'Aromatic', 'Rong', 'Torte', 'Drizzle', 'District', 'Celebration', 'Dumplings', 'Salmon', 'Cheesecakes', '/', 'Toffee', 'Indian', 'Roquefort', 'Croissants', 'Kawaii', 'Hummus', 'Island', 'Mocha', 'Mont', 'Blue', 'Decadent', 'Spinach', 'Mallow', \"It'\", 'Eastern', 'Katsu', 'Triangles', 'Twisty', 'Water', 'Crab', 'Adventure', 'Virgin', 'Grissini', 'Caramelised', 'Summer', 'Truffle', 'Glass', 'Raspberry,', 'Sage', 'Fours', 'Tudor', 'Gobi', 'Masala', 'Chilli,', 'Naan', 'Jam', 'Raisins,', 'Gorgonzola', 'Florentines', 'Cupcakes', 'Pecan', 'Night)', 'Nuts', 'Chip', 'Tortillas', 'York', 'Rum', 'Moroccan', 'Not', 'Fruit', 'Country', 'Trucking', 'Nana', 'Treats', \"Arundel's\", 'Pithivier', 'Martini\\xa0Madeleines', \"Kick'\", 'My', 'Italiano', 'Créme', 'Babka', 'Burger', 'Yoghurt', 'Onions', \"Victoria's\", 'Biscuits\"', 'Chelsea', 'Malt', 'Financiers', 'Sun', 'Tofu', 'Post', 'Pears', 'Perfect', 'German', 'Pudding', 'Marshmallow', '(Cheese', 'Novel', 'Choc', 'Cupcake', 'Colada', 'Cinnamon,', 'Marmalade', 'Butternut', 'Smørrebrød', 'Chopped', 'Cod', 'Croque', 'Blackberry', 'Elephant', \"Family's\", 'Liqueur', 'Brioche', 'Japanese', 'Cupcakes,', 'White', 'Bumblebee', 'Bakewell', 'Flavours', 'Brith', \"Mamgu's\", 'Chocolate', 'Chocolate,', 'Sticky', 'Amarene', 'Simnel', 'Lentil', 'Roti', \"Rogers'\", 'nutty', 'Shallot,', \"S'mores\", 'Scandinavian', 'Honey', 'Pasties', 'Leek,', 'Chat', 'Spanish', 'Raspberry', 'Millionaire', 'Tonic', 'Lardy', 'Lady', 'Sugar', 'Brûlées', 'Cornish', 'Granola', \"Summer'\", 'Royal', \"Peg's\", 'Kedgeree', 'Choux', 'Pepper', 'Frangipane', 'Gluten', 'Tutti', 'Herby', 'Plaits', 'Answer', 'Amber', 'Christmas', 'Quick', 'Childhood', 'Double', 'Streaky', 'Cygnets', 'Cone', 'Fondants', 'Naked', 'Favourite', 'Spinach,', 'Mango', 'Asparagus', 'Early', 'Blueberry', 'Crème', 'Misti', \"Treats'\", 'Flower', 'Kachori', 'Shortbread', 'Banana', 'Peach', 'Wellington', \"Za'atar\", 'Wellingtons', 'Timperley', 'Couronne', 'Stained', 'Classic', 'Glaze', 'Shiny', 'Peppers', 'Fresh', 'Ni', 'Oat', 'Lamb', 'Somewhere', 'Mint,', 'Rotis', 'Family', 'Attract', 'Sundried', 'Pesto', 'Chaat', 'Tasty', 'Sponges', 'Pear,', \"Past'\", 'Lake', 'Passion', 'Roadkill', 'Vegetable', '\"A', 'Custard', 'Eat', 'Citron', 'Cheeky', 'Pak', 'Cambozola', 'Wicked', 'Pomegranate', 'Bacon,', 'Biscuits', 'Sauce', 'Celeriac', 'on', 'Clootie', 'Spelt', 'Jalapeño', 'Broads\"', 'Sausage', 'Teulu', 'Mega', 'Crackers', 'Red', 'Good', 'Bunny', 'Chorizo,', 'Onion,', 'Praline', 'Lincolnshire', 'Yorkshires', 'Rosewater', 'Crown', 'Ghost', 'Mixed', 'Singara', 'Parma', 'Parsnip,', 'Blanc', \"'Tapas'\", 'Rhubarb,', 'Twist', 'Indulgence', 'Cassis', 'Winter', 'Muscat', 'Peak', 'Spirals', 'Turmeric', \"Granny's\", 'Kick', 'made', 'Proper', 'Lemongrass', 'Prosciutto,', 'Thyme', 'Tarte', 'Carrot', 'Peacock', 'Smoked', \"Flute'\", 'Fig', 'Dukkah', 'Granny', 'Gimmie', 'Oatmeal', 'Night', 'Opera', 'flavored', 'Peppermint', 'Bay', 'Cherrylicious', 'Breads', '\"Wheelie', 'Opposites', 'Goats', 'Spring', 'Layers', 'Rarebit', 'Onion', 'Devon', 'English', 'Berry', 'Jamaican', 'Layered', 'Gym', 'Nikuman', 'Orange', 'Mojito\\xa0Madeleines', 'Welsh', '&', 'Swiss', 'Crunchy', 'Calvados', 'Cob', '\"Beer\"', 'Filled', 'Anchovy,', 'Smørrebrød\\r', 'Cherry', 'Accompaniment', 'After', 'Loaf', 'In', 'Velvet', 'Treacle', 'Goosnargh', 'East', 'Yorkshire', 'Mangoes', 'Brunch', 'Wild', 'Explosion', 'Hazelnut', 'Pea', 'Salsa', 'Tea', 'Bazaar', 'Abricot', 'Belly', 'Veg', 'a', 'Mousse', 'Rhum', \"Mum's\", 'Mocha,', 'Earl', 'Quiche', 'Red,', 'Passionfruit', 'Saffron', 'Zaatar', 'Swirl', 'Crunch', 'Cayenne,', 'Custards', 'Lassi', 'Nougat', 'Flowers', 'Treat', 'Sesame', 'Caramel,', 'Holiday', 'Warm', 'Figgy', 'Stem', 'Summery', 'Plum,', 'Clementine', 'with', 'Iced', 'Strawberries', 'Chapatis', 'Jelly', 'Own', 'Rye', 'For', 'Barberry', 'Dinner', 'Ways', 'Bread', 'Share', 'Mexican', 'Jalapeño,', 'Quiches', 'Clements', 'y', 'Florida', 'in', 'Hummingbird', 'Salt', 'Stilton', 'ét', 'Falafel', ' ', 'Fancy', 'Banoffee', 'Salad', 'Queen', 'Salted', 'Thai', 'Ghugni', 'Oregano', 'Grapefruit,', 'Sweet', 'Biscotti', 'Petits', 'Tartlets', 'Halloween', 'Spotted', 'Pineapple', 'Butterscotch', 'Bat', 'Bun', 'Raspberries', 'Guinness', 'Five', 'Lovely', 'Fig,', 'Samosa', 'Rolls', 'Beer', 'Knots', 'Squishy', 'Upside', 'Lime,', 'Italian', \"Noir'\", 'Clefs', 'Pig', 'Pistachio', 'Macadamia', 'Biscuit', 'Basket', 'Leafy', 'Bars', 'Boozy', 'Ears', 'French', 'Matchsticks', 'Blackberry,', 'Peppercorn', 'Black', 'Suet', 'Trifle', 'Bonanzas;', 'Leek', \"Dhal'\", 'Pain', 'Minted', 'Geared', \"Goat's\", 'Spiced', 'Tarragon', 'Fruitti', 'Tattie', 'Festive', 'Home', 'manchet', 'Ruby', 'Sour', 'Rice', 'Lebkuchen', 'Union', 'Turron', 'Bouquet', \"'Cheesy\", 'Eggs', 'Crowd', 'Pistachio,', 'Tiered', 'Olive', 'Jack', 'an', 'Coffee,', 'Chocolatey', 'Panang', 'Tartlets\\r', 'Kites', 'Garlic,', 'Mini', 'Au', 'Punch', \"Greens'\", 'Leaf,', 'Macchiato', 'Madeleines\\r', 'Best', 'Dark', 'Gruyere', 'Brittle', '\\t', 'Mint', 'Crazy', 'Courgette,', 'Icing', 'Ring', 'Apricots', 'Crispy', 'Kozunak', 'Fenugreek', 'G&T', \"Citrus'\", 'Stilton,', 'Full', 'St.', 'Pitas', 'Sticks', 'Aubergine', 'Syrup', 'Shortcrust', 'Madeleine', 'Palm', 'Smokey', 'Caribbean', 'Cobbled', 'Martini', 'Raised', 'Mille', 'Macarons', 'Salmon,', \"Show'\", 'Pots', 'Tahini', 'Génoise', 'Pastry', 'Monsieur', 'Flatbreads', 'Caramelly', 'Toad', 'Elderflower', 'Scones', 'Basil', 'Pine', 'Frappelatteccino', 'Summertime', 'Egg', 'Day', 'Wine', 'Tomato', 'Almond,', 'West'}\n0\n"
     ]
    }
   ],
   "source": [
    "titles = clean_data[\"Signature Bake\"]\n",
    "words = []\n",
    "words_in_titles = []\n",
    "numErrors = 0\n",
    "for title in titles:\n",
    "    try:\n",
    "        if(type(title) is str):\n",
    "            words_in_titles.append(re.split('( |/|\\t|\\n|-)', title))\n",
    "            words.extend(words_in_titles[-1])\n",
    "    except Exception as e:\n",
    "        numErrors = numErrors + 1\n",
    "        print(e)\n",
    "        print(title)\n",
    "        break\n",
    "\n",
    "unique_words = set(words)\n",
    "print(unique_words)\n",
    "print(numErrors)"
   ]
  },
  {
   "cell_type": "code",
   "execution_count": 66,
   "metadata": {},
   "outputs": [
    {
     "output_type": "stream",
     "name": "stdout",
     "text": [
      "[['Light', ' ', 'Jamaican', ' ', 'Black', ' ', 'Cake', ' ', 'with', ' ', 'Strawberries', ' ', 'and', ' ', 'Cream'], ['Chocolate', ' ', 'Orange', ' ', 'Cake'], ['Caramel', ' ', 'Cinnamon', ' ', 'and', ' ', 'Banana', ' ', 'Cake'], ['Fresh', ' ', 'Mango', ' ', 'and', ' ', 'Passion', ' ', 'Fruit', ' ', 'Hummingbird', ' ', 'Cake']]\n"
     ]
    }
   ],
   "source": [
    "print(words_in_titles[0:4])"
   ]
  },
  {
   "cell_type": "code",
   "execution_count": 64,
   "metadata": {},
   "outputs": [
    {
     "output_type": "execute_result",
     "data": {
      "text/plain": [
       "          Word  Total Count\n",
       "855                    3809\n",
       "0                      1080\n",
       "167        and          345\n",
       "389       Cake          118\n",
       "771          &           73\n",
       "590  Chocolate           65\n",
       "830       with           55\n",
       "486          /           49\n",
       "768     Orange           45\n",
       "432     Ginger           40\n",
       "50       Lemon           38\n",
       "21         Pie           36\n",
       "301       Buns           30\n",
       "94       Apple           28\n",
       "841      Bread           28\n",
       "182         \\n           26\n",
       "692   Biscuits           24\n",
       "313     Almond           22\n",
       "783       Loaf           22\n",
       "607  Raspberry           22"
      ],
      "text/html": "<div>\n<style scoped>\n    .dataframe tbody tr th:only-of-type {\n        vertical-align: middle;\n    }\n\n    .dataframe tbody tr th {\n        vertical-align: top;\n    }\n\n    .dataframe thead th {\n        text-align: right;\n    }\n</style>\n<table border=\"1\" class=\"dataframe\">\n  <thead>\n    <tr style=\"text-align: right;\">\n      <th></th>\n      <th>Word</th>\n      <th>Total Count</th>\n    </tr>\n  </thead>\n  <tbody>\n    <tr>\n      <th>855</th>\n      <td></td>\n      <td>3809</td>\n    </tr>\n    <tr>\n      <th>0</th>\n      <td></td>\n      <td>1080</td>\n    </tr>\n    <tr>\n      <th>167</th>\n      <td>and</td>\n      <td>345</td>\n    </tr>\n    <tr>\n      <th>389</th>\n      <td>Cake</td>\n      <td>118</td>\n    </tr>\n    <tr>\n      <th>771</th>\n      <td>&amp;</td>\n      <td>73</td>\n    </tr>\n    <tr>\n      <th>590</th>\n      <td>Chocolate</td>\n      <td>65</td>\n    </tr>\n    <tr>\n      <th>830</th>\n      <td>with</td>\n      <td>55</td>\n    </tr>\n    <tr>\n      <th>486</th>\n      <td>/</td>\n      <td>49</td>\n    </tr>\n    <tr>\n      <th>768</th>\n      <td>Orange</td>\n      <td>45</td>\n    </tr>\n    <tr>\n      <th>432</th>\n      <td>Ginger</td>\n      <td>40</td>\n    </tr>\n    <tr>\n      <th>50</th>\n      <td>Lemon</td>\n      <td>38</td>\n    </tr>\n    <tr>\n      <th>21</th>\n      <td>Pie</td>\n      <td>36</td>\n    </tr>\n    <tr>\n      <th>301</th>\n      <td>Buns</td>\n      <td>30</td>\n    </tr>\n    <tr>\n      <th>94</th>\n      <td>Apple</td>\n      <td>28</td>\n    </tr>\n    <tr>\n      <th>841</th>\n      <td>Bread</td>\n      <td>28</td>\n    </tr>\n    <tr>\n      <th>182</th>\n      <td>\\n</td>\n      <td>26</td>\n    </tr>\n    <tr>\n      <th>692</th>\n      <td>Biscuits</td>\n      <td>24</td>\n    </tr>\n    <tr>\n      <th>313</th>\n      <td>Almond</td>\n      <td>22</td>\n    </tr>\n    <tr>\n      <th>783</th>\n      <td>Loaf</td>\n      <td>22</td>\n    </tr>\n    <tr>\n      <th>607</th>\n      <td>Raspberry</td>\n      <td>22</td>\n    </tr>\n  </tbody>\n</table>\n</div>"
     },
     "metadata": {},
     "execution_count": 64
    }
   ],
   "source": [
    "word_counts = {}\n",
    "for word in unique_words:\n",
    "    word_counts[word] = 0\n",
    "for word in words:\n",
    "    word_counts[word] = word_counts[word] + 1\n",
    "\n",
    "word_data = pd.DataFrame()\n",
    "word_data[\"Word\"] = word_counts.keys()\n",
    "word_data[\"Total Count\"] = word_counts.values()\n",
    "word_data.sort_values(\"Total Count\", ascending=False, inplace=True)\n",
    "word_data.head(20)"
   ]
  }
 ]
}