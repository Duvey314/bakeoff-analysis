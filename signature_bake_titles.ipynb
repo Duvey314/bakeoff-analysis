{
 "metadata": {
  "language_info": {
   "codemirror_mode": {
    "name": "ipython",
    "version": 3
   },
   "file_extension": ".py",
   "mimetype": "text/x-python",
   "name": "python",
   "nbconvert_exporter": "python",
   "pygments_lexer": "ipython3",
   "version": "3.8.3-final"
  },
  "orig_nbformat": 2,
  "kernelspec": {
   "name": "python3",
   "display_name": "Python 3",
   "language": "python"
  }
 },
 "nbformat": 4,
 "nbformat_minor": 2,
 "cells": [
  {
   "cell_type": "code",
   "execution_count": 13,
   "metadata": {},
   "outputs": [],
   "source": [
    "import pandas as pd\n",
    "import numpy as np\n",
    "import matplotlib.pyplot as pp\n",
    "import re"
   ]
  },
  {
   "cell_type": "code",
   "execution_count": 2,
   "metadata": {},
   "outputs": [
    {
     "output_type": "execute_result",
     "data": {
      "text/plain": [
       "     Season  Week Number      Baker Week Name  Bake  \\\n",
       "0  Series 1            1    Annetha      Cake  Cake   \n",
       "1  Series 1            1      David      Cake  Cake   \n",
       "2  Series 1            1        Edd      Cake  Cake   \n",
       "3  Series 1            1  Jasminder      Cake  Cake   \n",
       "4  Series 1            1   Jonathan      Cake  Cake   \n",
       "\n",
       "                                      Signature Bake  \\\n",
       "0  Light Jamaican Black Cake with Strawberries an...   \n",
       "1                              Chocolate Orange Cake   \n",
       "2                   Caramel Cinnamon and Banana Cake   \n",
       "3     Fresh Mango and Passion Fruit Hummingbird Cake   \n",
       "4       Carrot Cake with Lime and Cream Cheese Icing   \n",
       "\n",
       "  Signature Time Allotment (hours) Signature Sweet (1) or Savory (0)  \\\n",
       "0                                3                                 1   \n",
       "1                                3                                 1   \n",
       "2                                3                                 1   \n",
       "3                                3                                 1   \n",
       "4                                3                                 1   \n",
       "\n",
       "  Signature Quantity  Signature Handshake  ...  \\\n",
       "0                  1                    0  ...   \n",
       "1                  1                    0  ...   \n",
       "2                  1                    0  ...   \n",
       "3                  1                    0  ...   \n",
       "4                  1                    0  ...   \n",
       "\n",
       "  Showstopper Sweet (1) or Savory (0) Showstopper Quantity  \\\n",
       "0                                   1                    1   \n",
       "1                                   1                    1   \n",
       "2                                   1                    1   \n",
       "3                                   1                    1   \n",
       "4                                   1                    1   \n",
       "\n",
       "  Showstopper Handshake  Favorite Least Favorite  Star Baker Eliminated  \\\n",
       "0                     0       1.0              0           0          0   \n",
       "1                     0       0.0              1           0          0   \n",
       "2                     0       0.0              0           0          0   \n",
       "3                     0       0.0              0           0          0   \n",
       "4                     0       0.0              0           0          0   \n",
       "\n",
       "  Competed Winner UK viewers (millions)  \n",
       "0        1      0                   NaN  \n",
       "1        1      0                   NaN  \n",
       "2        1      1                   NaN  \n",
       "3        1      0                   NaN  \n",
       "4        1      0                   NaN  \n",
       "\n",
       "[5 rows x 29 columns]"
      ],
      "text/html": "<div>\n<style scoped>\n    .dataframe tbody tr th:only-of-type {\n        vertical-align: middle;\n    }\n\n    .dataframe tbody tr th {\n        vertical-align: top;\n    }\n\n    .dataframe thead th {\n        text-align: right;\n    }\n</style>\n<table border=\"1\" class=\"dataframe\">\n  <thead>\n    <tr style=\"text-align: right;\">\n      <th></th>\n      <th>Season</th>\n      <th>Week Number</th>\n      <th>Baker</th>\n      <th>Week Name</th>\n      <th>Bake</th>\n      <th>Signature Bake</th>\n      <th>Signature Time Allotment (hours)</th>\n      <th>Signature Sweet (1) or Savory (0)</th>\n      <th>Signature Quantity</th>\n      <th>Signature Handshake</th>\n      <th>...</th>\n      <th>Showstopper Sweet (1) or Savory (0)</th>\n      <th>Showstopper Quantity</th>\n      <th>Showstopper Handshake</th>\n      <th>Favorite</th>\n      <th>Least Favorite</th>\n      <th>Star Baker</th>\n      <th>Eliminated</th>\n      <th>Competed</th>\n      <th>Winner</th>\n      <th>UK viewers (millions)</th>\n    </tr>\n  </thead>\n  <tbody>\n    <tr>\n      <th>0</th>\n      <td>Series 1</td>\n      <td>1</td>\n      <td>Annetha</td>\n      <td>Cake</td>\n      <td>Cake</td>\n      <td>Light Jamaican Black Cake with Strawberries an...</td>\n      <td>3</td>\n      <td>1</td>\n      <td>1</td>\n      <td>0</td>\n      <td>...</td>\n      <td>1</td>\n      <td>1</td>\n      <td>0</td>\n      <td>1.0</td>\n      <td>0</td>\n      <td>0</td>\n      <td>0</td>\n      <td>1</td>\n      <td>0</td>\n      <td>NaN</td>\n    </tr>\n    <tr>\n      <th>1</th>\n      <td>Series 1</td>\n      <td>1</td>\n      <td>David</td>\n      <td>Cake</td>\n      <td>Cake</td>\n      <td>Chocolate Orange Cake</td>\n      <td>3</td>\n      <td>1</td>\n      <td>1</td>\n      <td>0</td>\n      <td>...</td>\n      <td>1</td>\n      <td>1</td>\n      <td>0</td>\n      <td>0.0</td>\n      <td>1</td>\n      <td>0</td>\n      <td>0</td>\n      <td>1</td>\n      <td>0</td>\n      <td>NaN</td>\n    </tr>\n    <tr>\n      <th>2</th>\n      <td>Series 1</td>\n      <td>1</td>\n      <td>Edd</td>\n      <td>Cake</td>\n      <td>Cake</td>\n      <td>Caramel Cinnamon and Banana Cake</td>\n      <td>3</td>\n      <td>1</td>\n      <td>1</td>\n      <td>0</td>\n      <td>...</td>\n      <td>1</td>\n      <td>1</td>\n      <td>0</td>\n      <td>0.0</td>\n      <td>0</td>\n      <td>0</td>\n      <td>0</td>\n      <td>1</td>\n      <td>1</td>\n      <td>NaN</td>\n    </tr>\n    <tr>\n      <th>3</th>\n      <td>Series 1</td>\n      <td>1</td>\n      <td>Jasminder</td>\n      <td>Cake</td>\n      <td>Cake</td>\n      <td>Fresh Mango and Passion Fruit Hummingbird Cake</td>\n      <td>3</td>\n      <td>1</td>\n      <td>1</td>\n      <td>0</td>\n      <td>...</td>\n      <td>1</td>\n      <td>1</td>\n      <td>0</td>\n      <td>0.0</td>\n      <td>0</td>\n      <td>0</td>\n      <td>0</td>\n      <td>1</td>\n      <td>0</td>\n      <td>NaN</td>\n    </tr>\n    <tr>\n      <th>4</th>\n      <td>Series 1</td>\n      <td>1</td>\n      <td>Jonathan</td>\n      <td>Cake</td>\n      <td>Cake</td>\n      <td>Carrot Cake with Lime and Cream Cheese Icing</td>\n      <td>3</td>\n      <td>1</td>\n      <td>1</td>\n      <td>0</td>\n      <td>...</td>\n      <td>1</td>\n      <td>1</td>\n      <td>0</td>\n      <td>0.0</td>\n      <td>0</td>\n      <td>0</td>\n      <td>0</td>\n      <td>1</td>\n      <td>0</td>\n      <td>NaN</td>\n    </tr>\n  </tbody>\n</table>\n<p>5 rows × 29 columns</p>\n</div>"
     },
     "metadata": {},
     "execution_count": 2
    }
   ],
   "source": [
    "raw_data = pd.read_csv('GBBO Data Set - Bakes.csv')\n",
    "raw_data.head()"
   ]
  },
  {
   "cell_type": "code",
   "execution_count": 3,
   "metadata": {},
   "outputs": [
    {
     "output_type": "execute_result",
     "data": {
      "text/plain": [
       "Season                                  object\n",
       "Week Number                              int64\n",
       "Baker                                   object\n",
       "Week Name                               object\n",
       "Bake                                    object\n",
       "Signature Bake                          object\n",
       "Signature Time Allotment (hours)        object\n",
       "Signature Sweet (1) or Savory (0)       object\n",
       "Signature Quantity                      object\n",
       "Signature Handshake                      int64\n",
       "Technical Bake                          object\n",
       "Technical Recipe Writer                 object\n",
       "Technical Time Allotment (hours)        object\n",
       "Technical Sweet (1) or Savory (0)      float64\n",
       "Technical Quantity                      object\n",
       "Technical Rank                         float64\n",
       "Showstopper                             object\n",
       "Showstopper Bake                        object\n",
       "Showstopper Time Allotment (hours)      object\n",
       "Showstopper Sweet (1) or Savory (0)     object\n",
       "Showstopper Quantity                    object\n",
       "Showstopper Handshake                    int64\n",
       "Favorite                               float64\n",
       "Least Favorite                           int64\n",
       "Star Baker                               int64\n",
       "Eliminated                               int64\n",
       "Competed                                 int64\n",
       "Winner                                   int64\n",
       "UK viewers (millions)                  float64\n",
       "dtype: object"
      ]
     },
     "metadata": {},
     "execution_count": 3
    }
   ],
   "source": [
    "raw_data.dtypes"
   ]
  },
  {
   "cell_type": "code",
   "execution_count": 4,
   "metadata": {},
   "outputs": [
    {
     "output_type": "stream",
     "name": "stdout",
     "text": [
      "Total entries: 823\n"
     ]
    },
    {
     "output_type": "execute_result",
     "data": {
      "text/plain": [
       "     Season  Week Number      Baker  Bake  \\\n",
       "0  Series 1            1    Annetha  Cake   \n",
       "1  Series 1            1      David  Cake   \n",
       "2  Series 1            1        Edd  Cake   \n",
       "3  Series 1            1  Jasminder  Cake   \n",
       "4  Series 1            1   Jonathan  Cake   \n",
       "\n",
       "                                      Signature Bake  Sweet  Handshake  \\\n",
       "0  Light Jamaican Black Cake with Strawberries an...   True      False   \n",
       "1                              Chocolate Orange Cake   True      False   \n",
       "2                   Caramel Cinnamon and Banana Cake   True      False   \n",
       "3     Fresh Mango and Passion Fruit Hummingbird Cake   True      False   \n",
       "4       Carrot Cake with Lime and Cream Cheese Icing   True      False   \n",
       "\n",
       "   Favorite  Least Favorite  Star Baker  Eliminated  Winner  \n",
       "0      True           False       False       False   False  \n",
       "1     False            True       False       False   False  \n",
       "2     False           False       False       False    True  \n",
       "3     False           False       False       False   False  \n",
       "4     False           False       False       False   False  "
      ],
      "text/html": "<div>\n<style scoped>\n    .dataframe tbody tr th:only-of-type {\n        vertical-align: middle;\n    }\n\n    .dataframe tbody tr th {\n        vertical-align: top;\n    }\n\n    .dataframe thead th {\n        text-align: right;\n    }\n</style>\n<table border=\"1\" class=\"dataframe\">\n  <thead>\n    <tr style=\"text-align: right;\">\n      <th></th>\n      <th>Season</th>\n      <th>Week Number</th>\n      <th>Baker</th>\n      <th>Bake</th>\n      <th>Signature Bake</th>\n      <th>Sweet</th>\n      <th>Handshake</th>\n      <th>Favorite</th>\n      <th>Least Favorite</th>\n      <th>Star Baker</th>\n      <th>Eliminated</th>\n      <th>Winner</th>\n    </tr>\n  </thead>\n  <tbody>\n    <tr>\n      <th>0</th>\n      <td>Series 1</td>\n      <td>1</td>\n      <td>Annetha</td>\n      <td>Cake</td>\n      <td>Light Jamaican Black Cake with Strawberries an...</td>\n      <td>True</td>\n      <td>False</td>\n      <td>True</td>\n      <td>False</td>\n      <td>False</td>\n      <td>False</td>\n      <td>False</td>\n    </tr>\n    <tr>\n      <th>1</th>\n      <td>Series 1</td>\n      <td>1</td>\n      <td>David</td>\n      <td>Cake</td>\n      <td>Chocolate Orange Cake</td>\n      <td>True</td>\n      <td>False</td>\n      <td>False</td>\n      <td>True</td>\n      <td>False</td>\n      <td>False</td>\n      <td>False</td>\n    </tr>\n    <tr>\n      <th>2</th>\n      <td>Series 1</td>\n      <td>1</td>\n      <td>Edd</td>\n      <td>Cake</td>\n      <td>Caramel Cinnamon and Banana Cake</td>\n      <td>True</td>\n      <td>False</td>\n      <td>False</td>\n      <td>False</td>\n      <td>False</td>\n      <td>False</td>\n      <td>True</td>\n    </tr>\n    <tr>\n      <th>3</th>\n      <td>Series 1</td>\n      <td>1</td>\n      <td>Jasminder</td>\n      <td>Cake</td>\n      <td>Fresh Mango and Passion Fruit Hummingbird Cake</td>\n      <td>True</td>\n      <td>False</td>\n      <td>False</td>\n      <td>False</td>\n      <td>False</td>\n      <td>False</td>\n      <td>False</td>\n    </tr>\n    <tr>\n      <th>4</th>\n      <td>Series 1</td>\n      <td>1</td>\n      <td>Jonathan</td>\n      <td>Cake</td>\n      <td>Carrot Cake with Lime and Cream Cheese Icing</td>\n      <td>True</td>\n      <td>False</td>\n      <td>False</td>\n      <td>False</td>\n      <td>False</td>\n      <td>False</td>\n      <td>False</td>\n    </tr>\n  </tbody>\n</table>\n</div>"
     },
     "metadata": {},
     "execution_count": 4
    }
   ],
   "source": [
    "clean_data = raw_data[[\"Season\",\"Week Number\",\"Baker\",\"Bake\",\"Signature Bake\"]]\n",
    "clean_data[\"Sweet\"] = raw_data[\"Signature Sweet (1) or Savory (0)\"].astype(\"bool\")\n",
    "clean_data[\"Handshake\"] = raw_data[\"Signature Handshake\"].astype(\"bool\")\n",
    "clean_data = pd.concat([clean_data,raw_data[[\"Favorite\",\"Least Favorite\",\"Star Baker\",\"Eliminated\",\"Winner\"]].astype(\"bool\")], axis=1)\n",
    "print(\"Total entries: \" + str(len(clean_data.index)))\n",
    "clean_data.head()"
   ]
  },
  {
   "cell_type": "code",
   "execution_count": 5,
   "metadata": {
    "tags": [
     "outputPrepend"
    ]
   },
   "outputs": [
    {
     "output_type": "stream",
     "name": "stdout",
     "text": [
      "3, 693, 694, 695, 696, 697, 698, 699, 700, 701, 702, 703], 'Stromboli': [64], 'flavored': [64], 'Mozzarella,': [64], 'Picante': [64], \"Ploughman's\": [65], 'Rye': [66, 195, 270, 275, 276, 277, 279, 281, 282, 348], 'Seed': [66, 114, 160, 181, 192, 242, 246, 330, 401, 611], 'Salt': [67, 193, 350], 'Peppercorn': [67, 128], 'Egyptian': [68], 'Dukkah': [68, 110], 'Mixed': [68, 218], 'Spices': [68], 'Stem': [69, 638, 642], 'Nuts': [69], 'Strawberry': [70, 91, 146, 261, 283, 471, 595, 617, 819], 'Melts': [70], 'Christmas': [71, 378, 435, 620, 636, 669, 784], 'Marzipan': [71, 216, 609, 622], 'Lebkuchen': [72], 'Lavender': [73, 122, 716], 'Melting': [74], 'Moments': [74], 'Oat': [75], 'Chip': [76], 'Biscotti': [76, 335, 336, 337, 338, 339, 340, 341, 342, 343, 344, 345], 'Chestnut': [78, 129], 'Brown': [79], 'Down': [79, 96, 97, 98, 99, 100, 101, 102, 103, 104, 105, 106, 107, 365, 788], 'Asparagus': [80], 'Family': [83, 636, 727], 'Father': [84], \"Christmas'\": [84], 'Baked': [84, 85, 86, 87, 88], 'Cheesecake': [84, 85, 86, 87, 88, 708], 'Rum': [86, 303, 615, 671, 677, 818], 'Tutti': [87], 'Fruitti': [87], 'Amaretto': [88, 90, 665], 'White': [89, 130, 131, 150, 166, 168, 236, 254, 256, 340, 345, 472, 596, 689, 719, 744, 782], 'Chocolate,': [89, 130, 131, 217, 285, 342, 422, 423, 427, 428, 692, 745, 746], 'Hazelnut': [89, 97, 105, 165, 217, 259, 342, 343, 348, 372, 388, 427, 458, 601, 685, 741], 'Génoise': [89], 'Mousse': [89, 90, 91, 92], 'Mille': [93, 94, 95], 'Feuille': [93, 94, 95], 'Plum,': [96, 98, 120], 'Sour': [96, 300, 396], 'Upside': [96, 97, 98, 99, 100, 101, 102, 103, 104, 105, 106, 107, 365, 788], 'Apple,': [97, 100, 210, 320, 442, 447], 'Calvados': [97], 'Parsnip,': [99], 'Pear,': [99, 103, 105, 745], 'Vanilla,': [101], '\\t': [102, 103, 111, 112, 115, 119, 123, 124, 127, 128, 147, 148, 150, 151, 165, 166, 168, 373], 'Pineapple': [102, 175, 365, 445], 'Muscat': [103], 'Kumquat': [104], 'Polenta': [104, 371], 'Tomato': [106, 351, 468, 703, 738], 'Middle': [108, 385, 780], 'Eastern': [108, 385, 780], 'Taboon': [108], '/': [108, 109, 110, 111, 112, 113, 114, 115, 116, 117, 118, 146, 147, 148, 149, 150, 151, 152, 165, 165, 166, 166, 167, 167, 168, 168, 243, 243, 244, 244, 245, 245, 246, 246, 316, 317, 318, 319, 320, 321, 322, 386, 387, 388, 389, 390, 395, 396, 397], 'Indian': [108, 113, 317, 793], 'Roti': [108, 116], 'Spiced': [109, 125, 144, 162, 184, 230, 313, 379, 395, 618, 666, 677, 724, 739, 773], 'Naan': [109, 110, 114, 115, 117, 118], 'Lime,': [109, 405, 450], 'Tortillas': [109, 110], '\\n': [110, 111, 112, 114, 115, 116, 117, 118, 146, 147, 148, 149, 150, 151, 152, 165, 165, 166, 166, 167, 167, 168, 168, 661, 662, 663], 'Zaatar': [110], 'Tomato,': [111, 469], 'Garlic,': [111, 112], 'Parmesan': [111, 190, 192, 246, 263, 266, 267, 467, 469], 'Flatbreads': [111, 113, 113, 115], 'Tattie': [111], 'Scones': [111, 244], 'Rotis': [112], 'Pitas': [112], 'Italian': [113, 171, 185, 639], 'Fennel': [114, 186, 188, 270, 341, 602], 'Nigella': [114, 192, 242], 'Bannock': [114, 602], 'Shanghai': [115], 'Spring': [115, 117, 232], 'Garlic': [115, 118, 241, 349, 651], 'Oatcakes': [116], 'Bombay': [117], 'Chorizo': [117, 170, 694], 'Parsnip': [118], 'Chapatis': [118], 'Tarte': [119, 120, 121, 122, 123, 124, 125, 126, 127, 128, 297, 736, 737, 738, 739, 740], 'Tatin': [119, 120, 121, 122, 123, 124, 125, 126, 127, 128, 736, 737, 738, 739, 740], 'Five': [120], 'Spice': [120, 164, 406, 407, 735], 'Savoury': [121, 160, 264], 'Roquefort': [121], 'Praline': [123, 629, 786], 'Cinnamon,': [124, 344], 'Almond': [127, 136, 157, 162, 202, 204, 218, 222, 302, 319, 321, 331, 336, 338, 361, 386, 396, 422, 443, 609, 682, 730], 'Fig,': [128, 354], 'Pink': [128], 'Clementine': [129], 'Torte': [129, 130, 131, 132, 133, 133, 134, 135, 136, 137], 'Macadamia': [130, 335], 'Coffee': [130, 165, 250, 259, 318, 364, 629], 'Blackberry,': [131], 'Elderflower': [131, 147, 395, 819], 'Hazelnut,': [132], 'Passionfruit': [132], \"Noir'\": [133], 'Forest': [133, 137, 260, 291, 312, 387, 607, 614, 723, 747], 'Boozy': [133, 235, 614], 'Almond,': [134], 'Green': [135, 329], 'Opera': [135], 'Coulibiac': [138], 'in': [138, 287], 'a': [138, 208, 233, 384, 707], 'Scandinavian': [138], 'Full': [139], 'English': [139, 808], 'Wellington': [139, 140, 141, 142, 143, 144, 145], 'Chickpea,': [140], 'Four': [141], 'Pig': [141, 248], 'Venison': [142, 382], 'Haggis': [142], 'Lamb': [143, 232, 310, 804], 'Mint': [143, 453, 743], 'Curry': [144, 798, 810], 'Seabass': [144], 'Parma': [145, 241, 468], 'Ham': [145, 241, 468], 'Gorgonzola': [145], 'Rhubarb,': [146, 283, 445], 'Puddings': [146, 146, 147, 148, 149, 150, 150, 151, 152, 152, 283, 286, 287, 289, 290, 431, 432, 438, 439], 'Whip': [147], 'Sponges': [147], 'Butterscotch': [148, 235, 386], 'Jubilee': [148], 'Fondants': [148, 151, 285, 288, 291], 'Clove': [149], 'Clootie': [149], 'Dumplings': [149], 'Spicy': [150, 306, 309, 679, 793], 'Date': [151, 229, 230, 279, 311], \"Granny's\": [152], 'Saucy': [152], 'Chelsea': [153, 155, 156, 240, 616, 617, 618, 619, 620, 621, 622, 623, 624, 625], 'Bunskis': [153], 'Lady': [154], \"Arundel's\": [154], 'manchet': [154], 'Buns': [155, 156, 157, 159, 245, 246, 395, 396, 397, 616, 617, 618, 619, 620, 621, 622, 623, 624, 625, 730, 733, 734, 735, 798, 799, 800, 801, 802, 803, 804], 'Easter': [156, 674], 'Saffron': [157, 159], 'Lardy': [158], 'Cakes': [158, 593], 'Orange,': [159, 338, 689], 'Nutmeg': [159, 396], 'Multi': [160, 239], '-': [160, 209, 234, 234, 237, 239, 372, 389, 660, 683, 703, 711, 757, 794, 794, 794, 794], 'Crackers': [160, 161, 162, 163, 164, 262, 272], 'Pickle': [161], 'Drinks': [162], 'Smoky': [163], 'Cayenne,': [163], 'Cumin': [163, 765], 'Asian': [164], 'Creams': [165], 'Friands': [165], 'Choux': [165, 243, 244, 246], 'Cygnets': [165], 'Peppermint': [166], 'Macarons': [166, 167, 168, 243], 'Miniature': [166], 'Basil': [166, 254, 790], 'Financiers': [166], 'Langues': [166], 'de': [166], 'Chat': [166], 'Tartlets': [167, 168, 243, 246, 650, 650, 651, 651, 653, 654, 654, 655, 655], 'Indulgence': [167], 'Petits': [167], 'Fours': [167], 'Chilli,': [167], 'Madeleines': [168, 663, 664], 'Dark': [168, 302, 726], 'Pithivier': [169, 170, 171], 'Spanish': [170, 257, 656], 'Red': [170, 256, 432, 467], 'Sausage': [171, 777], 'Vegetable': [171, 232, 659], 'Grapefruit': [173, 371, 449], 'Sandwich': [173, 176, 183, 269], 'Strawberry,': [174], 'Rosewater': [174], 'Summer': [174, 459, 653, 808], 'Basket': [174, 249], 'Giant': [176, 189], 'Jam': [176, 237, 609], 'Blood': [179, 325, 454], 'Timperley': [180], 'Early': [180], 'Poppy': [181, 246, 401, 611], 'Iced': [184, 313, 397, 412, 413, 416, 418, 420], 'Grissini': [185, 190, 193], 'Breadsticks': [186, 187, 188, 191, 192, 194, 196], 'Mediterranean': [187], 'Matchsticks': [189], 'Moroccan': [191, 791], 'Twisty': [195], 'Sticks': [195], 'Mexican': [196, 350, 351, 462], 'Coconut,': [197, 341], 'Trifle': [197, 198, 199, 200, 201, 202, 203, 204, 205, 206, 207], 'Caribbean': [199], 'Pina': [199, 633], 'Colada': [199, 376, 456, 633], 'Crumble': [201, 218], 'Peach,': [204], 'Ginger,': [205, 766], 'Desert': [207], 'Island': [207], 'Shortcrust': [208], \"Mamgu's\": [209], 'Tart': [209, 292, 293, 294, 295, 296, 298, 373, 374, 375, 376, 377, 378, 379, 391, 392, 393, 626], 'Granny': [210], \"Rogers'\": [210], 'Country': [210, 656], 'In': [211, 794], 'the': [211, 414], 'Sky': [211], 'Syrup': [212, 236, 447], 'Sage': [213, 655], 'Brownies': [217, 781, 782, 785, 786, 787, 788, 789], 'Berry': [218, 402], 'Traybake': [218, 221, 223, 605, 606, 608, 609, 611, 612, 613, 614, 615], 'Millionaire': [219], 'Bonus': [219], 'Tiffin': [220], 'Breakfast': [221, 318, 440, 446, 616, 707, 775, 808], 'Florentine': [222], 'Slice': [222, 224, 607, 820, 821, 822], 'Bara': [225, 415, 676, 676, 774], 'Brith': [225, 415, 676], 'Oxford': [226], 'Nutty': [226], 'Chai': [227, 230, 316, 419, 603, 622, 675, 679], 'Devonshire': [228], 'Panettone': [228], 'Hemp': [229], 'Yorkshire': [229, 431, 432, 433, 438, 439, 598, 600], 'Citrus': [231, 327, 407, 625, 722], 'Suet': [232], 'Redcurrant': [232], 'Gravy': [232], 'Spotted': [233, 236], 'Dick': [233, 236], \"'With\": [233], \"Kick'\": [233], 'Ice': [233, 234, 237, 420], 'Figgy': [234, 733], 'Roll': [234, 250, 251, 252, 253, 254, 255, 256, 257, 258, 259, 260, 261], 'y': [234], 'Poly': [234, 237], 'Prune': [235, 746], 'Armagnac': [235, 746], 'Barberry': [236], 'Roly': [237], 'cream': [237], 'Potato,': [238], 'Spelt': [238, 241, 242, 276], 'Seeded': [239, 272], 'Pumpkin,': [239], 'Sesame': [239], 'Sunflower': [239, 264], 'Seeds': [239], 'Flour': [240], \"Show'\": [240], 'Bun': [240], 'Bouquet': [240, 411, 465], 'Wild': [241, 349], 'Cob': [242], 'Stilton': [243, 347], 'Beetroot': [243, 246], 'Puffs': [243], 'Welsh': [243], 'Rarebit': [243], 'Chantenay': [244], 'Carrots': [244], 'Tomatoes': [244], 'Cauliflower': [244], 'Pea': [245, 807], 'Purée': [245], 'Tarts': [245, 741, 742, 743, 744], 'Crab': [245], 'Wasabi': [245], 'Profiteroles': [245], 'Steamed': [245, 801, 802, 804], 'Barbecue': [245], 'Jelly': [246], 'on': [246], 'Spinach,': [246], 'Egg': [246], \"Goat's\": [246, 269, 736, 739, 740], 'Onions': [246], 'Rainbow': [247], 'Cardamom,': [250], 'Swiss': [250, 252, 253, 254, 255, 256, 257, 258, 259, 260, 261], 'Chocolatey': [251], 'Orangey': [251], 'Swirly': [251], \"Mum's\": [252, 409, 439], 'Sunday': [252, 420, 437], 'Mascarpone': [254, 390, 814], 'Kawaii': [255], 'Frasier': [255], 'Velvet': [256], 'Tiramisu': [258], 'Fenugreek': [262], 'Carom': [262], 'Triangles': [263], 'Pumpkin': [264, 454], \"Za'atar\": [265], 'Sourdough,': [266], 'Glaze': [268, 304, 677], 'Thins': [270], 'Farthing': [271], 'Pine': [273], 'Nut': [273], 'Rolls': [273, 274, 275, 276, 278, 279, 280, 281, 282, 317], 'Rustic': [274], 'Knots': [277], 'Opposites': [278], 'Attract': [278], 'Cider': [280, 594], 'Crusty': [280], 'Pots': [284], 'Molten': [286], 'Pears': [287, 638], 'Butter': [288, 441], 'Mini': [290, 308], 'Rice': [292], 'Mangoes': [292], 'Raspberries': [292, 320], 'Manchester': [294], 'Pistachio,': [295, 340, 366, 399, 682], 'Crusted': [296], 'au': [297, 320, 322, 443, 817], 'Citron': [297], 'Savarin': [299, 302, 303], 'Pecan,': [300, 444], 'Yeast': [300], 'Kugelhopf': [301], 'Honeyed': [301], 'Apples': [301], 'Liqueur': [302, 331, 364, 404], 'Punch': [303], 'Fruits': [303], 'Fruity': [304], 'Guglhupf': [304], 'an': [304], 'Crispy': [305], 'Lentil': [305], 'Kachori': [305], 'Paneer': [306, 648], 'Samosa': [306, 645], 'Childhood': [307], 'Empanadas': [307], 'Wellingtons': [308, 433], 'Duck': [309], 'Pasties': [309, 310, 790, 791, 792, 793, 794, 795, 796, 797], 'Minted': [310], 'Swirl': [311, 313, 426, 429, 695], 'Tree': [312], 'Lincolnshire': [314], 'Braid': [314], 'Swedish': [315], 'Ring': [315, 665, 666, 667], 'Baklava': [316, 316, 317, 317, 318, 318, 319, 319, 693], 'Masala': [316, 603], 'Halwa': [317], 'Cheshire': [320], 'Chaussons': [320], 'Pain': [320, 322, 322, 443], 'Chocolat': [320, 322], 'Blanc': [320, 387], 'Kites': [321, 442], 'Croissants': [321], 'Au': [322], 'Lait': [322], 'Madeira': [323, 324, 325, 326, 327, 328, 329, 330, 331, 332, 333, 334], 'Lemons': [324], 'Somewhere': [326], 'West': [326, 438, 656], 'of': [326, 465, 646, 675, 705, 712, 728, 750, 779, 784, 811], 'Zingy': [327], 'Gin': [328], 'Tonic': [328], 'Lemon,': [330, 730, 743], 'Caraway': [330, 369, 593], 'Chopped': [331], 'Apricots': [331], 'Marley': [332], 'Jackfruit,': [335], 'Amber': [336], 'Sugar': [336, 368, 372, 450, 610], 'Crystals': [336], 'Wedding': [337], 'Italiano': [339], 'Chunk': [343], 'Wine': [345], 'Prosciutto,': [346], 'Manchego': [346, 702], 'Balsamic': [346, 617], 'Soda': [346, 347, 349, 350, 352, 353, 771, 772, 773, 774, 775, 776, 777, 778, 780], 'Breads': [346, 347, 348, 349, 350, 352, 353, 354, 355, 776], 'Jalapeño,': [350], 'Warm': [351], 'Salsa': [351], 'Quick': [355], 'Crème': [356, 357, 358, 359, 360, 361, 362, 363, 364, 442, 719], 'Brûlées': [356, 357, 358, 359, 360, 361, 362, 363, 364], 'Two': [358, 434], 'Ways': [358], 'Pontefract': [362], 'Marula': [364], 'Madeleine': [366], 'Flowers': [367, 465], 'Free': [368, 372, 757], 'Naked': [369], 'Crunch': [369, 389], 'Frangipane': [373, 374, 375, 376, 378, 379], 'Piña': [376, 456], 'Bay': [377, 392], 'Leaf,': [377], 'Rong': [377], 'Game': [380, 383, 385], 'Shallot': [380], 'Chutney': [380], 'Roadkill': [381], 'Raised': [382, 383], 'Pigeon': [382], 'Aromatic': [383], 'Not': [384], 'Boaring': [384], 'Horns': [386, 387, 388, 389, 390], 'Mont': [387], 'Gâteau': [387], 'Mocha': [388], 'Café': [389], 'Tipple': [389], 'away': [389], 'Malt': [390], 'York': [394, 599, 814], 'Fingers': [396, 684], 'Bundt': [400], 'Best': [402], 'Bramble': [402], 'St.': [403], 'Clements': [403], 'Lemonade': [404], 'Yuzu': [406, 821], 'G&T': [408], 'Beehive': [410], 'Caramel,': [412], 'Shiny': [412], 'Hearts': [412], 'Pot': [413], '\"A': [414], 'Biscuit': [414, 682, 686, 687, 690, 691, 692], 'for': [414, 647], 'Broads\"': [414], 'Baa': [415], 'Malt,': [416], '\"Beer\"': [416], 'Union': [417], 'Jack': [417], 'Bunting': [417], '\"Wheelie': [418], 'Hot': [418, 730, 733, 735, 752], 'Biscuits\"': [418], 'Frappelatteccino': [419], 'Treat': [420], 'Cone': [420], 'Barmbrack': [421], 'Tahini': [422], 'Babka': [422], 'Brittle': [423], 'Brioche': [423], 'Couronne': [424], 'Cobbled': [425], 'Plait': [426], 'Double': [430, 789], 'Twist': [430], \"'Tapas'\": [431], 'Chutney,': [432], 'Brie': [432], 'Meat': [434], 'Veg': [434, 654], 'Yorkshires': [434, 436], 'Compromise': [435], 'Thai': [436, 790, 810], 'Tofu': [436], 'Panang': [436], 'Perfect': [437], 'Roast': [437], 'Accompaniment': [437], 'Fusion': [438], 'Mum': [440, 647], \"Dad's\": [440], 'Pastries': [440], 'Good': [441, 712], 'Morning': [441], \"America'\": [441], 'Swirls': [441, 444, 447], 'Pinwheels': [441, 445, 447], 'Danish': [442, 442, 443], 'Croque': [442], 'Monsieur': [442], 'Raisins,': [443], 'Raspberry,': [443, 744, 782], 'Plaits': [444, 731], 'Plait,': [445], 'Mega': [446], 'Bonanzas;': [446], 'Granola': [446], 'Spirals': [446], 'Wheat': [446], 'Foldovers': [446], 'Sultana': [447], 'Tangy': [448, 625], 'Lemongrass': [450], 'Mandarin': [452], 'Margarita': [452], 'Grapefruit,': [453], 'Halloween': [454], 'Holiday': [455], 'Roulade': [455, 456, 457, 458, 459, 460, 626, 627, 628, 629, 630, 631, 632, 633], 'Crowd': [457], 'Pleaser': [457], \"Millionaire's\": [460], 'Da': [461], 'Vinci': [461], 'Geared': [461], 'Pies': [461, 463, 464, 714, 716, 717, 718, 719, 720, 721, 722], 'Adventure': [462], 'Cheesy': [463, 466, 771], 'Cheeky': [463], 'Tudor': [464], 'Elephant': [466], 'Ears': [466], 'Herby': [466], 'Treble': [466], 'Clefs': [466], 'Cambozola': [467], 'Palmiers': [467, 467, 468, 468, 469, 469], 'Mushroom,': [467], 'Streaky': [467], 'Bacon,': [467], 'Sundried': [468, 469], 'Goats': [468], 'Cheese,': [468], 'Peppers': [469], 'Crunchy': [470], 'Cassis': [470], 'Crown': [470, 471, 472], 'Queen': [471], \"Victoria's\": [471], 'Red,': [472], 'Blue': [472], 'Turmeric': [593], 'Goosnargh': [593], 'Empire': [594], 'Shrewsburys': [595], 'Aberffraw': [597], \"'Creams'\": [597], 'Perkins': [598], 'Gingernuts': [600], 'Cornish': [601, 776, 795, 809], 'Pitcaithly': [602], 'Devon': [603], 'Flats': [603], 'Lake': [604], 'District': [604, 620], 'Burfi': [605], 'Turron': [606], 'Pandan': [610], 'Chiffon': [610], 'Palm': [610], 'Decadent': [616], 'Cardiff': [619], 'City': [619], 'vs': [619], 'Peak': [620], 'Tangzhong': [621], 'Apricot,': [622], 'Gujarela': [624], 'Dates,': [624], 'Almonds': [624], 'Raisins': [624], 'Treacle': [626], 'Florida': [627], \"Dreams'\": [630], 'Amarene': [631], 'Kirsch': [631], 'Drip': [635], 'Bonfire': [637, 640], 'Night': [637, 640], 'Poached': [638, 818], 'Me': [641], 'Crazy': [641], 'Home': [643], 'Comforts': [643], 'Festive': [644], 'Samosas': [644, 647, 649], 'A': [645, 705, 712], 'Romantic': [645], 'For': [645], 'Two,': [645], 'Style': [645, 814], 'Flavours': [646, 772, 779], 'India': [646, 754], 'Singara': [648, 648], 'Misti': [648], 'Traditional': [649], 'French': [650], 'Celeriac': [650], 'Falafel': [651], 'Hummus': [651], 'Broccoli': [652], 'Tomato\\xa0Quiches\\xa0and\\xa0Mascarpone\\xa0Squirrel': [652], 'Tartlets\\r': [652], 'Winter': [653], 'Posto': [654], 'Ghugni': [654], 'Chaat': [654], 'Butternut': [655], \"'Cheesy\": [655], \"Greens'\": [655], 'Smørrebrød\\r': [656], 'Bumblebee': [657], 'Eggs': [657], 'Smørrebrød': [657, 658, 659, 660], 'Post': [660], 'Gym': [660], 'Mojito\\xa0Madeleines': [661], 'Espresso': [661, 748], 'Martini\\xa0Madeleines': [661], 'Madeleines\\r': [662, 662, 663], 'Bunny': [662], 'Pick': [664], 'Your': [664, 785], 'Own': [664], 'Diplomat': [665], 'Filled': [665, 666, 667], 'Doughnuts': [665, 665, 666, 666, 667, 667], 'Créme': [666], 'Pâtissière': [666], 'Dulce': [667], 'De': [667], 'Leche': [667], 'Gingerbread': [668], 'Wreath': [668], 'Squishy': [670], 'Squashy': [670], 'Bat': [672], 'Wood': [673], 'Street': [673], 'Simnel': [674], 'Cup': [675], 'Teulu': [676], 'Ni': [676], '(Our': [676], \"Family's\": [676], 'Brith)': [676], 'Sunshine': [678], 'Great': [680], \"Grandma's\": [680], 'Honeycomb': [681, 781], 'Mallow': [681], 'Bars': [681, 682, 683, 685, 686, 687, 688, 689, 690, 691, 692], 'Nougat': [682], 'Coco': [683], 'nutty': [683], 'Wicked': [684], 'Witch': [684], 'Coffee,': [685], 'Fudge': [689], 'Ruby': [690], 'Barfi': [690], 'Virgin': [691], 'Mojito': [691], 'Macchiato': [692], 'Brunch': [694], 'Frosted': [696], 'Keralan': [698], 'Star': [698, 703], 'Noson': [699], 'Caws': [699], '(Cheese': [699], 'Night)': [699], 'Pancetta': [700], 'Smokey': [701], 'Jalapeño': [701], 'Sun': [703], 'Dried': [703], 'Leafy': [704], 'Yoghurt': [704], 'Kick': [705], 'Limoncello': [705, 712], 'Ghost': [706], 'Ode': [707], 'to': [707, 713], 'German': [707], 'Surprise': [708, 724], 'Homely': [709], 'Trucking': [710], 'Lovely': [710], 'Choc': [711], 'chip': [711], 'Dose': [712], 'Answer': [713], 'Everything': [713], 'Fancy': [715], 'Custards': [715], '1920s': [717], 'Mango,': [718], 'Brûlée': [719], 'Ripple': [720], 'Little': [721], 'Zesty': [722], 'Towering': [725], 'Favourite': [727, 772], 'Layers': [728], 'Eton': [729], 'Mess': [729], 'Cross': [730, 733, 735], 'Kozunak': [731], 'Kardemummabullar': [732], 'Mardi': [734], 'Gras': [734], 'Finnish': [734], 'Semlor': [734], 'Peacock': [734], 'Festival': [734], 'Zest': [735], 'Leek,': [736], 'Caramelly': [737], 'Carroty': [737], 'Shallot,': [739], 'Aubergine': [739], 'Mocha,': [741], 'Domed': [741, 742, 743, 744], 'Aperitif': [742], 'Martini': [748], 'Battenberg': [748, 749, 750, 751, 752, 753, 754, 755, 756, 757, 758, 759], 'Celebration': [750, 811], \"Summer'\": [750], 'Ambulance': [751], \"Summer's\": [752], 'Day': [752], \"Treats'\": [752], 'East': [754], 'Bittersweet': [755], 'Turkish': [756], 'Bazaar': [756], 'Gluten': [757], 'The': [758, 794], 'Magic': [758], \"Flute'\": [758], 'Feathered': [760], 'Florentines': [760, 761, 762, 763, 764, 765, 766, 767, 768, 769, 770], 'Topped': [763], 'Quarantine': [764], 'Lassi': [767], 'Waistcoat': [769], 'Sohan': [770], 'My': [772], 'Nana': [773], \"Peg's\": [773], 'Nicely': [773], 'Cherrylicious': [773], 'Cyflym': [774], 'Summertime': [775], 'Stout': [777], 'Beer': [778], 'Italy': [779], 'Explosion': [781], \"S'mores\": [783], 'Treats': [784], \"Past'\": [784], 'Have': [785], 'Eat': [785], \"It'\": [785], 'Gimmie': [787], \"S'mores'\": [787], 'Marshmallow': [789], 'Tagine': [791], 'Proper': [792], 'Tasty': [792], 'Toad': [794], 'Hole': [794], 'Less': [794], 'Aloo': [796], 'Gobi': [796], 'Kedgeree': [797], 'Shaped': [798], 'Katsu': [798], 'Nikuman': [799], 'Panda': [799], 'Piggy': [800], 'Pork': [800], 'Belly': [800], 'Cheeseburger': [801], 'Hmmmm': [802], \"Dhal'\": [802], 'Burger': [803], 'Novel': [805], 'Quiches': [805, 806, 807, 808, 809, 810], 'Classic': [806], 'Pizza': [807], 'Salad': [808], \"Citrus'\": [811], 'Cheesecakes': [811, 812, 813, 814, 815], 'Tequila,': [816], 'Savarins': [816], 'Creme': [817], 'ét': [817], 'Abricot': [817], 'Baba': [817], 'Rhum': [817], 'Pineapple,': [818], 'Kiwi': [818], 'Babas': [818, 819], \"Latte'\": [820], 'Cranachan': [822]}\n"
     ]
    }
   ],
   "source": [
    "#make dictionary of indecies where each word occurs\n",
    "titles = clean_data[\"Signature Bake\"]\n",
    "words = {}\n",
    "words_in_titles = []\n",
    "numErrors = 0\n",
    "for i in range(len(titles)):\n",
    "    title = titles[i]\n",
    "    try:\n",
    "        if(type(title) is str):\n",
    "            new_words = re.split('( |/|\\t|\\n|-)', title)\n",
    "            words_in_titles.append(new_words)\n",
    "            for word in new_words:\n",
    "                if word in words:\n",
    "                    words[word].append(i)\n",
    "                else:\n",
    "                    words[word] = [i]\n",
    "\n",
    "    except Exception as e:\n",
    "        numErrors = numErrors + 1\n",
    "        print(e)\n",
    "        print(title)\n",
    "        break\n",
    "\n",
    "print(words)"
   ]
  },
  {
   "cell_type": "code",
   "execution_count": 6,
   "metadata": {},
   "outputs": [
    {
     "output_type": "stream",
     "name": "stdout",
     "text": [
      "[['Light', ' ', 'Jamaican', ' ', 'Black', ' ', 'Cake', ' ', 'with', ' ', 'Strawberries', ' ', 'and', ' ', 'Cream'], ['Chocolate', ' ', 'Orange', ' ', 'Cake'], ['Caramel', ' ', 'Cinnamon', ' ', 'and', ' ', 'Banana', ' ', 'Cake'], ['Fresh', ' ', 'Mango', ' ', 'and', ' ', 'Passion', ' ', 'Fruit', ' ', 'Hummingbird', ' ', 'Cake']]\n"
     ]
    }
   ],
   "source": [
    "print(words_in_titles[0:4])"
   ]
  },
  {
   "cell_type": "code",
   "execution_count": 7,
   "metadata": {},
   "outputs": [
    {
     "output_type": "execute_result",
     "data": {
      "text/plain": [
       "            Word  Total Count\n",
       "0          Light            1\n",
       "1                        3809\n",
       "2       Jamaican            3\n",
       "3          Black           13\n",
       "4           Cake          118\n",
       "5           with           55\n",
       "6   Strawberries            2\n",
       "7            and          345\n",
       "8          Cream           18\n",
       "9      Chocolate           65\n",
       "10        Orange           45\n",
       "11       Caramel           15\n",
       "12      Cinnamon           16\n",
       "13        Banana            7\n",
       "14         Fresh            4\n",
       "15         Mango           14\n",
       "16       Passion           11\n",
       "17         Fruit           22\n",
       "18   Hummingbird            1\n",
       "19        Carrot            5"
      ],
      "text/html": "<div>\n<style scoped>\n    .dataframe tbody tr th:only-of-type {\n        vertical-align: middle;\n    }\n\n    .dataframe tbody tr th {\n        vertical-align: top;\n    }\n\n    .dataframe thead th {\n        text-align: right;\n    }\n</style>\n<table border=\"1\" class=\"dataframe\">\n  <thead>\n    <tr style=\"text-align: right;\">\n      <th></th>\n      <th>Word</th>\n      <th>Total Count</th>\n    </tr>\n  </thead>\n  <tbody>\n    <tr>\n      <th>0</th>\n      <td>Light</td>\n      <td>1</td>\n    </tr>\n    <tr>\n      <th>1</th>\n      <td></td>\n      <td>3809</td>\n    </tr>\n    <tr>\n      <th>2</th>\n      <td>Jamaican</td>\n      <td>3</td>\n    </tr>\n    <tr>\n      <th>3</th>\n      <td>Black</td>\n      <td>13</td>\n    </tr>\n    <tr>\n      <th>4</th>\n      <td>Cake</td>\n      <td>118</td>\n    </tr>\n    <tr>\n      <th>5</th>\n      <td>with</td>\n      <td>55</td>\n    </tr>\n    <tr>\n      <th>6</th>\n      <td>Strawberries</td>\n      <td>2</td>\n    </tr>\n    <tr>\n      <th>7</th>\n      <td>and</td>\n      <td>345</td>\n    </tr>\n    <tr>\n      <th>8</th>\n      <td>Cream</td>\n      <td>18</td>\n    </tr>\n    <tr>\n      <th>9</th>\n      <td>Chocolate</td>\n      <td>65</td>\n    </tr>\n    <tr>\n      <th>10</th>\n      <td>Orange</td>\n      <td>45</td>\n    </tr>\n    <tr>\n      <th>11</th>\n      <td>Caramel</td>\n      <td>15</td>\n    </tr>\n    <tr>\n      <th>12</th>\n      <td>Cinnamon</td>\n      <td>16</td>\n    </tr>\n    <tr>\n      <th>13</th>\n      <td>Banana</td>\n      <td>7</td>\n    </tr>\n    <tr>\n      <th>14</th>\n      <td>Fresh</td>\n      <td>4</td>\n    </tr>\n    <tr>\n      <th>15</th>\n      <td>Mango</td>\n      <td>14</td>\n    </tr>\n    <tr>\n      <th>16</th>\n      <td>Passion</td>\n      <td>11</td>\n    </tr>\n    <tr>\n      <th>17</th>\n      <td>Fruit</td>\n      <td>22</td>\n    </tr>\n    <tr>\n      <th>18</th>\n      <td>Hummingbird</td>\n      <td>1</td>\n    </tr>\n    <tr>\n      <th>19</th>\n      <td>Carrot</td>\n      <td>5</td>\n    </tr>\n  </tbody>\n</table>\n</div>"
     },
     "metadata": {},
     "execution_count": 7
    }
   ],
   "source": [
    "word_counts = {}\n",
    "for word in words.keys():\n",
    "    word_counts[word] = len(words[word])\n",
    "\n",
    "word_data = pd.DataFrame()\n",
    "word_data[\"Word\"] = word_counts.keys()\n",
    "word_data[\"Total Count\"] = word_counts.values()\n",
    "word_data.head(20)"
   ]
  },
  {
   "cell_type": "code",
   "execution_count": 8,
   "metadata": {},
   "outputs": [],
   "source": [
    "def drop_rows(mask, data):\n",
    "    match_inds = data.index[mask]\n",
    "\n",
    "    print(\"Dropping:\\n\" + str(data.loc[mask]))\n",
    "    return data.drop(match_inds)"
   ]
  },
  {
   "cell_type": "code",
   "execution_count": 9,
   "metadata": {
    "tags": []
   },
   "outputs": [
    {
     "output_type": "stream",
     "name": "stdout",
     "text": [
      "Dropping:\n    Word  Total Count\n1                3809\n83     &           73\n217   \\t           18\n226    /           49\n233   \\n           26\n326    -           17\n"
     ]
    }
   ],
   "source": [
    "#match and drop any rows that are purely non-word characters\n",
    "matches = word_data['Word'].apply(lambda string : re.search(r'^\\W$',string))\n",
    "match_mask = matches.apply(lambda match : match is not None)\n",
    "word_data = drop_rows(match_mask, word_data)\n",
    "word_data.reset_index(inplace=True)"
   ]
  },
  {
   "cell_type": "code",
   "execution_count": 10,
   "metadata": {},
   "outputs": [
    {
     "output_type": "stream",
     "name": "stdout",
     "text": [
      "Dropping:\n     index      Word  Total Count\n4        5      with           55\n6        7       and          345\n39      40   freshly            1\n40      41      made            1\n66      67                   1080\n162    164  flavored            1\n276    281        in            2\n277    282         a            5\n312    317   manchet            1\n338    344        de            1\n390    396       the            2\n423    429         y            1\n429    435     cream            1\n461    467        on            1\n508    514        au            5\n521    527        an            1\n555    561        of           11\n612    618      away            1\n631    637       for            2\n753    759        vs            1\n844    850     nutty            1\n873    879        to            2\n880    886      chip            1\n886    892     1920s            1\n988    994        ét            1\n"
     ]
    }
   ],
   "source": [
    "#match and keep only words that start with a capital letter\n",
    "matches = word_data['Word'].apply(lambda string : re.match(r'\\W?[A-Z]', string))\n",
    "match_mask = matches.apply(lambda match : match is None)\n",
    "word_data = drop_rows(match_mask, word_data)\n",
    "word_data.reset_index(drop=True, inplace=True)"
   ]
  },
  {
   "cell_type": "code",
   "execution_count": 11,
   "metadata": {},
   "outputs": [
    {
     "output_type": "stream",
     "name": "stdout",
     "text": [
      "Total words after cleaning: 972\n"
     ]
    },
    {
     "output_type": "execute_result",
     "data": {
      "text/plain": [
       "     index       Word  Total Count\n",
       "3        4       Cake          118\n",
       "6        9  Chocolate           65\n",
       "7       10     Orange           45\n",
       "50      55     Ginger           40\n",
       "35      38      Lemon           38\n",
       "86      93        Pie           36\n",
       "304    318       Buns           30\n",
       "73      79      Apple           28\n",
       "60      65      Bread           28\n",
       "43      48   Biscuits           24\n",
       "27      30       Loaf           22\n",
       "32      35  Raspberry           22\n",
       "14      17      Fruit           22\n",
       "252    263     Almond           22\n",
       "67      73     Walnut           20\n",
       "287    300   Puddings           19\n",
       "18      21     Cheese           19\n",
       "5        8      Cream           18\n",
       "375    391       Tart           18\n",
       "194    202      White           17"
      ],
      "text/html": "<div>\n<style scoped>\n    .dataframe tbody tr th:only-of-type {\n        vertical-align: middle;\n    }\n\n    .dataframe tbody tr th {\n        vertical-align: top;\n    }\n\n    .dataframe thead th {\n        text-align: right;\n    }\n</style>\n<table border=\"1\" class=\"dataframe\">\n  <thead>\n    <tr style=\"text-align: right;\">\n      <th></th>\n      <th>index</th>\n      <th>Word</th>\n      <th>Total Count</th>\n    </tr>\n  </thead>\n  <tbody>\n    <tr>\n      <th>3</th>\n      <td>4</td>\n      <td>Cake</td>\n      <td>118</td>\n    </tr>\n    <tr>\n      <th>6</th>\n      <td>9</td>\n      <td>Chocolate</td>\n      <td>65</td>\n    </tr>\n    <tr>\n      <th>7</th>\n      <td>10</td>\n      <td>Orange</td>\n      <td>45</td>\n    </tr>\n    <tr>\n      <th>50</th>\n      <td>55</td>\n      <td>Ginger</td>\n      <td>40</td>\n    </tr>\n    <tr>\n      <th>35</th>\n      <td>38</td>\n      <td>Lemon</td>\n      <td>38</td>\n    </tr>\n    <tr>\n      <th>86</th>\n      <td>93</td>\n      <td>Pie</td>\n      <td>36</td>\n    </tr>\n    <tr>\n      <th>304</th>\n      <td>318</td>\n      <td>Buns</td>\n      <td>30</td>\n    </tr>\n    <tr>\n      <th>73</th>\n      <td>79</td>\n      <td>Apple</td>\n      <td>28</td>\n    </tr>\n    <tr>\n      <th>60</th>\n      <td>65</td>\n      <td>Bread</td>\n      <td>28</td>\n    </tr>\n    <tr>\n      <th>43</th>\n      <td>48</td>\n      <td>Biscuits</td>\n      <td>24</td>\n    </tr>\n    <tr>\n      <th>27</th>\n      <td>30</td>\n      <td>Loaf</td>\n      <td>22</td>\n    </tr>\n    <tr>\n      <th>32</th>\n      <td>35</td>\n      <td>Raspberry</td>\n      <td>22</td>\n    </tr>\n    <tr>\n      <th>14</th>\n      <td>17</td>\n      <td>Fruit</td>\n      <td>22</td>\n    </tr>\n    <tr>\n      <th>252</th>\n      <td>263</td>\n      <td>Almond</td>\n      <td>22</td>\n    </tr>\n    <tr>\n      <th>67</th>\n      <td>73</td>\n      <td>Walnut</td>\n      <td>20</td>\n    </tr>\n    <tr>\n      <th>287</th>\n      <td>300</td>\n      <td>Puddings</td>\n      <td>19</td>\n    </tr>\n    <tr>\n      <th>18</th>\n      <td>21</td>\n      <td>Cheese</td>\n      <td>19</td>\n    </tr>\n    <tr>\n      <th>5</th>\n      <td>8</td>\n      <td>Cream</td>\n      <td>18</td>\n    </tr>\n    <tr>\n      <th>375</th>\n      <td>391</td>\n      <td>Tart</td>\n      <td>18</td>\n    </tr>\n    <tr>\n      <th>194</th>\n      <td>202</td>\n      <td>White</td>\n      <td>17</td>\n    </tr>\n  </tbody>\n</table>\n</div>"
     },
     "metadata": {},
     "execution_count": 11
    }
   ],
   "source": [
    "word_data.sort_values(\"Total Count\", ascending=False, inplace=True)\n",
    "print(\"Total words after cleaning: \" + str(len(word_data.index)))\n",
    "word_data.head(20)"
   ]
  },
  {
   "cell_type": "code",
   "execution_count": 12,
   "metadata": {},
   "outputs": [
    {
     "output_type": "stream",
     "name": "stdout",
     "text": [
      "The dataframe has 972 entries.\nThere are 66 entries with counts greater than 10.\n"
     ]
    }
   ],
   "source": [
    "print(\"The dataframe has \" + str(len(word_data['Total Count'])) + \" entries.\")\n",
    "print(\"There are \" + str(len(word_data[word_data['Total Count'] > 10])) + \" entries with counts greater than 10.\")"
   ]
  },
  {
   "cell_type": "code",
   "execution_count": 31,
   "metadata": {},
   "outputs": [
    {
     "output_type": "execute_result",
     "data": {
      "text/plain": [
       "{'Series 1': 2,\n",
       " 'Series 2': 5,\n",
       " 'Series 3': 5,\n",
       " 'Series 4': 5,\n",
       " 'Series 6': 3,\n",
       " 'Series 7': 5,\n",
       " 'Series 9': 11,\n",
       " 'Series 10': 2,\n",
       " 'Series 11': 2}"
      ]
     },
     "metadata": {},
     "execution_count": 31
    },
    {
     "output_type": "display_data",
     "data": {
      "text/plain": "<Figure size 432x288 with 1 Axes>",
      "image/svg+xml": "<?xml version=\"1.0\" encoding=\"utf-8\" standalone=\"no\"?>\r\n<!DOCTYPE svg PUBLIC \"-//W3C//DTD SVG 1.1//EN\"\r\n  \"http://www.w3.org/Graphics/SVG/1.1/DTD/svg11.dtd\">\r\n<!-- Created with matplotlib (https://matplotlib.org/) -->\r\n<svg height=\"231.84pt\" version=\"1.1\" viewBox=\"0 0 288.875831 231.84\" width=\"288.875831pt\" xmlns=\"http://www.w3.org/2000/svg\" xmlns:xlink=\"http://www.w3.org/1999/xlink\">\r\n <defs>\r\n  <style type=\"text/css\">\r\n*{stroke-linecap:butt;stroke-linejoin:round;}\r\n  </style>\r\n </defs>\r\n <g id=\"figure_1\">\r\n  <g id=\"patch_1\">\r\n   <path d=\"M 0 231.84 \r\nL 288.875831 231.84 \r\nL 288.875831 0 \r\nL 0 0 \r\nz\r\n\" style=\"fill:none;\"/>\r\n  </g>\r\n  <g id=\"axes_1\">\r\n   <g id=\"patch_2\">\r\n    <path d=\"M 227.499881 115.92 \r\nC 227.499881 111.363608 227.141839 106.814251 226.429062 102.313956 \r\nC 225.716285 97.81366 224.650975 93.376324 223.242973 89.042938 \r\nL 140.523881 115.92 \r\nL 227.499881 115.92 \r\nz\r\n\" style=\"fill:#1f77b4;\"/>\r\n   </g>\r\n   <g id=\"patch_3\">\r\n    <path d=\"M 223.242973 89.042938 \r\nC 219.713509 78.180366 214.078675 68.118647 206.66095 59.433606 \r\nC 199.243225 50.748566 190.186864 43.609107 180.010158 38.423816 \r\nL 140.523881 115.92 \r\nL 223.242973 89.042938 \r\nz\r\n\" style=\"fill:#ff7f0e;\"/>\r\n   </g>\r\n   <g id=\"patch_4\">\r\n    <path d=\"M 180.010158 38.423816 \r\nC 169.833453 33.238526 158.734314 30.108245 147.347939 29.212118 \r\nC 135.961564 28.315991 124.50939 29.671445 113.646819 33.200909 \r\nL 140.523881 115.92 \r\nL 180.010158 38.423816 \r\nz\r\n\" style=\"fill:#2ca02c;\"/>\r\n   </g>\r\n   <g id=\"patch_5\">\r\n    <path d=\"M 113.646819 33.200909 \r\nC 102.784247 36.730372 92.722528 42.365206 84.037487 49.782931 \r\nC 75.352447 57.200656 68.212988 66.257017 63.027697 76.433723 \r\nL 140.523881 115.92 \r\nL 113.646819 33.200909 \r\nz\r\n\" style=\"fill:#d62728;\"/>\r\n   </g>\r\n   <g id=\"patch_6\">\r\n    <path d=\"M 63.027697 76.433723 \r\nC 59.92287 82.52729 57.547561 88.965848 55.951035 95.615857 \r\nC 54.354509 102.265866 53.547881 109.081032 53.547881 115.920002 \r\nL 140.523881 115.92 \r\nL 63.027697 76.433723 \r\nz\r\n\" style=\"fill:#9467bd;\"/>\r\n   </g>\r\n   <g id=\"patch_7\">\r\n    <path d=\"M 53.547881 115.920002 \r\nC 53.547881 127.341586 55.797685 138.652109 60.168536 149.204276 \r\nC 64.539387 159.756443 70.946284 169.345042 79.022563 177.421321 \r\nL 140.523881 115.92 \r\nL 53.547881 115.920002 \r\nz\r\n\" style=\"fill:#8c564b;\"/>\r\n   </g>\r\n   <g id=\"patch_8\">\r\n    <path d=\"M 79.022563 177.421321 \r\nC 87.912399 186.311157 98.624946 193.168704 110.420007 197.520131 \r\nC 122.215067 201.871558 134.814572 203.61428 147.347943 202.627882 \r\nC 159.881314 201.641484 172.053076 197.949219 183.022206 191.806211 \r\nC 193.991336 185.663202 203.499236 177.21427 210.888946 167.043206 \r\nL 140.523881 115.92 \r\nL 79.022563 177.421321 \r\nz\r\n\" style=\"fill:#e377c2;\"/>\r\n   </g>\r\n   <g id=\"patch_9\">\r\n    <path d=\"M 210.888946 167.043206 \r\nC 213.567126 163.357007 215.951508 159.466048 218.020067 155.406273 \r\nC 220.088626 151.346497 221.834972 147.130444 223.242974 142.797057 \r\nL 140.523881 115.92 \r\nL 210.888946 167.043206 \r\nz\r\n\" style=\"fill:#7f7f7f;\"/>\r\n   </g>\r\n   <g id=\"patch_10\">\r\n    <path d=\"M 223.242974 142.797057 \r\nC 224.650977 138.46367 225.716287 134.026334 226.429063 129.526038 \r\nC 227.14184 125.025742 227.499881 120.476386 227.499881 115.919994 \r\nL 140.523881 115.92 \r\nL 223.242974 142.797057 \r\nz\r\n\" style=\"fill:#bcbd22;\"/>\r\n   </g>\r\n   <g id=\"matplotlib.axis_1\"/>\r\n   <g id=\"matplotlib.axis_2\"/>\r\n   <g id=\"text_1\">\r\n    <!-- Series 1 -->\r\n    <defs>\r\n     <path d=\"M 53.515625 70.515625 \r\nL 53.515625 60.890625 \r\nQ 47.90625 63.578125 42.921875 64.890625 \r\nQ 37.9375 66.21875 33.296875 66.21875 \r\nQ 25.25 66.21875 20.875 63.09375 \r\nQ 16.5 59.96875 16.5 54.203125 \r\nQ 16.5 49.359375 19.40625 46.890625 \r\nQ 22.3125 44.4375 30.421875 42.921875 \r\nL 36.375 41.703125 \r\nQ 47.40625 39.59375 52.65625 34.296875 \r\nQ 57.90625 29 57.90625 20.125 \r\nQ 57.90625 9.515625 50.796875 4.046875 \r\nQ 43.703125 -1.421875 29.984375 -1.421875 \r\nQ 24.8125 -1.421875 18.96875 -0.25 \r\nQ 13.140625 0.921875 6.890625 3.21875 \r\nL 6.890625 13.375 \r\nQ 12.890625 10.015625 18.65625 8.296875 \r\nQ 24.421875 6.59375 29.984375 6.59375 \r\nQ 38.421875 6.59375 43.015625 9.90625 \r\nQ 47.609375 13.234375 47.609375 19.390625 \r\nQ 47.609375 24.75 44.3125 27.78125 \r\nQ 41.015625 30.8125 33.5 32.328125 \r\nL 27.484375 33.5 \r\nQ 16.453125 35.6875 11.515625 40.375 \r\nQ 6.59375 45.0625 6.59375 53.421875 \r\nQ 6.59375 63.09375 13.40625 68.65625 \r\nQ 20.21875 74.21875 32.171875 74.21875 \r\nQ 37.3125 74.21875 42.625 73.28125 \r\nQ 47.953125 72.359375 53.515625 70.515625 \r\nz\r\n\" id=\"DejaVuSans-83\"/>\r\n     <path d=\"M 56.203125 29.59375 \r\nL 56.203125 25.203125 \r\nL 14.890625 25.203125 \r\nQ 15.484375 15.921875 20.484375 11.0625 \r\nQ 25.484375 6.203125 34.421875 6.203125 \r\nQ 39.59375 6.203125 44.453125 7.46875 \r\nQ 49.3125 8.734375 54.109375 11.28125 \r\nL 54.109375 2.78125 \r\nQ 49.265625 0.734375 44.1875 -0.34375 \r\nQ 39.109375 -1.421875 33.890625 -1.421875 \r\nQ 20.796875 -1.421875 13.15625 6.1875 \r\nQ 5.515625 13.8125 5.515625 26.8125 \r\nQ 5.515625 40.234375 12.765625 48.109375 \r\nQ 20.015625 56 32.328125 56 \r\nQ 43.359375 56 49.78125 48.890625 \r\nQ 56.203125 41.796875 56.203125 29.59375 \r\nz\r\nM 47.21875 32.234375 \r\nQ 47.125 39.59375 43.09375 43.984375 \r\nQ 39.0625 48.390625 32.421875 48.390625 \r\nQ 24.90625 48.390625 20.390625 44.140625 \r\nQ 15.875 39.890625 15.1875 32.171875 \r\nz\r\n\" id=\"DejaVuSans-101\"/>\r\n     <path d=\"M 41.109375 46.296875 \r\nQ 39.59375 47.171875 37.8125 47.578125 \r\nQ 36.03125 48 33.890625 48 \r\nQ 26.265625 48 22.1875 43.046875 \r\nQ 18.109375 38.09375 18.109375 28.8125 \r\nL 18.109375 0 \r\nL 9.078125 0 \r\nL 9.078125 54.6875 \r\nL 18.109375 54.6875 \r\nL 18.109375 46.1875 \r\nQ 20.953125 51.171875 25.484375 53.578125 \r\nQ 30.03125 56 36.53125 56 \r\nQ 37.453125 56 38.578125 55.875 \r\nQ 39.703125 55.765625 41.0625 55.515625 \r\nz\r\n\" id=\"DejaVuSans-114\"/>\r\n     <path d=\"M 9.421875 54.6875 \r\nL 18.40625 54.6875 \r\nL 18.40625 0 \r\nL 9.421875 0 \r\nz\r\nM 9.421875 75.984375 \r\nL 18.40625 75.984375 \r\nL 18.40625 64.59375 \r\nL 9.421875 64.59375 \r\nz\r\n\" id=\"DejaVuSans-105\"/>\r\n     <path d=\"M 44.28125 53.078125 \r\nL 44.28125 44.578125 \r\nQ 40.484375 46.53125 36.375 47.5 \r\nQ 32.28125 48.484375 27.875 48.484375 \r\nQ 21.1875 48.484375 17.84375 46.4375 \r\nQ 14.5 44.390625 14.5 40.28125 \r\nQ 14.5 37.15625 16.890625 35.375 \r\nQ 19.28125 33.59375 26.515625 31.984375 \r\nL 29.59375 31.296875 \r\nQ 39.15625 29.25 43.1875 25.515625 \r\nQ 47.21875 21.78125 47.21875 15.09375 \r\nQ 47.21875 7.46875 41.1875 3.015625 \r\nQ 35.15625 -1.421875 24.609375 -1.421875 \r\nQ 20.21875 -1.421875 15.453125 -0.5625 \r\nQ 10.6875 0.296875 5.421875 2 \r\nL 5.421875 11.28125 \r\nQ 10.40625 8.6875 15.234375 7.390625 \r\nQ 20.0625 6.109375 24.8125 6.109375 \r\nQ 31.15625 6.109375 34.5625 8.28125 \r\nQ 37.984375 10.453125 37.984375 14.40625 \r\nQ 37.984375 18.0625 35.515625 20.015625 \r\nQ 33.0625 21.96875 24.703125 23.78125 \r\nL 21.578125 24.515625 \r\nQ 13.234375 26.265625 9.515625 29.90625 \r\nQ 5.8125 33.546875 5.8125 39.890625 \r\nQ 5.8125 47.609375 11.28125 51.796875 \r\nQ 16.75 56 26.8125 56 \r\nQ 31.78125 56 36.171875 55.265625 \r\nQ 40.578125 54.546875 44.28125 53.078125 \r\nz\r\n\" id=\"DejaVuSans-115\"/>\r\n     <path id=\"DejaVuSans-32\"/>\r\n     <path d=\"M 12.40625 8.296875 \r\nL 28.515625 8.296875 \r\nL 28.515625 63.921875 \r\nL 10.984375 60.40625 \r\nL 10.984375 69.390625 \r\nL 28.421875 72.90625 \r\nL 38.28125 72.90625 \r\nL 38.28125 8.296875 \r\nL 54.390625 8.296875 \r\nL 54.390625 0 \r\nL 12.40625 0 \r\nz\r\n\" id=\"DejaVuSans-49\"/>\r\n    </defs>\r\n    <g transform=\"translate(235.01958 103.712726)scale(0.1 -0.1)\">\r\n     <use xlink:href=\"#DejaVuSans-83\"/>\r\n     <use x=\"63.476562\" xlink:href=\"#DejaVuSans-101\"/>\r\n     <use x=\"125\" xlink:href=\"#DejaVuSans-114\"/>\r\n     <use x=\"166.113281\" xlink:href=\"#DejaVuSans-105\"/>\r\n     <use x=\"193.896484\" xlink:href=\"#DejaVuSans-101\"/>\r\n     <use x=\"255.419922\" xlink:href=\"#DejaVuSans-115\"/>\r\n     <use x=\"307.519531\" xlink:href=\"#DejaVuSans-32\"/>\r\n     <use x=\"339.306641\" xlink:href=\"#DejaVuSans-49\"/>\r\n    </g>\r\n   </g>\r\n   <g id=\"text_2\">\r\n    <!-- Series 2 -->\r\n    <defs>\r\n     <path d=\"M 19.1875 8.296875 \r\nL 53.609375 8.296875 \r\nL 53.609375 0 \r\nL 7.328125 0 \r\nL 7.328125 8.296875 \r\nQ 12.9375 14.109375 22.625 23.890625 \r\nQ 32.328125 33.6875 34.8125 36.53125 \r\nQ 39.546875 41.84375 41.421875 45.53125 \r\nQ 43.3125 49.21875 43.3125 52.78125 \r\nQ 43.3125 58.59375 39.234375 62.25 \r\nQ 35.15625 65.921875 28.609375 65.921875 \r\nQ 23.96875 65.921875 18.8125 64.3125 \r\nQ 13.671875 62.703125 7.8125 59.421875 \r\nL 7.8125 69.390625 \r\nQ 13.765625 71.78125 18.9375 73 \r\nQ 24.125 74.21875 28.421875 74.21875 \r\nQ 39.75 74.21875 46.484375 68.546875 \r\nQ 53.21875 62.890625 53.21875 53.421875 \r\nQ 53.21875 48.921875 51.53125 44.890625 \r\nQ 49.859375 40.875 45.40625 35.40625 \r\nQ 44.1875 33.984375 37.640625 27.21875 \r\nQ 31.109375 20.453125 19.1875 8.296875 \r\nz\r\n\" id=\"DejaVuSans-50\"/>\r\n    </defs>\r\n    <g transform=\"translate(213.274657 56.544342)scale(0.1 -0.1)\">\r\n     <use xlink:href=\"#DejaVuSans-83\"/>\r\n     <use x=\"63.476562\" xlink:href=\"#DejaVuSans-101\"/>\r\n     <use x=\"125\" xlink:href=\"#DejaVuSans-114\"/>\r\n     <use x=\"166.113281\" xlink:href=\"#DejaVuSans-105\"/>\r\n     <use x=\"193.896484\" xlink:href=\"#DejaVuSans-101\"/>\r\n     <use x=\"255.419922\" xlink:href=\"#DejaVuSans-115\"/>\r\n     <use x=\"307.519531\" xlink:href=\"#DejaVuSans-32\"/>\r\n     <use x=\"339.306641\" xlink:href=\"#DejaVuSans-50\"/>\r\n    </g>\r\n   </g>\r\n   <g id=\"text_3\">\r\n    <!-- Series 3 -->\r\n    <defs>\r\n     <path d=\"M 40.578125 39.3125 \r\nQ 47.65625 37.796875 51.625 33 \r\nQ 55.609375 28.21875 55.609375 21.1875 \r\nQ 55.609375 10.40625 48.1875 4.484375 \r\nQ 40.765625 -1.421875 27.09375 -1.421875 \r\nQ 22.515625 -1.421875 17.65625 -0.515625 \r\nQ 12.796875 0.390625 7.625 2.203125 \r\nL 7.625 11.71875 \r\nQ 11.71875 9.328125 16.59375 8.109375 \r\nQ 21.484375 6.890625 26.8125 6.890625 \r\nQ 36.078125 6.890625 40.9375 10.546875 \r\nQ 45.796875 14.203125 45.796875 21.1875 \r\nQ 45.796875 27.640625 41.28125 31.265625 \r\nQ 36.765625 34.90625 28.71875 34.90625 \r\nL 20.21875 34.90625 \r\nL 20.21875 43.015625 \r\nL 29.109375 43.015625 \r\nQ 36.375 43.015625 40.234375 45.921875 \r\nQ 44.09375 48.828125 44.09375 54.296875 \r\nQ 44.09375 59.90625 40.109375 62.90625 \r\nQ 36.140625 65.921875 28.71875 65.921875 \r\nQ 24.65625 65.921875 20.015625 65.03125 \r\nQ 15.375 64.15625 9.8125 62.3125 \r\nL 9.8125 71.09375 \r\nQ 15.4375 72.65625 20.34375 73.4375 \r\nQ 25.25 74.21875 29.59375 74.21875 \r\nQ 40.828125 74.21875 47.359375 69.109375 \r\nQ 53.90625 64.015625 53.90625 55.328125 \r\nQ 53.90625 49.265625 50.4375 45.09375 \r\nQ 46.96875 40.921875 40.578125 39.3125 \r\nz\r\n\" id=\"DejaVuSans-51\"/>\r\n    </defs>\r\n    <g transform=\"translate(148.030345 23.300705)scale(0.1 -0.1)\">\r\n     <use xlink:href=\"#DejaVuSans-83\"/>\r\n     <use x=\"63.476562\" xlink:href=\"#DejaVuSans-101\"/>\r\n     <use x=\"125\" xlink:href=\"#DejaVuSans-114\"/>\r\n     <use x=\"166.113281\" xlink:href=\"#DejaVuSans-105\"/>\r\n     <use x=\"193.896484\" xlink:href=\"#DejaVuSans-101\"/>\r\n     <use x=\"255.419922\" xlink:href=\"#DejaVuSans-115\"/>\r\n     <use x=\"307.519531\" xlink:href=\"#DejaVuSans-32\"/>\r\n     <use x=\"339.306641\" xlink:href=\"#DejaVuSans-51\"/>\r\n    </g>\r\n   </g>\r\n   <g id=\"text_4\">\r\n    <!-- Series 4 -->\r\n    <defs>\r\n     <path d=\"M 37.796875 64.3125 \r\nL 12.890625 25.390625 \r\nL 37.796875 25.390625 \r\nz\r\nM 35.203125 72.90625 \r\nL 47.609375 72.90625 \r\nL 47.609375 25.390625 \r\nL 58.015625 25.390625 \r\nL 58.015625 17.1875 \r\nL 47.609375 17.1875 \r\nL 47.609375 0 \r\nL 37.796875 0 \r\nL 37.796875 17.1875 \r\nL 4.890625 17.1875 \r\nL 4.890625 26.703125 \r\nz\r\n\" id=\"DejaVuSans-52\"/>\r\n    </defs>\r\n    <g transform=\"translate(38.095098 45.928599)scale(0.1 -0.1)\">\r\n     <use xlink:href=\"#DejaVuSans-83\"/>\r\n     <use x=\"63.476562\" xlink:href=\"#DejaVuSans-101\"/>\r\n     <use x=\"125\" xlink:href=\"#DejaVuSans-114\"/>\r\n     <use x=\"166.113281\" xlink:href=\"#DejaVuSans-105\"/>\r\n     <use x=\"193.896484\" xlink:href=\"#DejaVuSans-101\"/>\r\n     <use x=\"255.419922\" xlink:href=\"#DejaVuSans-115\"/>\r\n     <use x=\"307.519531\" xlink:href=\"#DejaVuSans-32\"/>\r\n     <use x=\"339.306641\" xlink:href=\"#DejaVuSans-52\"/>\r\n    </g>\r\n   </g>\r\n   <g id=\"text_5\">\r\n    <!-- Series 6 -->\r\n    <defs>\r\n     <path d=\"M 33.015625 40.375 \r\nQ 26.375 40.375 22.484375 35.828125 \r\nQ 18.609375 31.296875 18.609375 23.390625 \r\nQ 18.609375 15.53125 22.484375 10.953125 \r\nQ 26.375 6.390625 33.015625 6.390625 \r\nQ 39.65625 6.390625 43.53125 10.953125 \r\nQ 47.40625 15.53125 47.40625 23.390625 \r\nQ 47.40625 31.296875 43.53125 35.828125 \r\nQ 39.65625 40.375 33.015625 40.375 \r\nz\r\nM 52.59375 71.296875 \r\nL 52.59375 62.3125 \r\nQ 48.875 64.0625 45.09375 64.984375 \r\nQ 41.3125 65.921875 37.59375 65.921875 \r\nQ 27.828125 65.921875 22.671875 59.328125 \r\nQ 17.53125 52.734375 16.796875 39.40625 \r\nQ 19.671875 43.65625 24.015625 45.921875 \r\nQ 28.375 48.1875 33.59375 48.1875 \r\nQ 44.578125 48.1875 50.953125 41.515625 \r\nQ 57.328125 34.859375 57.328125 23.390625 \r\nQ 57.328125 12.15625 50.6875 5.359375 \r\nQ 44.046875 -1.421875 33.015625 -1.421875 \r\nQ 20.359375 -1.421875 13.671875 8.265625 \r\nQ 6.984375 17.96875 6.984375 36.375 \r\nQ 6.984375 53.65625 15.1875 63.9375 \r\nQ 23.390625 74.21875 37.203125 74.21875 \r\nQ 40.921875 74.21875 44.703125 73.484375 \r\nQ 48.484375 72.75 52.59375 71.296875 \r\nz\r\n\" id=\"DejaVuSans-54\"/>\r\n    </defs>\r\n    <g transform=\"translate(7.2 96.344818)scale(0.1 -0.1)\">\r\n     <use xlink:href=\"#DejaVuSans-83\"/>\r\n     <use x=\"63.476562\" xlink:href=\"#DejaVuSans-101\"/>\r\n     <use x=\"125\" xlink:href=\"#DejaVuSans-114\"/>\r\n     <use x=\"166.113281\" xlink:href=\"#DejaVuSans-105\"/>\r\n     <use x=\"193.896484\" xlink:href=\"#DejaVuSans-101\"/>\r\n     <use x=\"255.419922\" xlink:href=\"#DejaVuSans-115\"/>\r\n     <use x=\"307.519531\" xlink:href=\"#DejaVuSans-32\"/>\r\n     <use x=\"339.306641\" xlink:href=\"#DejaVuSans-54\"/>\r\n    </g>\r\n   </g>\r\n   <g id=\"text_6\">\r\n    <!-- Series 7 -->\r\n    <defs>\r\n     <path d=\"M 8.203125 72.90625 \r\nL 55.078125 72.90625 \r\nL 55.078125 68.703125 \r\nL 28.609375 0 \r\nL 18.3125 0 \r\nL 43.21875 64.59375 \r\nL 8.203125 64.59375 \r\nz\r\n\" id=\"DejaVuSans-55\"/>\r\n    </defs>\r\n    <g transform=\"translate(11.839251 155.292079)scale(0.1 -0.1)\">\r\n     <use xlink:href=\"#DejaVuSans-83\"/>\r\n     <use x=\"63.476562\" xlink:href=\"#DejaVuSans-101\"/>\r\n     <use x=\"125\" xlink:href=\"#DejaVuSans-114\"/>\r\n     <use x=\"166.113281\" xlink:href=\"#DejaVuSans-105\"/>\r\n     <use x=\"193.896484\" xlink:href=\"#DejaVuSans-101\"/>\r\n     <use x=\"255.419922\" xlink:href=\"#DejaVuSans-115\"/>\r\n     <use x=\"307.519531\" xlink:href=\"#DejaVuSans-32\"/>\r\n     <use x=\"339.306641\" xlink:href=\"#DejaVuSans-55\"/>\r\n    </g>\r\n   </g>\r\n   <g id=\"text_7\">\r\n    <!-- Series 9 -->\r\n    <defs>\r\n     <path d=\"M 10.984375 1.515625 \r\nL 10.984375 10.5 \r\nQ 14.703125 8.734375 18.5 7.8125 \r\nQ 22.3125 6.890625 25.984375 6.890625 \r\nQ 35.75 6.890625 40.890625 13.453125 \r\nQ 46.046875 20.015625 46.78125 33.40625 \r\nQ 43.953125 29.203125 39.59375 26.953125 \r\nQ 35.25 24.703125 29.984375 24.703125 \r\nQ 19.046875 24.703125 12.671875 31.3125 \r\nQ 6.296875 37.9375 6.296875 49.421875 \r\nQ 6.296875 60.640625 12.9375 67.421875 \r\nQ 19.578125 74.21875 30.609375 74.21875 \r\nQ 43.265625 74.21875 49.921875 64.515625 \r\nQ 56.59375 54.828125 56.59375 36.375 \r\nQ 56.59375 19.140625 48.40625 8.859375 \r\nQ 40.234375 -1.421875 26.421875 -1.421875 \r\nQ 22.703125 -1.421875 18.890625 -0.6875 \r\nQ 15.09375 0.046875 10.984375 1.515625 \r\nz\r\nM 30.609375 32.421875 \r\nQ 37.25 32.421875 41.125 36.953125 \r\nQ 45.015625 41.5 45.015625 49.421875 \r\nQ 45.015625 57.28125 41.125 61.84375 \r\nQ 37.25 66.40625 30.609375 66.40625 \r\nQ 23.96875 66.40625 20.09375 61.84375 \r\nQ 16.21875 57.28125 16.21875 49.421875 \r\nQ 16.21875 41.5 20.09375 36.953125 \r\nQ 23.96875 32.421875 30.609375 32.421875 \r\nz\r\n\" id=\"DejaVuSans-57\"/>\r\n    </defs>\r\n    <g transform=\"translate(148.030349 214.058045)scale(0.1 -0.1)\">\r\n     <use xlink:href=\"#DejaVuSans-83\"/>\r\n     <use x=\"63.476562\" xlink:href=\"#DejaVuSans-101\"/>\r\n     <use x=\"125\" xlink:href=\"#DejaVuSans-114\"/>\r\n     <use x=\"166.113281\" xlink:href=\"#DejaVuSans-105\"/>\r\n     <use x=\"193.896484\" xlink:href=\"#DejaVuSans-101\"/>\r\n     <use x=\"255.419922\" xlink:href=\"#DejaVuSans-115\"/>\r\n     <use x=\"307.519531\" xlink:href=\"#DejaVuSans-32\"/>\r\n     <use x=\"339.306641\" xlink:href=\"#DejaVuSans-57\"/>\r\n    </g>\r\n   </g>\r\n   <g id=\"text_8\">\r\n    <!-- Series 10 -->\r\n    <defs>\r\n     <path d=\"M 31.78125 66.40625 \r\nQ 24.171875 66.40625 20.328125 58.90625 \r\nQ 16.5 51.421875 16.5 36.375 \r\nQ 16.5 21.390625 20.328125 13.890625 \r\nQ 24.171875 6.390625 31.78125 6.390625 \r\nQ 39.453125 6.390625 43.28125 13.890625 \r\nQ 47.125 21.390625 47.125 36.375 \r\nQ 47.125 51.421875 43.28125 58.90625 \r\nQ 39.453125 66.40625 31.78125 66.40625 \r\nz\r\nM 31.78125 74.21875 \r\nQ 44.046875 74.21875 50.515625 64.515625 \r\nQ 56.984375 54.828125 56.984375 36.375 \r\nQ 56.984375 17.96875 50.515625 8.265625 \r\nQ 44.046875 -1.421875 31.78125 -1.421875 \r\nQ 19.53125 -1.421875 13.0625 8.265625 \r\nQ 6.59375 17.96875 6.59375 36.375 \r\nQ 6.59375 54.828125 13.0625 64.515625 \r\nQ 19.53125 74.21875 31.78125 74.21875 \r\nz\r\n\" id=\"DejaVuSans-48\"/>\r\n    </defs>\r\n    <g transform=\"translate(225.769686 162.114275)scale(0.1 -0.1)\">\r\n     <use xlink:href=\"#DejaVuSans-83\"/>\r\n     <use x=\"63.476562\" xlink:href=\"#DejaVuSans-101\"/>\r\n     <use x=\"125\" xlink:href=\"#DejaVuSans-114\"/>\r\n     <use x=\"166.113281\" xlink:href=\"#DejaVuSans-105\"/>\r\n     <use x=\"193.896484\" xlink:href=\"#DejaVuSans-101\"/>\r\n     <use x=\"255.419922\" xlink:href=\"#DejaVuSans-115\"/>\r\n     <use x=\"307.519531\" xlink:href=\"#DejaVuSans-32\"/>\r\n     <use x=\"339.306641\" xlink:href=\"#DejaVuSans-49\"/>\r\n     <use x=\"402.929688\" xlink:href=\"#DejaVuSans-48\"/>\r\n    </g>\r\n   </g>\r\n   <g id=\"text_9\">\r\n    <!-- Series 11 -->\r\n    <g transform=\"translate(235.019581 133.646017)scale(0.1 -0.1)\">\r\n     <use xlink:href=\"#DejaVuSans-83\"/>\r\n     <use x=\"63.476562\" xlink:href=\"#DejaVuSans-101\"/>\r\n     <use x=\"125\" xlink:href=\"#DejaVuSans-114\"/>\r\n     <use x=\"166.113281\" xlink:href=\"#DejaVuSans-105\"/>\r\n     <use x=\"193.896484\" xlink:href=\"#DejaVuSans-101\"/>\r\n     <use x=\"255.419922\" xlink:href=\"#DejaVuSans-115\"/>\r\n     <use x=\"307.519531\" xlink:href=\"#DejaVuSans-32\"/>\r\n     <use x=\"339.306641\" xlink:href=\"#DejaVuSans-49\"/>\r\n     <use x=\"402.929688\" xlink:href=\"#DejaVuSans-49\"/>\r\n    </g>\r\n   </g>\r\n  </g>\r\n </g>\r\n</svg>\r\n",
      "image/png": "[encoded data removed]"
     },
     "metadata": {}
    }
   ],
   "source": [
    "#get breakdown of some metric for a given flavor\n",
    "flavor = 'Ginger'\n",
    "metric = 'Season'\n",
    "\n",
    "metric_values = {}\n",
    "for i in words[flavor]:\n",
    "    value = clean_data[metric].loc[i]\n",
    "    if value not in metric_values:\n",
    "        metric_values[value] = 1\n",
    "    else:\n",
    "        metric_values[value] = metric_values[value] + 1\n",
    "\n",
    "pp.pie(metric_values.values(), labels=metric_values.keys())\n",
    "metric_values"
   ]
  },
  {
   "cell_type": "code",
   "execution_count": 53,
   "metadata": {},
   "outputs": [
    {
     "output_type": "stream",
     "name": "stdout",
     "text": [
      "The first proportion is calculated as 10/65.\nThe second proportion is calculated as 16/118.\n"
     ]
    },
    {
     "output_type": "display_data",
     "data": {
      "text/plain": "<Figure size 432x288 with 1 Axes>",
      "image/svg+xml": "<?xml version=\"1.0\" encoding=\"utf-8\" standalone=\"no\"?>\r\n<!DOCTYPE svg PUBLIC \"-//W3C//DTD SVG 1.1//EN\"\r\n  \"http://www.w3.org/Graphics/SVG/1.1/DTD/svg11.dtd\">\r\n<!-- Created with matplotlib (https://matplotlib.org/) -->\r\n<svg height=\"231.84pt\" version=\"1.1\" viewBox=\"0 0 231.84 231.84\" width=\"231.84pt\" xmlns=\"http://www.w3.org/2000/svg\" xmlns:xlink=\"http://www.w3.org/1999/xlink\">\r\n <defs>\r\n  <style type=\"text/css\">\r\n*{stroke-linecap:butt;stroke-linejoin:round;}\r\n  </style>\r\n </defs>\r\n <g id=\"figure_1\">\r\n  <g id=\"patch_1\">\r\n   <path d=\"M 0 231.84 \r\nL 231.84 231.84 \r\nL 231.84 0 \r\nL 0 0 \r\nz\r\n\" style=\"fill:none;\"/>\r\n  </g>\r\n  <g id=\"axes_1\">\r\n   <g id=\"patch_2\">\r\n    <path d=\"M 202.896 115.92 \r\nC 202.896 103.773115 200.351388 91.759864 195.426513 80.656152 \r\nC 190.501638 69.55244 183.304863 59.602581 174.301008 51.449213 \r\nC 165.297154 43.295844 154.684332 37.118363 143.147998 33.315758 \r\nC 131.611664 29.513154 119.40565 28.169093 107.318314 29.370387 \r\nC 95.230977 30.57168 83.528274 34.291895 72.966053 40.290753 \r\nC 62.403831 46.289611 53.214492 54.435119 45.99155 64.201179 \r\nC 38.768609 73.967239 33.670991 85.138969 31.027939 96.994815 \r\nC 28.384888 108.850661 28.254558 121.12976 30.645366 133.039036 \r\nL 115.92 115.92 \r\nL 202.896 115.92 \r\nz\r\n\" style=\"fill:#1f77b4;\"/>\r\n   </g>\r\n   <g id=\"patch_3\">\r\n    <path d=\"M 30.645366 133.039036 \r\nC 34.891258 154.188991 46.857409 173.021063 64.201179 185.84845 \r\nC 81.544948 198.675837 103.055509 204.603018 124.521686 202.469613 \r\nC 145.987864 200.336209 165.911034 190.291159 180.390787 174.301008 \r\nC 194.870541 158.310858 202.896 137.491931 202.896 115.92 \r\nL 115.92 115.92 \r\nL 30.645366 133.039036 \r\nz\r\n\" style=\"fill:#ff7f0e;\"/>\r\n   </g>\r\n   <g id=\"matplotlib.axis_1\"/>\r\n   <g id=\"matplotlib.axis_2\"/>\r\n   <g id=\"text_1\">\r\n    <!-- Chocolate -->\r\n    <defs>\r\n     <path d=\"M 64.40625 67.28125 \r\nL 64.40625 56.890625 \r\nQ 59.421875 61.53125 53.78125 63.8125 \r\nQ 48.140625 66.109375 41.796875 66.109375 \r\nQ 29.296875 66.109375 22.65625 58.46875 \r\nQ 16.015625 50.828125 16.015625 36.375 \r\nQ 16.015625 21.96875 22.65625 14.328125 \r\nQ 29.296875 6.6875 41.796875 6.6875 \r\nQ 48.140625 6.6875 53.78125 8.984375 \r\nQ 59.421875 11.28125 64.40625 15.921875 \r\nL 64.40625 5.609375 \r\nQ 59.234375 2.09375 53.4375 0.328125 \r\nQ 47.65625 -1.421875 41.21875 -1.421875 \r\nQ 24.65625 -1.421875 15.125 8.703125 \r\nQ 5.609375 18.84375 5.609375 36.375 \r\nQ 5.609375 53.953125 15.125 64.078125 \r\nQ 24.65625 74.21875 41.21875 74.21875 \r\nQ 47.75 74.21875 53.53125 72.484375 \r\nQ 59.328125 70.75 64.40625 67.28125 \r\nz\r\n\" id=\"DejaVuSans-67\"/>\r\n     <path d=\"M 54.890625 33.015625 \r\nL 54.890625 0 \r\nL 45.90625 0 \r\nL 45.90625 32.71875 \r\nQ 45.90625 40.484375 42.875 44.328125 \r\nQ 39.84375 48.1875 33.796875 48.1875 \r\nQ 26.515625 48.1875 22.3125 43.546875 \r\nQ 18.109375 38.921875 18.109375 30.90625 \r\nL 18.109375 0 \r\nL 9.078125 0 \r\nL 9.078125 75.984375 \r\nL 18.109375 75.984375 \r\nL 18.109375 46.1875 \r\nQ 21.34375 51.125 25.703125 53.5625 \r\nQ 30.078125 56 35.796875 56 \r\nQ 45.21875 56 50.046875 50.171875 \r\nQ 54.890625 44.34375 54.890625 33.015625 \r\nz\r\n\" id=\"DejaVuSans-104\"/>\r\n     <path d=\"M 30.609375 48.390625 \r\nQ 23.390625 48.390625 19.1875 42.75 \r\nQ 14.984375 37.109375 14.984375 27.296875 \r\nQ 14.984375 17.484375 19.15625 11.84375 \r\nQ 23.34375 6.203125 30.609375 6.203125 \r\nQ 37.796875 6.203125 41.984375 11.859375 \r\nQ 46.1875 17.53125 46.1875 27.296875 \r\nQ 46.1875 37.015625 41.984375 42.703125 \r\nQ 37.796875 48.390625 30.609375 48.390625 \r\nz\r\nM 30.609375 56 \r\nQ 42.328125 56 49.015625 48.375 \r\nQ 55.71875 40.765625 55.71875 27.296875 \r\nQ 55.71875 13.875 49.015625 6.21875 \r\nQ 42.328125 -1.421875 30.609375 -1.421875 \r\nQ 18.84375 -1.421875 12.171875 6.21875 \r\nQ 5.515625 13.875 5.515625 27.296875 \r\nQ 5.515625 40.765625 12.171875 48.375 \r\nQ 18.84375 56 30.609375 56 \r\nz\r\n\" id=\"DejaVuSans-111\"/>\r\n     <path d=\"M 48.78125 52.59375 \r\nL 48.78125 44.1875 \r\nQ 44.96875 46.296875 41.140625 47.34375 \r\nQ 37.3125 48.390625 33.40625 48.390625 \r\nQ 24.65625 48.390625 19.8125 42.84375 \r\nQ 14.984375 37.3125 14.984375 27.296875 \r\nQ 14.984375 17.28125 19.8125 11.734375 \r\nQ 24.65625 6.203125 33.40625 6.203125 \r\nQ 37.3125 6.203125 41.140625 7.25 \r\nQ 44.96875 8.296875 48.78125 10.40625 \r\nL 48.78125 2.09375 \r\nQ 45.015625 0.34375 40.984375 -0.53125 \r\nQ 36.96875 -1.421875 32.421875 -1.421875 \r\nQ 20.0625 -1.421875 12.78125 6.34375 \r\nQ 5.515625 14.109375 5.515625 27.296875 \r\nQ 5.515625 40.671875 12.859375 48.328125 \r\nQ 20.21875 56 33.015625 56 \r\nQ 37.15625 56 41.109375 55.140625 \r\nQ 45.0625 54.296875 48.78125 52.59375 \r\nz\r\n\" id=\"DejaVuSans-99\"/>\r\n     <path d=\"M 9.421875 75.984375 \r\nL 18.40625 75.984375 \r\nL 18.40625 0 \r\nL 9.421875 0 \r\nz\r\n\" id=\"DejaVuSans-108\"/>\r\n     <path d=\"M 34.28125 27.484375 \r\nQ 23.390625 27.484375 19.1875 25 \r\nQ 14.984375 22.515625 14.984375 16.5 \r\nQ 14.984375 11.71875 18.140625 8.90625 \r\nQ 21.296875 6.109375 26.703125 6.109375 \r\nQ 34.1875 6.109375 38.703125 11.40625 \r\nQ 43.21875 16.703125 43.21875 25.484375 \r\nL 43.21875 27.484375 \r\nz\r\nM 52.203125 31.203125 \r\nL 52.203125 0 \r\nL 43.21875 0 \r\nL 43.21875 8.296875 \r\nQ 40.140625 3.328125 35.546875 0.953125 \r\nQ 30.953125 -1.421875 24.3125 -1.421875 \r\nQ 15.921875 -1.421875 10.953125 3.296875 \r\nQ 6 8.015625 6 15.921875 \r\nQ 6 25.140625 12.171875 29.828125 \r\nQ 18.359375 34.515625 30.609375 34.515625 \r\nL 43.21875 34.515625 \r\nL 43.21875 35.40625 \r\nQ 43.21875 41.609375 39.140625 45 \r\nQ 35.0625 48.390625 27.6875 48.390625 \r\nQ 23 48.390625 18.546875 47.265625 \r\nQ 14.109375 46.140625 10.015625 43.890625 \r\nL 10.015625 52.203125 \r\nQ 14.9375 54.109375 19.578125 55.046875 \r\nQ 24.21875 56 28.609375 56 \r\nQ 40.484375 56 46.34375 49.84375 \r\nQ 52.203125 43.703125 52.203125 31.203125 \r\nz\r\n\" id=\"DejaVuSans-97\"/>\r\n     <path d=\"M 18.3125 70.21875 \r\nL 18.3125 54.6875 \r\nL 36.8125 54.6875 \r\nL 36.8125 47.703125 \r\nL 18.3125 47.703125 \r\nL 18.3125 18.015625 \r\nQ 18.3125 11.328125 20.140625 9.421875 \r\nQ 21.96875 7.515625 27.59375 7.515625 \r\nL 36.8125 7.515625 \r\nL 36.8125 0 \r\nL 27.59375 0 \r\nQ 17.1875 0 13.234375 3.875 \r\nQ 9.28125 7.765625 9.28125 18.015625 \r\nL 9.28125 47.703125 \r\nL 2.6875 47.703125 \r\nL 2.6875 54.6875 \r\nL 9.28125 54.6875 \r\nL 9.28125 70.21875 \r\nz\r\n\" id=\"DejaVuSans-116\"/>\r\n     <path d=\"M 56.203125 29.59375 \r\nL 56.203125 25.203125 \r\nL 14.890625 25.203125 \r\nQ 15.484375 15.921875 20.484375 11.0625 \r\nQ 25.484375 6.203125 34.421875 6.203125 \r\nQ 39.59375 6.203125 44.453125 7.46875 \r\nQ 49.3125 8.734375 54.109375 11.28125 \r\nL 54.109375 2.78125 \r\nQ 49.265625 0.734375 44.1875 -0.34375 \r\nQ 39.109375 -1.421875 33.890625 -1.421875 \r\nQ 20.796875 -1.421875 13.15625 6.1875 \r\nQ 5.515625 13.8125 5.515625 26.8125 \r\nQ 5.515625 40.234375 12.765625 48.109375 \r\nQ 20.015625 56 32.328125 56 \r\nQ 43.359375 56 49.78125 48.890625 \r\nQ 56.203125 41.796875 56.203125 29.59375 \r\nz\r\nM 47.21875 32.234375 \r\nQ 47.125 39.59375 43.09375 43.984375 \r\nQ 39.0625 48.390625 32.421875 48.390625 \r\nQ 24.90625 48.390625 20.390625 44.140625 \r\nQ 15.875 39.890625 15.1875 32.171875 \r\nz\r\n\" id=\"DejaVuSans-101\"/>\r\n    </defs>\r\n    <g transform=\"translate(56.422207 23.4748)scale(0.1 -0.1)\">\r\n     <use xlink:href=\"#DejaVuSans-67\"/>\r\n     <use x=\"69.824219\" xlink:href=\"#DejaVuSans-104\"/>\r\n     <use x=\"133.203125\" xlink:href=\"#DejaVuSans-111\"/>\r\n     <use x=\"194.384766\" xlink:href=\"#DejaVuSans-99\"/>\r\n     <use x=\"249.365234\" xlink:href=\"#DejaVuSans-111\"/>\r\n     <use x=\"310.546875\" xlink:href=\"#DejaVuSans-108\"/>\r\n     <use x=\"338.330078\" xlink:href=\"#DejaVuSans-97\"/>\r\n     <use x=\"399.609375\" xlink:href=\"#DejaVuSans-116\"/>\r\n     <use x=\"438.818359\" xlink:href=\"#DejaVuSans-101\"/>\r\n    </g>\r\n   </g>\r\n   <g id=\"text_2\">\r\n    <!-- Cake -->\r\n    <defs>\r\n     <path d=\"M 9.078125 75.984375 \r\nL 18.109375 75.984375 \r\nL 18.109375 31.109375 \r\nL 44.921875 54.6875 \r\nL 56.390625 54.6875 \r\nL 27.390625 29.109375 \r\nL 57.625 0 \r\nL 45.90625 0 \r\nL 18.109375 26.703125 \r\nL 18.109375 0 \r\nL 9.078125 0 \r\nz\r\n\" id=\"DejaVuSans-107\"/>\r\n    </defs>\r\n    <g transform=\"translate(125.381855 213.88395)scale(0.1 -0.1)\">\r\n     <use xlink:href=\"#DejaVuSans-67\"/>\r\n     <use x=\"69.824219\" xlink:href=\"#DejaVuSans-97\"/>\r\n     <use x=\"131.103516\" xlink:href=\"#DejaVuSans-107\"/>\r\n     <use x=\"185.388672\" xlink:href=\"#DejaVuSans-101\"/>\r\n    </g>\r\n   </g>\r\n  </g>\r\n </g>\r\n</svg>\r\n",
      "image/png": "[encoded data removed]"
     },
     "metadata": {}
    }
   ],
   "source": [
    "#comparison of proportions for two flavors\n",
    "flavor1 = 'Chocolate'\n",
    "flavor2 = 'Cake'\n",
    "metric = 'Eliminated'\n",
    "\n",
    "metric_data = clean_data[metric]\n",
    "flavor1_data = metric_data[words[flavor1]]\n",
    "flavor2_data = metric_data[words[flavor2]]\n",
    "print(f'The first proportion is calculated as {np.sum(flavor1_data)}/{len(flavor1_data)}.')\n",
    "prop1 = np.sum(flavor1_data)/len(flavor1_data)\n",
    "print(f'The second proportion is calculated as {np.sum(flavor2_data)}/{len(flavor2_data)}.')\n",
    "prop2 = np.sum(flavor2_data)/len(flavor2_data)\n",
    "\n",
    "plot = pp.pie([prop1*100, prop2*100], labels=[flavor1, flavor2])\n",
    "pp.show(plot)"
   ]
  },
  {
   "cell_type": "code",
   "execution_count": null,
   "metadata": {},
   "outputs": [],
   "source": []
  }
 ]
}