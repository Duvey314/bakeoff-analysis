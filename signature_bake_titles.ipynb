{
 "metadata": {
  "language_info": {
   "codemirror_mode": {
    "name": "ipython",
    "version": 3
   },
   "file_extension": ".py",
   "mimetype": "text/x-python",
   "name": "python",
   "nbconvert_exporter": "python",
   "pygments_lexer": "ipython3",
   "version": "3.8.3-final"
  },
  "orig_nbformat": 2,
  "kernelspec": {
   "name": "python3",
   "display_name": "Python 3",
   "language": "python"
  }
 },
 "nbformat": 4,
 "nbformat_minor": 2,
 "cells": [
  {
   "cell_type": "code",
   "execution_count": 2,
   "metadata": {},
   "outputs": [],
   "source": [
    "import pandas as pd\n",
    "import numpy as np"
   ]
  },
  {
   "cell_type": "code",
   "execution_count": 3,
   "metadata": {},
   "outputs": [
    {
     "output_type": "execute_result",
     "data": {
      "text/plain": [
       "     Season  Week Number      Baker Week Name  Bake  \\\n",
       "0  Series 1            1    Annetha      Cake  Cake   \n",
       "1  Series 1            1      David      Cake  Cake   \n",
       "2  Series 1            1        Edd      Cake  Cake   \n",
       "3  Series 1            1  Jasminder      Cake  Cake   \n",
       "4  Series 1            1   Jonathan      Cake  Cake   \n",
       "\n",
       "                                      Signature Bake  \\\n",
       "0  Light Jamaican Black Cake with Strawberries an...   \n",
       "1                              Chocolate Orange Cake   \n",
       "2                   Caramel Cinnamon and Banana Cake   \n",
       "3     Fresh Mango and Passion Fruit Hummingbird Cake   \n",
       "4       Carrot Cake with Lime and Cream Cheese Icing   \n",
       "\n",
       "  Signature Time Allotment (hours) Signature Sweet (1) or Savory (0)  \\\n",
       "0                                3                                 1   \n",
       "1                                3                                 1   \n",
       "2                                3                                 1   \n",
       "3                                3                                 1   \n",
       "4                                3                                 1   \n",
       "\n",
       "  Signature Quantity  Signature Handshake  ...  \\\n",
       "0                  1                    0  ...   \n",
       "1                  1                    0  ...   \n",
       "2                  1                    0  ...   \n",
       "3                  1                    0  ...   \n",
       "4                  1                    0  ...   \n",
       "\n",
       "  Showstopper Sweet (1) or Savory (0) Showstopper Quantity  \\\n",
       "0                                   1                    1   \n",
       "1                                   1                    1   \n",
       "2                                   1                    1   \n",
       "3                                   1                    1   \n",
       "4                                   1                    1   \n",
       "\n",
       "  Showstopper Handshake  Favorite Least Favorite  Star Baker Eliminated  \\\n",
       "0                     0       1.0              0           0          0   \n",
       "1                     0       0.0              1           0          0   \n",
       "2                     0       0.0              0           0          0   \n",
       "3                     0       0.0              0           0          0   \n",
       "4                     0       0.0              0           0          0   \n",
       "\n",
       "  Competed Winner UK viewers (millions)  \n",
       "0        1      0                   NaN  \n",
       "1        1      0                   NaN  \n",
       "2        1      1                   NaN  \n",
       "3        1      0                   NaN  \n",
       "4        1      0                   NaN  \n",
       "\n",
       "[5 rows x 29 columns]"
      ],
      "text/html": "<div>\n<style scoped>\n    .dataframe tbody tr th:only-of-type {\n        vertical-align: middle;\n    }\n\n    .dataframe tbody tr th {\n        vertical-align: top;\n    }\n\n    .dataframe thead th {\n        text-align: right;\n    }\n</style>\n<table border=\"1\" class=\"dataframe\">\n  <thead>\n    <tr style=\"text-align: right;\">\n      <th></th>\n      <th>Season</th>\n      <th>Week Number</th>\n      <th>Baker</th>\n      <th>Week Name</th>\n      <th>Bake</th>\n      <th>Signature Bake</th>\n      <th>Signature Time Allotment (hours)</th>\n      <th>Signature Sweet (1) or Savory (0)</th>\n      <th>Signature Quantity</th>\n      <th>Signature Handshake</th>\n      <th>...</th>\n      <th>Showstopper Sweet (1) or Savory (0)</th>\n      <th>Showstopper Quantity</th>\n      <th>Showstopper Handshake</th>\n      <th>Favorite</th>\n      <th>Least Favorite</th>\n      <th>Star Baker</th>\n      <th>Eliminated</th>\n      <th>Competed</th>\n      <th>Winner</th>\n      <th>UK viewers (millions)</th>\n    </tr>\n  </thead>\n  <tbody>\n    <tr>\n      <th>0</th>\n      <td>Series 1</td>\n      <td>1</td>\n      <td>Annetha</td>\n      <td>Cake</td>\n      <td>Cake</td>\n      <td>Light Jamaican Black Cake with Strawberries an...</td>\n      <td>3</td>\n      <td>1</td>\n      <td>1</td>\n      <td>0</td>\n      <td>...</td>\n      <td>1</td>\n      <td>1</td>\n      <td>0</td>\n      <td>1.0</td>\n      <td>0</td>\n      <td>0</td>\n      <td>0</td>\n      <td>1</td>\n      <td>0</td>\n      <td>NaN</td>\n    </tr>\n    <tr>\n      <th>1</th>\n      <td>Series 1</td>\n      <td>1</td>\n      <td>David</td>\n      <td>Cake</td>\n      <td>Cake</td>\n      <td>Chocolate Orange Cake</td>\n      <td>3</td>\n      <td>1</td>\n      <td>1</td>\n      <td>0</td>\n      <td>...</td>\n      <td>1</td>\n      <td>1</td>\n      <td>0</td>\n      <td>0.0</td>\n      <td>1</td>\n      <td>0</td>\n      <td>0</td>\n      <td>1</td>\n      <td>0</td>\n      <td>NaN</td>\n    </tr>\n    <tr>\n      <th>2</th>\n      <td>Series 1</td>\n      <td>1</td>\n      <td>Edd</td>\n      <td>Cake</td>\n      <td>Cake</td>\n      <td>Caramel Cinnamon and Banana Cake</td>\n      <td>3</td>\n      <td>1</td>\n      <td>1</td>\n      <td>0</td>\n      <td>...</td>\n      <td>1</td>\n      <td>1</td>\n      <td>0</td>\n      <td>0.0</td>\n      <td>0</td>\n      <td>0</td>\n      <td>0</td>\n      <td>1</td>\n      <td>1</td>\n      <td>NaN</td>\n    </tr>\n    <tr>\n      <th>3</th>\n      <td>Series 1</td>\n      <td>1</td>\n      <td>Jasminder</td>\n      <td>Cake</td>\n      <td>Cake</td>\n      <td>Fresh Mango and Passion Fruit Hummingbird Cake</td>\n      <td>3</td>\n      <td>1</td>\n      <td>1</td>\n      <td>0</td>\n      <td>...</td>\n      <td>1</td>\n      <td>1</td>\n      <td>0</td>\n      <td>0.0</td>\n      <td>0</td>\n      <td>0</td>\n      <td>0</td>\n      <td>1</td>\n      <td>0</td>\n      <td>NaN</td>\n    </tr>\n    <tr>\n      <th>4</th>\n      <td>Series 1</td>\n      <td>1</td>\n      <td>Jonathan</td>\n      <td>Cake</td>\n      <td>Cake</td>\n      <td>Carrot Cake with Lime and Cream Cheese Icing</td>\n      <td>3</td>\n      <td>1</td>\n      <td>1</td>\n      <td>0</td>\n      <td>...</td>\n      <td>1</td>\n      <td>1</td>\n      <td>0</td>\n      <td>0.0</td>\n      <td>0</td>\n      <td>0</td>\n      <td>0</td>\n      <td>1</td>\n      <td>0</td>\n      <td>NaN</td>\n    </tr>\n  </tbody>\n</table>\n<p>5 rows × 29 columns</p>\n</div>"
     },
     "metadata": {},
     "execution_count": 3
    }
   ],
   "source": [
    "raw_data = pd.read_csv('GBBO Data Set - Bakes.csv')\n",
    "raw_data.head()"
   ]
  },
  {
   "cell_type": "code",
   "execution_count": 4,
   "metadata": {},
   "outputs": [
    {
     "output_type": "execute_result",
     "data": {
      "text/plain": [
       "Season                                  object\n",
       "Week Number                              int64\n",
       "Baker                                   object\n",
       "Week Name                               object\n",
       "Bake                                    object\n",
       "Signature Bake                          object\n",
       "Signature Time Allotment (hours)        object\n",
       "Signature Sweet (1) or Savory (0)       object\n",
       "Signature Quantity                      object\n",
       "Signature Handshake                      int64\n",
       "Technical Bake                          object\n",
       "Technical Recipe Writer                 object\n",
       "Technical Time Allotment (hours)        object\n",
       "Technical Sweet (1) or Savory (0)      float64\n",
       "Technical Quantity                      object\n",
       "Technical Rank                         float64\n",
       "Showstopper                             object\n",
       "Showstopper Bake                        object\n",
       "Showstopper Time Allotment (hours)      object\n",
       "Showstopper Sweet (1) or Savory (0)     object\n",
       "Showstopper Quantity                    object\n",
       "Showstopper Handshake                    int64\n",
       "Favorite                               float64\n",
       "Least Favorite                           int64\n",
       "Star Baker                               int64\n",
       "Eliminated                               int64\n",
       "Competed                                 int64\n",
       "Winner                                   int64\n",
       "UK viewers (millions)                  float64\n",
       "dtype: object"
      ]
     },
     "metadata": {},
     "execution_count": 4
    }
   ],
   "source": [
    "raw_data.dtypes"
   ]
  },
  {
   "cell_type": "code",
   "execution_count": 5,
   "metadata": {},
   "outputs": [
    {
     "output_type": "execute_result",
     "data": {
      "text/plain": [
       "     Season  Week Number      Baker  Bake  \\\n",
       "0  Series 1            1    Annetha  Cake   \n",
       "1  Series 1            1      David  Cake   \n",
       "2  Series 1            1        Edd  Cake   \n",
       "3  Series 1            1  Jasminder  Cake   \n",
       "4  Series 1            1   Jonathan  Cake   \n",
       "\n",
       "                                      Signature Bake  Sweet  Handshake  \\\n",
       "0  Light Jamaican Black Cake with Strawberries an...   True      False   \n",
       "1                              Chocolate Orange Cake   True      False   \n",
       "2                   Caramel Cinnamon and Banana Cake   True      False   \n",
       "3     Fresh Mango and Passion Fruit Hummingbird Cake   True      False   \n",
       "4       Carrot Cake with Lime and Cream Cheese Icing   True      False   \n",
       "\n",
       "   Favorite  Least Favorite  Star Baker  Eliminated  Winner  \n",
       "0      True           False       False       False   False  \n",
       "1     False            True       False       False   False  \n",
       "2     False           False       False       False    True  \n",
       "3     False           False       False       False   False  \n",
       "4     False           False       False       False   False  "
      ],
      "text/html": "<div>\n<style scoped>\n    .dataframe tbody tr th:only-of-type {\n        vertical-align: middle;\n    }\n\n    .dataframe tbody tr th {\n        vertical-align: top;\n    }\n\n    .dataframe thead th {\n        text-align: right;\n    }\n</style>\n<table border=\"1\" class=\"dataframe\">\n  <thead>\n    <tr style=\"text-align: right;\">\n      <th></th>\n      <th>Season</th>\n      <th>Week Number</th>\n      <th>Baker</th>\n      <th>Bake</th>\n      <th>Signature Bake</th>\n      <th>Sweet</th>\n      <th>Handshake</th>\n      <th>Favorite</th>\n      <th>Least Favorite</th>\n      <th>Star Baker</th>\n      <th>Eliminated</th>\n      <th>Winner</th>\n    </tr>\n  </thead>\n  <tbody>\n    <tr>\n      <th>0</th>\n      <td>Series 1</td>\n      <td>1</td>\n      <td>Annetha</td>\n      <td>Cake</td>\n      <td>Light Jamaican Black Cake with Strawberries an...</td>\n      <td>True</td>\n      <td>False</td>\n      <td>True</td>\n      <td>False</td>\n      <td>False</td>\n      <td>False</td>\n      <td>False</td>\n    </tr>\n    <tr>\n      <th>1</th>\n      <td>Series 1</td>\n      <td>1</td>\n      <td>David</td>\n      <td>Cake</td>\n      <td>Chocolate Orange Cake</td>\n      <td>True</td>\n      <td>False</td>\n      <td>False</td>\n      <td>True</td>\n      <td>False</td>\n      <td>False</td>\n      <td>False</td>\n    </tr>\n    <tr>\n      <th>2</th>\n      <td>Series 1</td>\n      <td>1</td>\n      <td>Edd</td>\n      <td>Cake</td>\n      <td>Caramel Cinnamon and Banana Cake</td>\n      <td>True</td>\n      <td>False</td>\n      <td>False</td>\n      <td>False</td>\n      <td>False</td>\n      <td>False</td>\n      <td>True</td>\n    </tr>\n    <tr>\n      <th>3</th>\n      <td>Series 1</td>\n      <td>1</td>\n      <td>Jasminder</td>\n      <td>Cake</td>\n      <td>Fresh Mango and Passion Fruit Hummingbird Cake</td>\n      <td>True</td>\n      <td>False</td>\n      <td>False</td>\n      <td>False</td>\n      <td>False</td>\n      <td>False</td>\n      <td>False</td>\n    </tr>\n    <tr>\n      <th>4</th>\n      <td>Series 1</td>\n      <td>1</td>\n      <td>Jonathan</td>\n      <td>Cake</td>\n      <td>Carrot Cake with Lime and Cream Cheese Icing</td>\n      <td>True</td>\n      <td>False</td>\n      <td>False</td>\n      <td>False</td>\n      <td>False</td>\n      <td>False</td>\n      <td>False</td>\n    </tr>\n  </tbody>\n</table>\n</div>"
     },
     "metadata": {},
     "execution_count": 5
    }
   ],
   "source": [
    "clean_data = raw_data[[\"Season\",\"Week Number\",\"Baker\",\"Bake\",\"Signature Bake\"]]\n",
    "clean_data[\"Sweet\"] = raw_data[\"Signature Sweet (1) or Savory (0)\"].astype(\"bool\")\n",
    "clean_data[\"Handshake\"] = raw_data[\"Signature Handshake\"].astype(\"bool\")\n",
    "clean_data = pd.concat([clean_data,raw_data[[\"Favorite\",\"Least Favorite\",\"Star Baker\",\"Eliminated\",\"Winner\"]].astype(\"bool\")], axis=1)\n",
    "clean_data.head()"
   ]
  },
  {
   "cell_type": "code",
   "execution_count": 20,
   "metadata": {},
   "outputs": [
    {
     "output_type": "error",
     "ename": "TypeError",
     "evalue": "must be str or None, not numpy.ndarray",
     "traceback": [
      "\u001b[1;31m---------------------------------------------------------------------------\u001b[0m",
      "\u001b[1;31mTypeError\u001b[0m                                 Traceback (most recent call last)",
      "\u001b[1;32m<ipython-input-20-5714c22ee715>\u001b[0m in \u001b[0;36m<module>\u001b[1;34m\u001b[0m\n\u001b[0;32m     13\u001b[0m         \u001b[1;32mbreak\u001b[0m\u001b[1;33m\u001b[0m\u001b[1;33m\u001b[0m\u001b[0m\n\u001b[0;32m     14\u001b[0m \u001b[1;33m\u001b[0m\u001b[0m\n\u001b[1;32m---> 15\u001b[1;33m \u001b[0munique_words\u001b[0m\u001b[1;33m,\u001b[0m \u001b[0ma\u001b[0m\u001b[1;33m,\u001b[0m \u001b[0mb\u001b[0m\u001b[1;33m,\u001b[0m \u001b[0munique_counts\u001b[0m \u001b[1;33m=\u001b[0m \u001b[1;34m\"\"\u001b[0m\u001b[1;33m.\u001b[0m\u001b[0msplit\u001b[0m\u001b[1;33m(\u001b[0m\u001b[0mnp\u001b[0m\u001b[1;33m.\u001b[0m\u001b[0munique\u001b[0m\u001b[1;33m(\u001b[0m\u001b[0mwords\u001b[0m\u001b[1;33m)\u001b[0m\u001b[1;33m)\u001b[0m\u001b[1;33m\u001b[0m\u001b[1;33m\u001b[0m\u001b[0m\n\u001b[0m\u001b[0;32m     16\u001b[0m \u001b[0mwords_with_counts\u001b[0m \u001b[1;33m=\u001b[0m \u001b[0mpd\u001b[0m\u001b[1;33m.\u001b[0m\u001b[0mDataFrame\u001b[0m\u001b[1;33m(\u001b[0m\u001b[0mdata\u001b[0m\u001b[1;33m=\u001b[0m\u001b[1;33m[\u001b[0m\u001b[0munique_words\u001b[0m\u001b[1;33m,\u001b[0m \u001b[0munique_counts\u001b[0m\u001b[1;33m]\u001b[0m\u001b[1;33m,\u001b[0m\u001b[0mcolumns\u001b[0m\u001b[1;33m=\u001b[0m\u001b[1;33m[\u001b[0m\u001b[1;34m\"Words in Titles\"\u001b[0m\u001b[1;33m,\u001b[0m\u001b[1;34m\"Number of Occurrences\"\u001b[0m\u001b[1;33m]\u001b[0m\u001b[1;33m)\u001b[0m\u001b[1;33m\u001b[0m\u001b[1;33m\u001b[0m\u001b[0m\n\u001b[0;32m     17\u001b[0m \u001b[0mprint\u001b[0m\u001b[1;33m(\u001b[0m\u001b[0mwords_with_counts\u001b[0m\u001b[1;33m)\u001b[0m\u001b[1;33m\u001b[0m\u001b[1;33m\u001b[0m\u001b[0m\n",
      "\u001b[1;31mTypeError\u001b[0m: must be str or None, not numpy.ndarray"
     ]
    }
   ],
   "source": [
    "titles = clean_data[\"Signature Bake\"]\n",
    "words = []\n",
    "numErrors = 0\n",
    "for title in titles:\n",
    "    try:\n",
    "        if(type(title) is str):\n",
    "            words_in_title = title.split(\" \")\n",
    "            words.extend(words_in_title)\n",
    "    except Exception as e:\n",
    "        numErrors = numErrors + 1\n",
    "        print(e)\n",
    "        print(title)\n",
    "        break\n",
    "\n",
    "unique_words, a, b, unique_counts = np.unique(words)\n",
    "words_with_counts = pd.DataFrame(data=[unique_words, unique_counts],columns=[\"Words in Titles\",\"Number of Occurrences\"])\n",
    "print(words_with_counts)\n",
    "print(numErrors)"
   ]
  },
  {
   "cell_type": "code",
   "execution_count": null,
   "metadata": {},
   "outputs": [],
   "source": []
  }
 ]
}